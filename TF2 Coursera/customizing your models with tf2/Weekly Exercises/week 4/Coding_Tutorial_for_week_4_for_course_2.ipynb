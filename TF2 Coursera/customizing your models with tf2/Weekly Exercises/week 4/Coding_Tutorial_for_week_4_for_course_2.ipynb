{
  "nbformat": 4,
  "nbformat_minor": 0,
  "metadata": {
    "kernelspec": {
      "display_name": "Python 3",
      "language": "python",
      "name": "python3"
    },
    "language_info": {
      "codemirror_mode": {
        "name": "ipython",
        "version": 3
      },
      "file_extension": ".py",
      "mimetype": "text/x-python",
      "name": "python",
      "nbconvert_exporter": "python",
      "pygments_lexer": "ipython3",
      "version": "3.7.1"
    },
    "colab": {
      "name": "Coding Tutorial for week 4 for course 2.ipynb",
      "provenance": [],
      "collapsed_sections": [
        "mYDtQj5cpZAx",
        "22ObAZ7ppZAx"
      ]
    }
  },
  "cells": [
    {
      "cell_type": "code",
      "metadata": {
        "id": "UEffYyrWpZAw",
        "colab": {
          "base_uri": "https://localhost:8080/"
        },
        "outputId": "7921936e-544c-4750-c1af-8c6f72a7d22f"
      },
      "source": [
        "import tensorflow as tf\n",
        "print(tf.__version__)"
      ],
      "execution_count": 1,
      "outputs": [
        {
          "output_type": "stream",
          "text": [
            "2.3.0\n"
          ],
          "name": "stdout"
        }
      ]
    },
    {
      "cell_type": "markdown",
      "metadata": {
        "id": "7im0rUrYpZAx"
      },
      "source": [
        "# Model subclassing and custom training loops"
      ]
    },
    {
      "cell_type": "markdown",
      "metadata": {
        "id": "myXVAqIPpZAx"
      },
      "source": [
        " ## Coding tutorials\n",
        " #### [1. Model subclassing](#coding_tutorial_1)\n",
        " #### [2. Custom layers](#coding_tutorial_2)\n",
        " #### [3. Automatic differentiation](#coding_tutorial_3)\n",
        " #### [4. Custom training loops](#coding_tutorial_4)\n",
        " #### [5. tf.function decorator](#coding_tutorial_5)"
      ]
    },
    {
      "cell_type": "markdown",
      "metadata": {
        "id": "mYDtQj5cpZAx"
      },
      "source": [
        "***\n",
        "<a id=\"coding_tutorial_1\"></a>\n",
        "## Model subclassing"
      ]
    },
    {
      "cell_type": "code",
      "metadata": {
        "id": "2uJxSTBepZAx"
      },
      "source": [
        "from tensorflow.keras.models import Model\n",
        "from tensorflow.keras.layers import Dense, Dropout, Softmax, concatenate"
      ],
      "execution_count": null,
      "outputs": []
    },
    {
      "cell_type": "markdown",
      "metadata": {
        "id": "j8wsTYtdpZAx"
      },
      "source": [
        "#### Create a simple model using the model subclassing API"
      ]
    },
    {
      "cell_type": "code",
      "metadata": {
        "id": "8t3bbWkipZAx"
      },
      "source": [
        "# Build the model\n",
        "\n",
        "# class MyModel(Model):\n",
        "    \n",
        "#     def __init__(self):\n",
        "#         super(MyModel,self).__init__()\n",
        "#         self.Dense_1=Dense(64,activation='relu')\n",
        "#         self.Dense_2=Dense(10)\n",
        "        \n",
        "#     def call(self,inputs):\n",
        "#         x=self.Dense_1(inputs)\n",
        "#         return self.Dense_2(x)\n",
        "\n",
        "\n",
        "\n",
        "# class MyModel(Model):\n",
        "    \n",
        "#     def __init__(self):\n",
        "#         super(MyModel,self).__init__()\n",
        "#         self.Dense_1=Dense(64,activation='relu')\n",
        "#         self.Dense_2=Dense(10)\n",
        "#         self.dropout=Dropout(0.4)\n",
        "        \n",
        "#     def call(self,inputs,training=True):\n",
        "#         x=self.Dense_1(inputs)\n",
        "#         if training:\n",
        "#             x=self.dropout(x)\n",
        "#         return self.Dense_2(x)\n",
        " \n",
        "\n",
        "\n",
        "\n",
        "class MyModel(Model):\n",
        "    \n",
        "    def __init__(self):\n",
        "        super(MyModel,self).__init__()\n",
        "        self.Dense_1=Dense(64,activation='relu')\n",
        "        self.Dense_2=Dense(10)\n",
        "        self.Dense_3=Dense(5)\n",
        "        self.softmax=Softmax()\n",
        "        \n",
        "    def call(self,inputs):\n",
        "        x=self.Dense_1(inputs)\n",
        "        y1=self.Dense_2(inputs)\n",
        "        y2=self.Dense_3(y1)\n",
        "        concat=concatenate([x,y2])\n",
        "        return self.softmax(concat)\n"
      ],
      "execution_count": null,
      "outputs": []
    },
    {
      "cell_type": "code",
      "metadata": {
        "id": "51vHNR_1pZAx",
        "colab": {
          "base_uri": "https://localhost:8080/"
        },
        "outputId": "19c8d1e7-76af-4b42-9f06-1332fde0e6d9"
      },
      "source": [
        "# Print the model summary\n",
        "\n",
        "model=MyModel()\n",
        "model(tf.random.uniform([1,10]))\n",
        "model.summary()"
      ],
      "execution_count": null,
      "outputs": [
        {
          "output_type": "stream",
          "text": [
            "Model: \"my_model\"\n",
            "_________________________________________________________________\n",
            "Layer (type)                 Output Shape              Param #   \n",
            "=================================================================\n",
            "dense (Dense)                multiple                  704       \n",
            "_________________________________________________________________\n",
            "dense_1 (Dense)              multiple                  110       \n",
            "_________________________________________________________________\n",
            "dense_2 (Dense)              multiple                  55        \n",
            "_________________________________________________________________\n",
            "softmax (Softmax)            multiple                  0         \n",
            "=================================================================\n",
            "Total params: 869\n",
            "Trainable params: 869\n",
            "Non-trainable params: 0\n",
            "_________________________________________________________________\n"
          ],
          "name": "stdout"
        }
      ]
    },
    {
      "cell_type": "markdown",
      "metadata": {
        "id": "22ObAZ7ppZAx"
      },
      "source": [
        "***\n",
        "<a id=\"coding_tutorial_2\"></a>\n",
        "## Custom layers"
      ]
    },
    {
      "cell_type": "code",
      "metadata": {
        "id": "qdtPg6t5pZAx"
      },
      "source": [
        "from tensorflow.keras.models import Model\n",
        "from tensorflow.keras.layers import Layer, Softmax"
      ],
      "execution_count": null,
      "outputs": []
    },
    {
      "cell_type": "markdown",
      "metadata": {
        "id": "k776r5DepZAx"
      },
      "source": [
        "#### Create custom layers"
      ]
    },
    {
      "cell_type": "code",
      "metadata": {
        "id": "m3RMXfNUpZAx",
        "colab": {
          "base_uri": "https://localhost:8080/"
        },
        "outputId": "1e01c8d5-ab0c-4db4-d177-222af8ca31a3"
      },
      "source": [
        "# Create a custom layer\n",
        "class MyLayer(Layer):\n",
        "    \n",
        "    def __init__(self,units,input_dim):\n",
        "        super(MyLayer,self).__init__()\n",
        "        self.w=self.add_weight(shape=(input_dim,units),\n",
        "                              initializer='random_normal')\n",
        "        self.b=self.add_weight(shape=(units,),\n",
        "                              initializer='zeros')\n",
        "        \n",
        "    def call(self,inputs):\n",
        "        return tf.matmul(inputs,self.w)+self.b\n",
        "\n",
        "dense_layer=MyLayer(3,5)\n",
        "x=tf.ones((1,5))\n",
        "print(dense_layer(x))\n",
        "print(dense_layer.weights)\n"
      ],
      "execution_count": null,
      "outputs": [
        {
          "output_type": "stream",
          "text": [
            "tf.Tensor([[ 0.24427392 -0.0462581  -0.17798297]], shape=(1, 3), dtype=float32)\n",
            "[<tf.Variable 'Variable:0' shape=(5, 3) dtype=float32, numpy=\n",
            "array([[ 0.05310891, -0.05938276, -0.11238197],\n",
            "       [ 0.08103501, -0.01979903, -0.08205581],\n",
            "       [ 0.00843777, -0.02160801,  0.04323856],\n",
            "       [ 0.06966203,  0.00538236, -0.01045446],\n",
            "       [ 0.0320302 ,  0.04914935, -0.0163293 ]], dtype=float32)>, <tf.Variable 'Variable:0' shape=(3,) dtype=float32, numpy=array([0., 0., 0.], dtype=float32)>]\n"
          ],
          "name": "stdout"
        }
      ]
    },
    {
      "cell_type": "code",
      "metadata": {
        "id": "K4lTqqKApZAx"
      },
      "source": [
        "# Specify trainable weights\n",
        "\n",
        "\n",
        "# class MyLayer(Layer):\n",
        "    \n",
        "#     def __init__(self,units,input_dim):\n",
        "#         super(MyLayer,self).__init__()\n",
        "#         self.w=self.add_weight(shape=(input_dim,units),\n",
        "#                               initializer='random_normal')\n",
        "#         self.b=self.add_weight(shape=(units,),\n",
        "#                               initializer='zeros')\n",
        "        \n",
        "#     def call(self,inputs):\n",
        "#         return tf.matmul(inputs,self.w)+self.b\n",
        "\n",
        "# dense_layer=MyLayer(3,5)\n",
        "# 此时trainable weights数量为2\n",
        "\n",
        "\n",
        "class MyLayer(Layer):\n",
        "    \n",
        "    def __init__(self,units,input_dim):\n",
        "        super(MyLayer,self).__init__()\n",
        "        self.w=self.add_weight(shape=(input_dim,units),\n",
        "                              initializer='random_normal',\n",
        "                              trainable=False)\n",
        "        self.b=self.add_weight(shape=(units,),\n",
        "                              initializer='zeros',\n",
        "                              trainable=False)\n",
        "        \n",
        "    def call(self,inputs):\n",
        "        return tf.matmul(inputs,self.w)+self.b\n",
        "\n",
        "dense_layer=MyLayer(3,5)\n",
        "\n"
      ],
      "execution_count": null,
      "outputs": []
    },
    {
      "cell_type": "code",
      "metadata": {
        "id": "MjH3-h3lpZAx",
        "colab": {
          "base_uri": "https://localhost:8080/"
        },
        "outputId": "1b63648b-3681-4be3-8ae6-e17611f67e59"
      },
      "source": [
        "print('trainable weights:', len(dense_layer.trainable_weights))\n",
        "print('non-trainable weights:', len(dense_layer.non_trainable_weights))"
      ],
      "execution_count": null,
      "outputs": [
        {
          "output_type": "stream",
          "text": [
            "trainable weights: 0\n",
            "non-trainable weights: 2\n"
          ],
          "name": "stdout"
        }
      ]
    },
    {
      "cell_type": "code",
      "metadata": {
        "id": "GWHNP1A0pZAx"
      },
      "source": [
        "# Create a custom layer to accumulate means of output values\n",
        "class MyLayerMean(Layer):\n",
        "    \n",
        "    def __init__(self,units,input_dim):\n",
        "        super(MyLayerMean,self).__init__()\n",
        "        self.w=self.add_weight(shape=(input_dim,units),\n",
        "                              initializer='random_normal')\n",
        "        self.b=self.add_weight(shape=(units,),\n",
        "                              initializer='zeros')\n",
        "        self.sum_activation=tf.Variable(initial_value=tf.zeros(units,),\n",
        "                                       trainable=False)\n",
        "        self.number_call=tf.Variable(initial_value=0,\n",
        "                                       trainable=False)  \n",
        "        \n",
        "        \n",
        "    def call(self,inputs):\n",
        "        activation=tf.matmul(inputs,self.w)+self.b\n",
        "        self.sum_activation.assign_add(tf.reduce_sum(activation,axis=0))\n",
        "        self.number_call.assign_add(inputs.shape[0])\n",
        "        return activation, self.sum_activation/tf.cast(self.number_call,tf.float32)\n",
        "    \n",
        "dense_layer=MyLayerMean(3,5)\n",
        "\n"
      ],
      "execution_count": null,
      "outputs": []
    },
    {
      "cell_type": "code",
      "metadata": {
        "id": "xFQDKJ6TpZAx",
        "colab": {
          "base_uri": "https://localhost:8080/"
        },
        "outputId": "c0ddfda0-406f-4395-e951-21539df66af3"
      },
      "source": [
        "# Test the layer\n",
        "\n",
        "y, activation_means = dense_layer(tf.ones((1, 5)))\n",
        "print(activation_means.numpy())"
      ],
      "execution_count": null,
      "outputs": [
        {
          "output_type": "stream",
          "text": [
            "[ 0.02114812  0.22757481 -0.01501242]\n"
          ],
          "name": "stdout"
        }
      ]
    },
    {
      "cell_type": "code",
      "metadata": {
        "id": "geh02MuApZAx"
      },
      "source": [
        "# Create a Dropout layer as a custom layer\n",
        "\n",
        "class MyDropout(Layer):\n",
        "\n",
        "    def __init__(self, rate):\n",
        "        super(MyDropout, self).__init__()\n",
        "        self.rate = rate\n",
        "        \n",
        "    def call(self, inputs):\n",
        "        # Define forward pass for dropout layer\n",
        "        return tf.nn.dropout(inputs,rate=self.rate)"
      ],
      "execution_count": null,
      "outputs": []
    },
    {
      "cell_type": "markdown",
      "metadata": {
        "id": "-XDQ01crpZAx"
      },
      "source": [
        "#### Implement the custom layers into a model"
      ]
    },
    {
      "cell_type": "code",
      "metadata": {
        "id": "NAnzVdtgpZAx"
      },
      "source": [
        "# Build the model using custom layers with the model subclassing API\n",
        "\n",
        "class MyModel(Model):\n",
        "\n",
        "    def __init__(self, units_1, input_dim_1, units_2, units_3):\n",
        "        super(MyModel, self).__init__()\n",
        "        # Define layers\n",
        "        self.layer_1=MyLayer(units_1,input_dim_1)\n",
        "        self.dropout_1=MyDropout(0.5)\n",
        "        self.layer_2=MyLayer(units_2,units_1)\n",
        "        self.dropout_2=MyDropout(0.5)\n",
        "        self.layer_3=MyLayer(units_3,units_2)\n",
        "        self.softmax=Softmax()\n",
        "            \n",
        "    def call(self, inputs):\n",
        "        # Define forward pass\n",
        "        x=self.layer_1(inputs)\n",
        "        x=tf.nn.relu(x)\n",
        "        x=self.dropout_1(x)\n",
        "        x=self.layer_2(x)\n",
        "        x=self.dropout_2(x)\n",
        "        x=self.layer_3(x)\n",
        "        return self.softmax(x)"
      ],
      "execution_count": null,
      "outputs": []
    },
    {
      "cell_type": "code",
      "metadata": {
        "id": "C1GMiixzpZAx",
        "colab": {
          "base_uri": "https://localhost:8080/"
        },
        "outputId": "cc059f0c-d535-4691-93f1-48f44afb56ae"
      },
      "source": [
        "# Instantiate a model object\n",
        "\n",
        "model = MyModel(64,10000,64,46)\n",
        "print(model(tf.ones((1, 10000))))\n",
        "model.summary()"
      ],
      "execution_count": null,
      "outputs": [
        {
          "output_type": "stream",
          "text": [
            "tf.Tensor(\n",
            "[[0.00136266 0.01201757 0.05110296 0.01529321 0.0075237  0.01051984\n",
            "  0.0024334  0.09992979 0.01099001 0.00959984 0.0011579  0.00233477\n",
            "  0.01038214 0.00149689 0.00050966 0.02542372 0.07989525 0.01177404\n",
            "  0.00255131 0.00035719 0.03099341 0.01905901 0.00518561 0.00601773\n",
            "  0.00211688 0.00896639 0.00099622 0.0087784  0.11324281 0.00320092\n",
            "  0.10475652 0.00045398 0.01994743 0.00607938 0.17544156 0.02121501\n",
            "  0.01762415 0.01073785 0.02027708 0.00068772 0.00128848 0.01287215\n",
            "  0.03559376 0.00559715 0.0092152  0.00299927]], shape=(1, 46), dtype=float32)\n",
            "Model: \"my_model_1\"\n",
            "_________________________________________________________________\n",
            "Layer (type)                 Output Shape              Param #   \n",
            "=================================================================\n",
            "my_layer_2 (MyLayer)         multiple                  640064    \n",
            "_________________________________________________________________\n",
            "my_dropout (MyDropout)       multiple                  0         \n",
            "_________________________________________________________________\n",
            "my_layer_3 (MyLayer)         multiple                  4160      \n",
            "_________________________________________________________________\n",
            "my_dropout_1 (MyDropout)     multiple                  0         \n",
            "_________________________________________________________________\n",
            "my_layer_4 (MyLayer)         multiple                  2990      \n",
            "_________________________________________________________________\n",
            "softmax_1 (Softmax)          multiple                  0         \n",
            "=================================================================\n",
            "Total params: 647,214\n",
            "Trainable params: 0\n",
            "Non-trainable params: 647,214\n",
            "_________________________________________________________________\n"
          ],
          "name": "stdout"
        }
      ]
    },
    {
      "cell_type": "markdown",
      "metadata": {
        "id": "bg0CEduzpZAx"
      },
      "source": [
        "***\n",
        "<a id=\"coding_tutorial_3\"></a>\n",
        "## Automatic differentiation"
      ]
    },
    {
      "cell_type": "code",
      "metadata": {
        "id": "ffg4D7M_pZAx"
      },
      "source": [
        "import numpy as np\n",
        "import matplotlib.pyplot as plt"
      ],
      "execution_count": null,
      "outputs": []
    },
    {
      "cell_type": "markdown",
      "metadata": {
        "id": "ugrpXCv9pZAx"
      },
      "source": [
        "#### Create synthetic data"
      ]
    },
    {
      "cell_type": "code",
      "metadata": {
        "id": "H5fvF93dpZAx",
        "colab": {
          "base_uri": "https://localhost:8080/",
          "height": 282
        },
        "outputId": "cc780e53-d10f-4c4c-ea89-afb7262556f8"
      },
      "source": [
        "# Create data from a noise contaminated linear model\n",
        "\n",
        "def MakeNoisyData(m, b, n=20):\n",
        "    x = tf.random.uniform(shape=(n,))\n",
        "    noise = tf.random.normal(shape=(len(x),), stddev=0.1)\n",
        "    y = m * x + b + noise\n",
        "    return x, y\n",
        "\n",
        "m=1\n",
        "b=2\n",
        "x_train, y_train = MakeNoisyData(m,b)\n",
        "plt.plot(x_train, y_train, 'b.')"
      ],
      "execution_count": null,
      "outputs": [
        {
          "output_type": "execute_result",
          "data": {
            "text/plain": [
              "[<matplotlib.lines.Line2D at 0x7f7b7f85f860>]"
            ]
          },
          "metadata": {
            "tags": []
          },
          "execution_count": 3
        },
        {
          "output_type": "display_data",
          "data": {
            "image/png": "[encoded data removed]",
            "text/plain": [
              "<Figure size 432x288 with 1 Axes>"
            ]
          },
          "metadata": {
            "tags": [],
            "needs_background": "light"
          }
        }
      ]
    },
    {
      "cell_type": "markdown",
      "metadata": {
        "id": "W4jKxngDpZAx"
      },
      "source": [
        "#### Define a linear regression model"
      ]
    },
    {
      "cell_type": "code",
      "metadata": {
        "id": "A5pSB57cpZAx"
      },
      "source": [
        "from tensorflow.keras.layers import Layer"
      ],
      "execution_count": null,
      "outputs": []
    },
    {
      "cell_type": "code",
      "metadata": {
        "id": "JgLgik0TpZAx",
        "colab": {
          "base_uri": "https://localhost:8080/"
        },
        "outputId": "47e754b3-bca3-4a4c-c9c8-745e4afa8f92"
      },
      "source": [
        "# Build a custom layer for the linear regression model\n",
        "\n",
        "class LinearLayer(Layer):\n",
        "\n",
        "    def __init__(self):\n",
        "        super(LinearLayer,self).__init__()\n",
        "        self.m=self.add_weight(shape=(1,), initializer='random_normal')\n",
        "        self.b=self.add_weight(shape=(1,), initializer='zeros')\n",
        "    \n",
        "    def call(self,inputs):\n",
        "        return self.m*inputs+self.b\n",
        "\n",
        "linear_regression=LinearLayer()\n",
        "\n",
        "print(linear_regression(x_train))\n",
        "print(linear_regression.weights)"
      ],
      "execution_count": null,
      "outputs": [
        {
          "output_type": "stream",
          "text": [
            "tf.Tensor(\n",
            "[0.05274564 0.02250641 0.08232226 0.03510062 0.09884682 0.06875732\n",
            " 0.06860486 0.1135046  0.09943464 0.01134074 0.01793334 0.00992438\n",
            " 0.00185378 0.08695751 0.07078692 0.01999266 0.00187572 0.05696702\n",
            " 0.10304716 0.08041999], shape=(20,), dtype=float32)\n",
            "[<tf.Variable 'Variable:0' shape=(1,) dtype=float32, numpy=array([0.11984783], dtype=float32)>, <tf.Variable 'Variable:0' shape=(1,) dtype=float32, numpy=array([0.], dtype=float32)>]\n"
          ],
          "name": "stdout"
        }
      ]
    },
    {
      "cell_type": "markdown",
      "metadata": {
        "id": "VCA4F0R2pZAx"
      },
      "source": [
        "#### Define the loss function"
      ]
    },
    {
      "cell_type": "code",
      "metadata": {
        "id": "f8dTqS7IpZAx",
        "colab": {
          "base_uri": "https://localhost:8080/"
        },
        "outputId": "0d6f24c7-cbcb-43a0-dbde-a24e91ff37c9"
      },
      "source": [
        "# Define the mean squared error loss function\n",
        "\n",
        "def SquaredError(y_pred, y_true):\n",
        "    return tf.reduce_mean(tf.square(y_pred - y_true)) \n",
        "\n",
        "starting_loss = SquaredError(linear_regression(x_train), y_train)\n",
        "print(\"Starting loss\", starting_loss.numpy())"
      ],
      "execution_count": null,
      "outputs": [
        {
          "output_type": "stream",
          "text": [
            "Starting loss 5.759557\n"
          ],
          "name": "stdout"
        }
      ]
    },
    {
      "cell_type": "markdown",
      "metadata": {
        "id": "DoDOyQ0epZAx"
      },
      "source": [
        "#### Train and plot the model"
      ]
    },
    {
      "cell_type": "code",
      "metadata": {
        "id": "eYNZWo7TpZAx",
        "colab": {
          "base_uri": "https://localhost:8080/"
        },
        "outputId": "79756d23-5185-417f-8b17-f3b1627f9a06"
      },
      "source": [
        "# Implement a gradient descent training loop for the linear regression model\n",
        "learning_rate=0.25\n",
        "steps=25\n",
        "\n",
        "for i in range(steps):\n",
        "\n",
        "    with tf.GradientTape() as tape:\n",
        "        predictions=linear_regression(x_train)\n",
        "        loss=SquaredError(predictions, y_train)\n",
        "\n",
        "    gradients=tape.gradient(loss, linear_regression.trainable_variables)\n",
        "\n",
        "    linear_regression.m.assign_sub(learning_rate*gradients[0])\n",
        "    linear_regression.b.assign_sub(learning_rate*gradients[1])\n",
        "\n",
        "    print(f\"Step {i}: Loss {loss.numpy()}\")\n",
        "  \n"
      ],
      "execution_count": null,
      "outputs": [
        {
          "output_type": "stream",
          "text": [
            "Step 0: Loss 5.759556770324707\n",
            "Step 1: Loss 0.8658536076545715\n",
            "Step 2: Loss 0.13806983828544617\n",
            "Step 3: Loss 0.029752647504210472\n",
            "Step 4: Loss 0.013555251061916351\n",
            "Step 5: Loss 0.011062433943152428\n",
            "Step 6: Loss 0.010613596066832542\n",
            "Step 7: Loss 0.010474415495991707\n",
            "Step 8: Loss 0.010386578738689423\n",
            "Step 9: Loss 0.01031128503382206\n",
            "Step 10: Loss 0.01024241279810667\n",
            "Step 11: Loss 0.010178713127970695\n",
            "Step 12: Loss 0.010119687765836716\n",
            "Step 13: Loss 0.010064988397061825\n",
            "Step 14: Loss 0.010014289990067482\n",
            "Step 15: Loss 0.009967295452952385\n",
            "Step 16: Loss 0.009923744015395641\n",
            "Step 17: Loss 0.009883375838398933\n",
            "Step 18: Loss 0.009845959022641182\n",
            "Step 19: Loss 0.009811284020543098\n",
            "Step 20: Loss 0.009779141284525394\n",
            "Step 21: Loss 0.009749351069331169\n",
            "Step 22: Loss 0.009721743874251842\n",
            "Step 23: Loss 0.009696153923869133\n",
            "Step 24: Loss 0.009672428481280804\n"
          ],
          "name": "stdout"
        }
      ]
    },
    {
      "cell_type": "code",
      "metadata": {
        "id": "kymv-XkgpZAx",
        "colab": {
          "base_uri": "https://localhost:8080/",
          "height": 316
        },
        "outputId": "9dd4e63d-d89e-4322-8137-a7c73f5bd258"
      },
      "source": [
        "# Plot the learned regression model\n",
        "\n",
        "print(\"m:{},  trained m:{}\".format(m,linear_regression.m.numpy()))\n",
        "print(\"b:{},  trained b:{}\".format(b,linear_regression.b.numpy()))\n",
        "\n",
        "plt.plot(x_train, y_train, 'b.')\n",
        "\n",
        "x_linear_regression=np.linspace(min(x_train), max(x_train),50)\n",
        "plt.plot(x_linear_regression, linear_regression.m*x_linear_regression+linear_regression.b, 'r.')"
      ],
      "execution_count": null,
      "outputs": [
        {
          "output_type": "stream",
          "text": [
            "m:1,  trained m:[0.9960359]\n",
            "b:2,  trained b:[1.9798404]\n"
          ],
          "name": "stdout"
        },
        {
          "output_type": "execute_result",
          "data": {
            "text/plain": [
              "[<matplotlib.lines.Line2D at 0x7f7b7e8cbc18>]"
            ]
          },
          "metadata": {
            "tags": []
          },
          "execution_count": 14
        },
        {
          "output_type": "display_data",
          "data": {
            "image/png": "[encoded data removed]",
            "text/plain": [
              "<Figure size 432x288 with 1 Axes>"
            ]
          },
          "metadata": {
            "tags": [],
            "needs_background": "light"
          }
        }
      ]
    },
    {
      "cell_type": "markdown",
      "metadata": {
        "id": "0y7xZ0MdpZAx"
      },
      "source": [
        "***\n",
        "<a id=\"coding_tutorial_4\"></a>\n",
        "## Custom training loops"
      ]
    },
    {
      "cell_type": "code",
      "metadata": {
        "id": "33uxdkV4pZAx"
      },
      "source": [
        "import numpy as np\n",
        "import matplotlib.pyplot as plt\n",
        "import time"
      ],
      "execution_count": 3,
      "outputs": []
    },
    {
      "cell_type": "markdown",
      "metadata": {
        "id": "Qt37qfe9pZAx"
      },
      "source": [
        "#### Build the model"
      ]
    },
    {
      "cell_type": "code",
      "metadata": {
        "id": "pJp-OOBMpZAx"
      },
      "source": [
        "from tensorflow.keras.models import Model\n",
        "from tensorflow.keras.layers import Layer, Softmax"
      ],
      "execution_count": 4,
      "outputs": []
    },
    {
      "cell_type": "code",
      "metadata": {
        "id": "kD5XsvnSpZAx"
      },
      "source": [
        "# Define the custom layers and model\n",
        "\n",
        "class MyLayer(Layer):\n",
        "    \n",
        "    def __init__(self,units):\n",
        "        super(MyLayer,self).__init__()\n",
        "        self.units=units\n",
        "        \n",
        "    \n",
        "    def build(self,input_shape):\n",
        "        self.w=self.add_weight(shape=(input_shape[-1],self.units),\n",
        "                              initializer='random_normal',\n",
        "                               name='kernel')\n",
        "        self.b=self.add_weight(shape=(self.units,),\n",
        "                              initializer='zeros',\n",
        "                               name='bias')\n",
        "        \n",
        "    def call(self,inputs):\n",
        "        return tf.matmul(inputs,self.w)+self.b\n",
        "\n",
        "\n",
        "class MyDropout(Layer):\n",
        "\n",
        "    def __init__(self, rate):\n",
        "        super(MyDropout, self).__init__()\n",
        "        self.rate = rate\n",
        "        \n",
        "    def call(self, inputs):\n",
        "        # Define forward pass for dropout layer\n",
        "        return tf.nn.dropout(inputs,rate=self.rate)\n",
        "\n",
        "\n",
        "\n",
        "class MyModel(Model):\n",
        "\n",
        "    def __init__(self, units_1, units_2, units_3):\n",
        "        super(MyModel, self).__init__()\n",
        "        # Define layers\n",
        "        self.layer_1=MyLayer(units_1)\n",
        "        self.dropout_1=MyDropout(0.5)\n",
        "        self.layer_2=MyLayer(units_2)\n",
        "        self.dropout_2=MyDropout(0.5)\n",
        "        self.layer_3=MyLayer(units_3)\n",
        "        self.softmax=Softmax()\n",
        "            \n",
        "    def call(self, inputs):\n",
        "        # Define forward pass\n",
        "        x=self.layer_1(inputs)\n",
        "        x=tf.nn.relu(x)\n",
        "        x=self.dropout_1(x)\n",
        "        x=self.layer_2(x)\n",
        "        x=self.dropout_2(x)\n",
        "        x=self.layer_3(x)\n",
        "        return self.softmax(x)\n"
      ],
      "execution_count": 5,
      "outputs": []
    },
    {
      "cell_type": "code",
      "metadata": {
        "colab": {
          "base_uri": "https://localhost:8080/"
        },
        "id": "alPLnfLj5znJ",
        "outputId": "b2aaa22a-597d-4e17-9a0b-6eb2d3d21197"
      },
      "source": [
        "model=MyModel(64,64,46)\n",
        "print(model(tf.ones((1,10000))))\n",
        "model.summary()"
      ],
      "execution_count": null,
      "outputs": [
        {
          "output_type": "stream",
          "text": [
            "tf.Tensor(\n",
            "[[0.01298426 0.03139694 0.01305586 0.14666884 0.02541926 0.07128341\n",
            "  0.0052335  0.02028768 0.017014   0.01359899 0.00537334 0.0183269\n",
            "  0.01809532 0.02808102 0.0150106  0.00661893 0.03418251 0.01191718\n",
            "  0.02825511 0.02155304 0.00180324 0.03488503 0.0101872  0.00714525\n",
            "  0.01161394 0.00881161 0.01351999 0.05706073 0.01281504 0.04579319\n",
            "  0.0063702  0.02710973 0.00780887 0.01454305 0.02128719 0.02561211\n",
            "  0.0252765  0.00773866 0.01585264 0.01457291 0.0234488  0.01326172\n",
            "  0.01479688 0.01010544 0.01166715 0.01255627]], shape=(1, 46), dtype=float32)\n",
            "Model: \"my_model_5\"\n",
            "_________________________________________________________________\n",
            "Layer (type)                 Output Shape              Param #   \n",
            "=================================================================\n",
            "my_layer (MyLayer)           multiple                  640064    \n",
            "_________________________________________________________________\n",
            "my_dropout (MyDropout)       multiple                  0         \n",
            "_________________________________________________________________\n",
            "my_layer_1 (MyLayer)         multiple                  4160      \n",
            "_________________________________________________________________\n",
            "my_dropout_1 (MyDropout)     multiple                  0         \n",
            "_________________________________________________________________\n",
            "my_layer_2 (MyLayer)         multiple                  2990      \n",
            "_________________________________________________________________\n",
            "softmax (Softmax)            multiple                  0         \n",
            "=================================================================\n",
            "Total params: 647,214\n",
            "Trainable params: 647,214\n",
            "Non-trainable params: 0\n",
            "_________________________________________________________________\n"
          ],
          "name": "stdout"
        }
      ]
    },
    {
      "cell_type": "markdown",
      "metadata": {
        "id": "B-X44qFGpZAx"
      },
      "source": [
        "#### Load the reuters dataset and define the class_names "
      ]
    },
    {
      "cell_type": "code",
      "metadata": {
        "id": "lne5C_lhpZAx",
        "colab": {
          "base_uri": "https://localhost:8080/"
        },
        "outputId": "1bb7a46b-0f48-4ba8-960c-59192862e353"
      },
      "source": [
        "# Load the dataset\n",
        "\n",
        "from tensorflow.keras.datasets import reuters\n",
        "\n",
        "(train_data, train_labels), (test_data, test_labels) = reuters.load_data(num_words=10000)\n",
        "\n",
        "class_names = ['cocoa','grain','veg-oil','earn','acq','wheat','copper','housing','money-supply',\n",
        "   'coffee','sugar','trade','reserves','ship','cotton','carcass','crude','nat-gas',\n",
        "   'cpi','money-fx','interest','gnp','meal-feed','alum','oilseed','gold','tin',\n",
        "   'strategic-metal','livestock','retail','ipi','iron-steel','rubber','heat','jobs',\n",
        "   'lei','bop','zinc','orange','pet-chem','dlr','gas','silver','wpi','hog','lead']"
      ],
      "execution_count": 7,
      "outputs": [
        {
          "output_type": "stream",
          "text": [
            "Downloading data from https://storage.googleapis.com/tensorflow/tf-keras-datasets/reuters.npz\n",
            "2113536/2110848 [==============================] - 0s 0us/step\n"
          ],
          "name": "stdout"
        }
      ]
    },
    {
      "cell_type": "code",
      "metadata": {
        "id": "WpY1uJ8tpZAx",
        "colab": {
          "base_uri": "https://localhost:8080/"
        },
        "outputId": "c7808b2f-e685-4026-ef00-4a9173bdbd63"
      },
      "source": [
        "# Print the class of the first sample\n",
        "\n",
        "print(\"Label: {}\".format(class_names[train_labels[0]]))"
      ],
      "execution_count": 8,
      "outputs": [
        {
          "output_type": "stream",
          "text": [
            "Label: earn\n"
          ],
          "name": "stdout"
        }
      ]
    },
    {
      "cell_type": "markdown",
      "metadata": {
        "id": "6T_AWnXLpZAx"
      },
      "source": [
        "#### Get the dataset word index"
      ]
    },
    {
      "cell_type": "code",
      "metadata": {
        "id": "6_9tsHu0pZAx",
        "colab": {
          "base_uri": "https://localhost:8080/"
        },
        "outputId": "39763e81-c006-4170-ebc4-2a695437f6c6"
      },
      "source": [
        "# Load the Reuters word index\n",
        "\n",
        "word_to_index = reuters.get_word_index()\n",
        "\n",
        "invert_word_index = dict([(value, key) for (key, value) in word_to_index.items()])\n",
        "text_news = ' '.join([invert_word_index.get(i - 3, '?') for i in train_data[0]])"
      ],
      "execution_count": 9,
      "outputs": [
        {
          "output_type": "stream",
          "text": [
            "Downloading data from https://storage.googleapis.com/tensorflow/tf-keras-datasets/reuters_word_index.json\n",
            "557056/550378 [==============================] - 0s 0us/step\n"
          ],
          "name": "stdout"
        }
      ]
    },
    {
      "cell_type": "code",
      "metadata": {
        "id": "lvLOOGbPpZAy",
        "colab": {
          "base_uri": "https://localhost:8080/"
        },
        "outputId": "77f0eae6-6a93-4292-e8ed-ff387a34e4bc"
      },
      "source": [
        "# Print the first data example sentence\n",
        "print(text_news)\n"
      ],
      "execution_count": 10,
      "outputs": [
        {
          "output_type": "stream",
          "text": [
            "? ? ? said as a result of its december acquisition of space co it expects earnings per share in 1987 of 1 15 to 1 30 dlrs per share up from 70 cts in 1986 the company said pretax net should rise to nine to 10 mln dlrs from six mln dlrs in 1986 and rental operation revenues to 19 to 22 mln dlrs from 12 5 mln dlrs it said cash flow per share this year should be 2 50 to three dlrs reuter 3\n"
          ],
          "name": "stdout"
        }
      ]
    },
    {
      "cell_type": "markdown",
      "metadata": {
        "id": "qCnNPhM1pZAy"
      },
      "source": [
        "#### Preprocess the data"
      ]
    },
    {
      "cell_type": "code",
      "metadata": {
        "id": "9GeutdiopZAy",
        "colab": {
          "base_uri": "https://localhost:8080/"
        },
        "outputId": "7472dbd3-9ebb-434d-ca36-14c2bd9cb9a9"
      },
      "source": [
        "# Define a function that encodes the data into a 'bag of words' representation\n",
        "\n",
        "def bag_of_words(text_samples, elements=10000):\n",
        "    output = np.zeros((len(text_samples), elements))\n",
        "    for i, word in enumerate(text_samples):\n",
        "        output[i, word] = 1.\n",
        "    return output\n",
        "\n",
        "x_train = bag_of_words(train_data)\n",
        "x_test = bag_of_words(test_data)\n",
        "\n",
        "print(\"Shape of x_train:\", x_train.shape)\n",
        "print(\"Shape of x_test:\", x_test.shape)"
      ],
      "execution_count": 11,
      "outputs": [
        {
          "output_type": "stream",
          "text": [
            "Shape of x_train: (8982, 10000)\n",
            "Shape of x_test: (2246, 10000)\n"
          ],
          "name": "stdout"
        }
      ]
    },
    {
      "cell_type": "markdown",
      "metadata": {
        "id": "9BWkGZ2hpZAy"
      },
      "source": [
        "#### Define the loss function and optimizer\n",
        "\n"
      ]
    },
    {
      "cell_type": "code",
      "metadata": {
        "id": "jCc2Y4vBpZAy"
      },
      "source": [
        "# Define the categorical cross entropy loss and Adam optimizer\n",
        "\n",
        "loss_object = tf.keras.losses.SparseCategoricalCrossentropy()\n",
        "\n",
        "def loss(model, x, y, wd):\n",
        "    kernel_variables = []\n",
        "    for l in model.layers:\n",
        "        for w in l.weights:\n",
        "            if 'kernel' in w.name:\n",
        "                kernel_variables.append(w)\n",
        "    wd_penalty = wd * tf.reduce_sum([tf.reduce_sum(tf.square(k)) for k in kernel_variables])\n",
        "    y_ = model(x)\n",
        "    return loss_object(y_true=y, y_pred=y_) + wd_penalty\n",
        "\n",
        "optimizer = tf.keras.optimizers.Adam(learning_rate=0.001)"
      ],
      "execution_count": 12,
      "outputs": []
    },
    {
      "cell_type": "markdown",
      "metadata": {
        "id": "3-0iMwmRpZAy"
      },
      "source": [
        "#### Train the model"
      ]
    },
    {
      "cell_type": "code",
      "metadata": {
        "id": "YFEuP54gpZAy"
      },
      "source": [
        "# Define a function to compute the forward and backward pass\n",
        "\n",
        "def grad(model, inputs, targets, wd):\n",
        "    with tf.GradientTape() as tape:\n",
        "        loss_value = loss(model, inputs, targets, wd)\n",
        "    return loss_value, tape.gradient(loss_value, model.trainable_variables)"
      ],
      "execution_count": null,
      "outputs": []
    },
    {
      "cell_type": "code",
      "metadata": {
        "id": "FW7OFhqvpZAy",
        "colab": {
          "base_uri": "https://localhost:8080/"
        },
        "outputId": "0af4f14d-debb-4201-ac04-b2f8d452975d"
      },
      "source": [
        "# Implement the training loop\n",
        "\n",
        "from tensorflow.keras.utils import to_categorical\n",
        "\n",
        "start_time = time.time()\n",
        "\n",
        "train_dataset=tf.data.Dataset.from_tensor_slices((x_train,train_labels))\n",
        "train_dataset=train_dataset.batch(32)\n",
        "\n",
        "#keep the results for plotting\n",
        "train_loss_results=[]\n",
        "train_accuracy_results=[]\n",
        "\n",
        "num_epochs=10\n",
        "weight_decay=0.005\n",
        "\n",
        "for epoch in range(num_epochs):\n",
        "    epoch_loss_avg=tf.keras.metrics.Mean()\n",
        "    epcoh_accuracy=tf.keras.metrics.CategoricalAccuracy()\n",
        "\n",
        "    #training loop\n",
        "    for x,y in train_dataset:\n",
        "        #opimize the model\n",
        "        loss_value, grads=grad(model,x,y,weight_decay)\n",
        "        optimizer.apply_gradients(zip(grads, model.trainable_variables))\n",
        "\n",
        "        #compute current loss\n",
        "        epoch_loss_avg(loss_value)\n",
        "        #compute predicted label to actual label\n",
        "        epcoh_accuracy(to_categorical(y),model(x))\n",
        "\n",
        "    #end epoch\n",
        "    train_loss_results.append(epoch_loss_avg.result())\n",
        "    train_accuracy_results.append(epcoh_accuracy.result())\n",
        "\n",
        "    print(\"Epoch {:03d}: Loss: {:.3f}, Accuracy: {:.3%}\".format(epoch, epoch_loss_avg.result(),epcoh_accuracy.result()))\n",
        "    \n",
        "    \n",
        "print(\"Duration :{:.3f}\".format(time.time() - start_time))"
      ],
      "execution_count": null,
      "outputs": [
        {
          "output_type": "stream",
          "text": [
            "Epoch 000: Loss: 1.605, Accuracy: 75.919%\n",
            "Epoch 001: Loss: 1.613, Accuracy: 75.974%\n",
            "Epoch 002: Loss: 1.611, Accuracy: 76.108%\n",
            "Epoch 003: Loss: 1.616, Accuracy: 75.974%\n",
            "Epoch 004: Loss: 1.612, Accuracy: 75.952%\n",
            "Epoch 005: Loss: 1.607, Accuracy: 75.985%\n",
            "Epoch 006: Loss: 1.603, Accuracy: 76.598%\n",
            "Epoch 007: Loss: 1.618, Accuracy: 76.364%\n",
            "Epoch 008: Loss: 1.601, Accuracy: 76.186%\n",
            "Epoch 009: Loss: 1.605, Accuracy: 75.985%\n",
            "Duration :85.786\n"
          ],
          "name": "stdout"
        }
      ]
    },
    {
      "cell_type": "markdown",
      "metadata": {
        "id": "yP7NMNegpZAy"
      },
      "source": [
        "#### Evaluate the model"
      ]
    },
    {
      "cell_type": "code",
      "metadata": {
        "id": "De894RPCpZAy"
      },
      "source": [
        "# Create a Dataset object for the test set\n",
        "\n",
        "test_dataset = tf.data.Dataset.from_tensor_slices((x_test, test_labels))\n",
        "test_dataset = test_dataset.batch(32)"
      ],
      "execution_count": null,
      "outputs": []
    },
    {
      "cell_type": "code",
      "metadata": {
        "id": "hBdJYdsxpZAy"
      },
      "source": [
        "# Collect average loss and accuracy\n",
        "\n",
        "epoch_loss_avg = tf.keras.metrics.Mean()\n",
        "epoch_accuracy = tf.keras.metrics.CategoricalAccuracy()"
      ],
      "execution_count": null,
      "outputs": []
    },
    {
      "cell_type": "code",
      "metadata": {
        "id": "kxHIvDJspZAy",
        "colab": {
          "base_uri": "https://localhost:8080/"
        },
        "outputId": "87348520-6eea-4655-d282-b188f7f5ab9d"
      },
      "source": [
        "# Loop over the test set and print scores\n",
        "\n",
        "from tensorflow.keras.utils import to_categorical\n",
        "\n",
        "for x, y in test_dataset:\n",
        "    # Optimize the model\n",
        "    loss_value = loss(model, x, y, weight_decay)    \n",
        "    # Compute current loss\n",
        "    epoch_loss_avg(loss_value)  \n",
        "    # Compare predicted label to actual label\n",
        "    epoch_accuracy(to_categorical(y), model(x))\n",
        "\n",
        "print(\"Test loss: {:.3f}\".format(epoch_loss_avg.result().numpy()))\n",
        "print(\"Test accuracy: {:.3%}\".format(epoch_accuracy.result().numpy()))"
      ],
      "execution_count": null,
      "outputs": [
        {
          "output_type": "stream",
          "text": [
            "Test loss: 1.806\n",
            "Test accuracy: 70.436%\n"
          ],
          "name": "stdout"
        }
      ]
    },
    {
      "cell_type": "markdown",
      "metadata": {
        "id": "ZSA459JLpZAy"
      },
      "source": [
        "#### Plot the learning curves"
      ]
    },
    {
      "cell_type": "code",
      "metadata": {
        "id": "yjFbip8XpZAy"
      },
      "source": [
        "# Plot the training loss and accuracy\n",
        "\n",
        "fig, axes = plt.subplots(2, sharex=True, figsize=(12, 8))\n",
        "fig.suptitle('Training Metrics')\n",
        "\n",
        "axes[0].set_ylabel(\"Loss\", fontsize=14)\n",
        "axes[0].plot(train_loss_results)\n",
        "\n",
        "axes[1].set_ylabel(\"Accuracy\", fontsize=14)\n",
        "axes[1].set_xlabel(\"Epoch\", fontsize=14)\n",
        "axes[1].plot(train_accuracy_results)\n",
        "plt.show()"
      ],
      "execution_count": null,
      "outputs": []
    },
    {
      "cell_type": "markdown",
      "metadata": {
        "id": "0B4WZ5ECpZAy"
      },
      "source": [
        "#### Predict from the model"
      ]
    },
    {
      "cell_type": "code",
      "metadata": {
        "id": "iY5tcWMJpZAy",
        "colab": {
          "base_uri": "https://localhost:8080/"
        },
        "outputId": "3cf9b7e5-4d9d-4adc-e480-c631d9d9f00c"
      },
      "source": [
        "# Get the model prediction for an example input\n",
        "\n",
        "predicted_label = np.argmax(model(x_train[np.newaxis,0]),axis=1)[0]\n",
        "print(\"Prediction: {}\".format(class_names[predicted_label]))\n",
        "print(\"     Label: {}\".format(class_names[train_labels[0]]))"
      ],
      "execution_count": null,
      "outputs": [
        {
          "output_type": "stream",
          "text": [
            "Prediction: earn\n",
            "     Label: earn\n"
          ],
          "name": "stdout"
        }
      ]
    },
    {
      "cell_type": "markdown",
      "metadata": {
        "id": "CPwhcW9FpZAy"
      },
      "source": [
        "***\n",
        "<a id=\"coding_tutorial_5\"></a>\n",
        "## tf.function decorator"
      ]
    },
    {
      "cell_type": "code",
      "metadata": {
        "id": "zmXRC2YspZAy"
      },
      "source": [
        "from tensorflow.keras.models import Model\n",
        "from tensorflow.keras.layers import Layer, Softmax\n",
        "from tensorflow.keras.utils import to_categorical\n",
        "from tensorflow.keras.datasets import reuters\n",
        "import numpy as np\n",
        "import matplotlib.pyplot as plt\n",
        "import time"
      ],
      "execution_count": 2,
      "outputs": []
    },
    {
      "cell_type": "markdown",
      "metadata": {
        "id": "h5CgD3R2pZAy"
      },
      "source": [
        "#### Build the model"
      ]
    },
    {
      "cell_type": "code",
      "metadata": {
        "id": "2QNeguJapZAy"
      },
      "source": [
        "# Initialize a new model\n",
        "\n",
        "model=MyModel(64,64,46)"
      ],
      "execution_count": 6,
      "outputs": []
    },
    {
      "cell_type": "markdown",
      "metadata": {
        "id": "2MPkduUapZAy"
      },
      "source": [
        "#### Redefine the grad function using the @tf.function decorator"
      ]
    },
    {
      "cell_type": "code",
      "metadata": {
        "id": "4rsdHJawpZAy"
      },
      "source": [
        "# Use the @tf.function decorator\n",
        "@tf.function\n",
        "def grad(model, inputs, targets, wd):\n",
        "    with tf.GradientTape() as tape:\n",
        "        loss_value = loss(model, inputs, targets, wd)\n",
        "    return loss_value, tape.gradient(loss_value, model.trainable_variables)"
      ],
      "execution_count": 13,
      "outputs": []
    },
    {
      "cell_type": "markdown",
      "metadata": {
        "id": "3lz9XRkipZAy"
      },
      "source": [
        "#### Train the model"
      ]
    },
    {
      "cell_type": "code",
      "metadata": {
        "id": "ueAzDc6OpZAy",
        "colab": {
          "base_uri": "https://localhost:8080/"
        },
        "outputId": "026d0619-00b5-44d9-a840-59f92da1c01f"
      },
      "source": [
        "# Re-run the training loop\n",
        "from tensorflow.keras.utils import to_categorical\n",
        "\n",
        "start_time = time.time()\n",
        "\n",
        "train_dataset=tf.data.Dataset.from_tensor_slices((x_train,train_labels))\n",
        "train_dataset=train_dataset.batch(32)\n",
        "\n",
        "#keep the results for plotting\n",
        "train_loss_results=[]\n",
        "train_accuracy_results=[]\n",
        "\n",
        "num_epochs=10\n",
        "weight_decay=0.005\n",
        "\n",
        "for epoch in range(num_epochs):\n",
        "    epoch_loss_avg=tf.keras.metrics.Mean()\n",
        "    epcoh_accuracy=tf.keras.metrics.CategoricalAccuracy()\n",
        "\n",
        "    #training loop\n",
        "    for x,y in train_dataset:\n",
        "        #opimize the model\n",
        "        loss_value, grads=grad(model,x,y,weight_decay)\n",
        "        optimizer.apply_gradients(zip(grads, model.trainable_variables))\n",
        "\n",
        "        #compute current loss\n",
        "        epoch_loss_avg(loss_value)\n",
        "        #compute predicted label to actual label\n",
        "        epcoh_accuracy(to_categorical(y),model(x))\n",
        "\n",
        "    #end epoch\n",
        "    train_loss_results.append(epoch_loss_avg.result())\n",
        "    train_accuracy_results.append(epcoh_accuracy.result())\n",
        "\n",
        "    print(\"Epoch {:03d}: Loss: {:.3f}, Accuracy: {:.3%}\".format(epoch, epoch_loss_avg.result(),epcoh_accuracy.result()))\n",
        "    \n",
        "    \n",
        "print(\"Duration :{:.3f}\".format(time.time() - start_time))\n"
      ],
      "execution_count": 14,
      "outputs": [
        {
          "output_type": "stream",
          "text": [
            "WARNING:tensorflow:Layer my_model is casting an input tensor from dtype float64 to the layer's dtype of float32, which is new behavior in TensorFlow 2.  The layer has dtype float32 because its dtype defaults to floatx.\n",
            "\n",
            "If you intended to run this layer in float32, you can safely ignore this warning. If in doubt, this warning is likely only an issue if you are porting a TensorFlow 1.X model to TensorFlow 2.\n",
            "\n",
            "To change all layers to have dtype float64 by default, call `tf.keras.backend.set_floatx('float64')`. To change just this layer, pass dtype='float64' to the layer constructor. If you are the author of this layer, you can disable autocasting by passing autocast=False to the base Layer constructor.\n",
            "\n",
            "Epoch 000: Loss: 3.302, Accuracy: 50.857%\n",
            "Epoch 001: Loss: 1.886, Accuracy: 63.416%\n",
            "Epoch 002: Loss: 1.777, Accuracy: 68.370%\n",
            "Epoch 003: Loss: 1.738, Accuracy: 69.071%\n",
            "Epoch 004: Loss: 1.713, Accuracy: 70.252%\n",
            "Epoch 005: Loss: 1.696, Accuracy: 70.864%\n",
            "Epoch 006: Loss: 1.681, Accuracy: 71.599%\n",
            "Epoch 007: Loss: 1.690, Accuracy: 72.089%\n",
            "Epoch 008: Loss: 1.682, Accuracy: 72.823%\n",
            "Epoch 009: Loss: 1.662, Accuracy: 73.469%\n",
            "Duration :75.637\n"
          ],
          "name": "stdout"
        }
      ]
    },
    {
      "cell_type": "markdown",
      "metadata": {
        "id": "3adXpVEepZAy"
      },
      "source": [
        "#### Print the autograph code"
      ]
    },
    {
      "cell_type": "code",
      "metadata": {
        "id": "ERhWAmo3pZAy",
        "colab": {
          "base_uri": "https://localhost:8080/"
        },
        "outputId": "7af0a91f-28f7-4cb6-a943-0b7ddacaac2d"
      },
      "source": [
        "# Use tf.autograph.to_code to see the generated code\n",
        "print(tf.autograph.to_code(grad.python_function))\n"
      ],
      "execution_count": 15,
      "outputs": [
        {
          "output_type": "stream",
          "text": [
            "def tf__grad(model, inputs, targets, wd):\n",
            "    with ag__.FunctionScope('grad', 'fscope', ag__.ConversionOptions(recursive=True, user_requested=True, optional_features=(), internal_convert_user_code=True)) as fscope:\n",
            "        do_return = False\n",
            "        retval_ = ag__.UndefinedReturnValue()\n",
            "        with ag__.ld(tf).GradientTape() as tape:\n",
            "            loss_value = ag__.converted_call(ag__.ld(loss), (ag__.ld(model), ag__.ld(inputs), ag__.ld(targets), ag__.ld(wd)), None, fscope)\n",
            "        try:\n",
            "            do_return = True\n",
            "            retval_ = (ag__.ld(loss_value), ag__.converted_call(ag__.ld(tape).gradient, (ag__.ld(loss_value), ag__.ld(model).trainable_variables), None, fscope))\n",
            "        except:\n",
            "            do_return = False\n",
            "            raise\n",
            "        return fscope.ret(retval_, do_return)\n",
            "\n"
          ],
          "name": "stdout"
        }
      ]
    }
  ]
}