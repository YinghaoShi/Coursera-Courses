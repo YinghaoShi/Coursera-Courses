{
  "nbformat": 4,
  "nbformat_minor": 0,
  "metadata": {
    "kernelspec": {
      "display_name": "Python 3",
      "language": "python",
      "name": "python3"
    },
    "language_info": {
      "codemirror_mode": {
        "name": "ipython",
        "version": 3
      },
      "file_extension": ".py",
      "mimetype": "text/x-python",
      "name": "python",
      "nbconvert_exporter": "python",
      "pygments_lexer": "ipython3",
      "version": "3.7.1"
    },
    "colab": {
      "name": "The build method.ipynb",
      "provenance": []
    }
  },
  "cells": [
    {
      "cell_type": "markdown",
      "metadata": {
        "id": "ghTWndBtpEh6"
      },
      "source": [
        "# Flexible input shapes for custom layers\n",
        "In this reading you will learn how to use the build method to allow custom layers to work with flexible sized inputs."
      ]
    },
    {
      "cell_type": "code",
      "metadata": {
        "id": "WwhM31RUpEh6",
        "outputId": "9f9415b6-e6b9-477a-febf-cecc979a5c92",
        "colab": {
          "base_uri": "https://localhost:8080/"
        }
      },
      "source": [
        "import tensorflow as tf\n",
        "print(tf.__version__)"
      ],
      "execution_count": 1,
      "outputs": [
        {
          "output_type": "stream",
          "text": [
            "2.3.0\n"
          ],
          "name": "stdout"
        }
      ]
    },
    {
      "cell_type": "markdown",
      "metadata": {
        "id": "wQMNH6NLpEh6"
      },
      "source": [
        "## Fix the input shape in the custom layer"
      ]
    },
    {
      "cell_type": "markdown",
      "metadata": {
        "id": "Ria9lrM0pEh6"
      },
      "source": [
        "Previously, you have created custom layers by initialising all variables in the `__init__` method. For instance, you defined a dense layer called `MyLayer` as follows:"
      ]
    },
    {
      "cell_type": "code",
      "metadata": {
        "id": "wzjMJbwbpEh6"
      },
      "source": [
        "# Create a custom layer\n",
        "\n",
        "from tensorflow.keras.layers import Layer\n",
        "\n",
        "class MyLayer(Layer):\n",
        "\n",
        "    def __init__(self, units, input_dim, **kwargs):\n",
        "        super(MyLayer, self).__init__(**kwargs)\n",
        "        self.w = self.add_weight(shape=(input_dim, units),\n",
        "                             initializer='random_normal')\n",
        "        self.b = self.add_weight(shape=(units,),\n",
        "                             initializer='zeros')\n",
        "        \n",
        "    def call(self, inputs):\n",
        "        return tf.matmul(inputs, self.w)+self.b"
      ],
      "execution_count": 2,
      "outputs": []
    },
    {
      "cell_type": "markdown",
      "metadata": {
        "id": "WHxhOMz-pEh6"
      },
      "source": [
        "Notice that the required arguments for the `__init__` method are the number of units in the dense layer (`units`) and the input size (`input_dim`). This means that you need to fix these two arguments when you instantiate the layer."
      ]
    },
    {
      "cell_type": "code",
      "metadata": {
        "id": "IY3sp5NipEh6"
      },
      "source": [
        "#  Create a custom layer with 3 units and input dimension of 5\n",
        "\n",
        "dense_layer = MyLayer(3, 5) "
      ],
      "execution_count": 3,
      "outputs": []
    },
    {
      "cell_type": "markdown",
      "metadata": {
        "id": "31ssaVm5pEh6"
      },
      "source": [
        "Since the input size has been fixed to be 5, this custom layer can only take inputs of that size. For example, we can call the layer as follows:"
      ]
    },
    {
      "cell_type": "code",
      "metadata": {
        "id": "v96Y6PoDpEh6",
        "outputId": "449c0460-2e0c-4773-9fa7-e128af641bfb",
        "colab": {
          "base_uri": "https://localhost:8080/"
        }
      },
      "source": [
        "# Call the custom layer on a Tensor input of ones\n",
        "\n",
        "x = tf.ones((1,5))\n",
        "print(dense_layer(x))"
      ],
      "execution_count": 4,
      "outputs": [
        {
          "output_type": "stream",
          "text": [
            "tf.Tensor([[ 0.00604632 -0.10435006  0.03235341]], shape=(1, 3), dtype=float32)\n"
          ],
          "name": "stdout"
        }
      ]
    },
    {
      "cell_type": "markdown",
      "metadata": {
        "id": "iUw_9xXjpEh7"
      },
      "source": [
        "However, forcing the input shape (and therefore the shape of the weights) to be fixed when the layer is instantiated is unnecessary, and it may be more convenient to only do this later on, after the model has been defined. \n",
        "\n",
        "For example, in some cases you may not know the input shape at the model building time. We have come across this concept before when building models with the Sequential API. If the `input_shape` argument is omitted, the weights will only be created when an input is passed into the model."
      ]
    },
    {
      "cell_type": "markdown",
      "metadata": {
        "id": "PeS0RthspEh7"
      },
      "source": [
        "## Allow a flexible input shape in the custom layer"
      ]
    },
    {
      "cell_type": "markdown",
      "metadata": {
        "id": "sbIy8sDKpEh7"
      },
      "source": [
        "You can delay the weight creation by using the `build` method to define the weights. The `build` method is executed when the `__call__` method is called, meaning the weights are only created only the layer is called with a specific input.\n",
        "\n",
        "The `build` method has a required argument `input_shape`, which can be used to define the shapes of the layer weights."
      ]
    },
    {
      "cell_type": "code",
      "metadata": {
        "id": "SxyvGifZpEh7"
      },
      "source": [
        "# Rewrite the custom layer with lazy weight creation\n",
        "\n",
        "class MyLayer(Layer):\n",
        "\n",
        "    def __init__(self, units, **kwargs):\n",
        "        super(MyLayer, self).__init__(**kwargs)\n",
        "        self.units = units\n",
        "    \n",
        "    def build(self, input_shape):\n",
        "        self.w = self.add_weight(shape=(input_shape[-1], self.units),\n",
        "                                 initializer='random_normal')\n",
        "        self.b = self.add_weight(shape=(self.units,),\n",
        "                                 initializer='zeros')\n",
        "    def call(self, inputs):\n",
        "        return tf.matmul(inputs, self.w)+self.b"
      ],
      "execution_count": 5,
      "outputs": []
    },
    {
      "cell_type": "markdown",
      "metadata": {
        "id": "7TerdjUepEh7"
      },
      "source": [
        "Now, when you instantiate the layer, you only need to specify the number of units in the dense layer (`units`), and not the input size (`input_dim`)."
      ]
    },
    {
      "cell_type": "markdown",
      "metadata": {
        "id": "ROwAly8xpEh7"
      },
      "source": [
        "### Create a custom layer with flexible input size"
      ]
    },
    {
      "cell_type": "code",
      "metadata": {
        "id": "UkK-rO26pEh7"
      },
      "source": [
        "#  Create a custom layer with 3 units\n",
        "\n",
        "dense_layer = MyLayer(3) "
      ],
      "execution_count": 6,
      "outputs": []
    },
    {
      "cell_type": "markdown",
      "metadata": {
        "id": "ov8x2P__pEh7"
      },
      "source": [
        "This layer can now be called on an input of any size, at which point the layer weights will be created and the input size will be fixed."
      ]
    },
    {
      "cell_type": "code",
      "metadata": {
        "id": "eQjsjuvopEh7",
        "outputId": "f63bd8cb-81ed-40e4-a7c4-36fb282c7e6b",
        "colab": {
          "base_uri": "https://localhost:8080/"
        }
      },
      "source": [
        "# Call the custom layer on a Tensor input of ones of size 5\n",
        "\n",
        "x = tf.ones((1,5))\n",
        "print(dense_layer(x))"
      ],
      "execution_count": 7,
      "outputs": [
        {
          "output_type": "stream",
          "text": [
            "tf.Tensor([[-0.04955907  0.06179474  0.09982623]], shape=(1, 3), dtype=float32)\n"
          ],
          "name": "stdout"
        }
      ]
    },
    {
      "cell_type": "code",
      "metadata": {
        "id": "HEmDoXRjpEh7",
        "outputId": "4999af26-7354-46e2-f3ef-108a2f8897df",
        "colab": {
          "base_uri": "https://localhost:8080/"
        }
      },
      "source": [
        "# Print the layer weights\n",
        "\n",
        "dense_layer.weights"
      ],
      "execution_count": 8,
      "outputs": [
        {
          "output_type": "execute_result",
          "data": {
            "text/plain": [
              "[<tf.Variable 'my_layer_1/Variable:0' shape=(5, 3) dtype=float32, numpy=\n",
              " array([[ 0.05370818,  0.07587149, -0.08416702],\n",
              "        [-0.03541034,  0.08776131,  0.05070892],\n",
              "        [-0.02863753,  0.03714471,  0.06072894],\n",
              "        [ 0.06112524, -0.08619674,  0.11399674],\n",
              "        [-0.10034462, -0.05278602, -0.04144133]], dtype=float32)>,\n",
              " <tf.Variable 'my_layer_1/Variable:0' shape=(3,) dtype=float32, numpy=array([0., 0., 0.], dtype=float32)>]"
            ]
          },
          "metadata": {
            "tags": []
          },
          "execution_count": 8
        }
      ]
    },
    {
      "cell_type": "markdown",
      "metadata": {
        "id": "bLUfJp6HpEh7"
      },
      "source": [
        "### Create a new custom layer and pass in a different sized input"
      ]
    },
    {
      "cell_type": "code",
      "metadata": {
        "id": "1SH_mVS-pEh7"
      },
      "source": [
        "#  Create a new custom layer with 3 units\n",
        "\n",
        "dense_layer = MyLayer(3) "
      ],
      "execution_count": 9,
      "outputs": []
    },
    {
      "cell_type": "code",
      "metadata": {
        "id": "7U0Z2G8PpEh7",
        "outputId": "8ca70dd4-a2b0-4343-b666-9f0d25aee070",
        "colab": {
          "base_uri": "https://localhost:8080/"
        }
      },
      "source": [
        "# Call the custom layer on a Tensor input of ones of size 4\n",
        "\n",
        "x = tf.ones((1,4))\n",
        "print(dense_layer(x))"
      ],
      "execution_count": 10,
      "outputs": [
        {
          "output_type": "stream",
          "text": [
            "tf.Tensor([[0.08538101 0.1124193  0.02677811]], shape=(1, 3), dtype=float32)\n"
          ],
          "name": "stdout"
        }
      ]
    },
    {
      "cell_type": "code",
      "metadata": {
        "id": "6KUUyvB3pEh7",
        "outputId": "f9142180-395e-45aa-be23-b41663959c7f",
        "colab": {
          "base_uri": "https://localhost:8080/"
        }
      },
      "source": [
        "# Print the layer weights\n",
        "\n",
        "dense_layer.weights"
      ],
      "execution_count": 11,
      "outputs": [
        {
          "output_type": "execute_result",
          "data": {
            "text/plain": [
              "[<tf.Variable 'my_layer_2/Variable:0' shape=(4, 3) dtype=float32, numpy=\n",
              " array([[ 0.0561449 ,  0.04647098,  0.02188565],\n",
              "        [ 0.00241159,  0.08700823,  0.00582985],\n",
              "        [-0.02711515, -0.06099129,  0.02201791],\n",
              "        [ 0.05393967,  0.03993138, -0.0229553 ]], dtype=float32)>,\n",
              " <tf.Variable 'my_layer_2/Variable:0' shape=(3,) dtype=float32, numpy=array([0., 0., 0.], dtype=float32)>]"
            ]
          },
          "metadata": {
            "tags": []
          },
          "execution_count": 11
        }
      ]
    },
    {
      "cell_type": "markdown",
      "metadata": {
        "id": "9qflTovQpEh7"
      },
      "source": [
        "Note that the code for creating a custom layer object is identical, but the shape of the weights in the layer depend on the size of the input passed to the layer."
      ]
    },
    {
      "cell_type": "markdown",
      "metadata": {
        "id": "B4omNXCwpEh7"
      },
      "source": [
        "## Flexible input shapes in models"
      ]
    },
    {
      "cell_type": "markdown",
      "metadata": {
        "id": "eq1Ac8JkpEh7"
      },
      "source": [
        "Deferring the weight creation until the layer is called is also useful when using the custom layer as an intermediate layer inside a larger model. In this case you may want to create several custom layer objects in the model, and it is tedious to keep track of the input shape that each of the custom layers needs. \n",
        "\n",
        "By deferring the weight creation as above, the input shape can be inferred from the output of the previous layer."
      ]
    },
    {
      "cell_type": "code",
      "metadata": {
        "id": "ilOBYMkxpEh7"
      },
      "source": [
        "# Create a model using the custom layer\n",
        "\n",
        "from tensorflow.keras.models import Model\n",
        "from tensorflow.keras.layers import Softmax\n",
        "\n",
        "class MyModel(Model):\n",
        "\n",
        "    def __init__(self, units_1, units_2, **kwargs):\n",
        "        super(MyModel, self).__init__(**kwargs)\n",
        "        self.layer_1 = MyLayer(units_1)\n",
        "        self.layer_2 = MyLayer(units_2)\n",
        "\n",
        "    def call(self, inputs):\n",
        "        x = self.layer_1(inputs)\n",
        "        x = tf.nn.relu(x)\n",
        "        x = self.layer_2(x)\n",
        "        return Softmax()(x)"
      ],
      "execution_count": 12,
      "outputs": []
    },
    {
      "cell_type": "markdown",
      "metadata": {
        "id": "o7BKiI8ipEh7"
      },
      "source": [
        "In the above model definition, the custom layer `MyLayer` is used twice. Notice that each instance of the custom layer object can have a different input size, depending on the arguments used to create the model and the inputs passed into the model"
      ]
    },
    {
      "cell_type": "code",
      "metadata": {
        "id": "C_sBHP7gpEh7"
      },
      "source": [
        "# Create a custom model object\n",
        "\n",
        "model = MyModel(units_1=32, units_2=10)"
      ],
      "execution_count": 13,
      "outputs": []
    },
    {
      "cell_type": "markdown",
      "metadata": {
        "id": "lYCLjlsspEh7"
      },
      "source": [
        "We can create and initialise all of the weights of the model by passing in an example Tensor input."
      ]
    },
    {
      "cell_type": "code",
      "metadata": {
        "id": "gUloRybOpEh7"
      },
      "source": [
        "# Create and initialize all of the model weights\n",
        "\n",
        "_ = model(tf.ones((1, 100)))"
      ],
      "execution_count": 14,
      "outputs": []
    },
    {
      "cell_type": "code",
      "metadata": {
        "id": "4VmbattgpEh7",
        "outputId": "ab238175-d522-418f-e4ff-2dfd2293414d",
        "colab": {
          "base_uri": "https://localhost:8080/"
        }
      },
      "source": [
        "# Print the model summary\n",
        "\n",
        "model.summary()"
      ],
      "execution_count": 15,
      "outputs": [
        {
          "output_type": "stream",
          "text": [
            "Model: \"my_model\"\n",
            "_________________________________________________________________\n",
            "Layer (type)                 Output Shape              Param #   \n",
            "=================================================================\n",
            "my_layer_3 (MyLayer)         multiple                  3232      \n",
            "_________________________________________________________________\n",
            "my_layer_4 (MyLayer)         multiple                  330       \n",
            "=================================================================\n",
            "Total params: 3,562\n",
            "Trainable params: 3,562\n",
            "Non-trainable params: 0\n",
            "_________________________________________________________________\n"
          ],
          "name": "stdout"
        }
      ]
    },
    {
      "cell_type": "markdown",
      "metadata": {
        "id": "1Rg2F2TUpEh7"
      },
      "source": [
        "## Further reading and resources \n",
        "* https://www.tensorflow.org/guide/keras/custom_layers_and_models#best_practice_deferring_weight_creation_until_the_shape_of_the_inputs_is_known"
      ]
    }
  ]
}