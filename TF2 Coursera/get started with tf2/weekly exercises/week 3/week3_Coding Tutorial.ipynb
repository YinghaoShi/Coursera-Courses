{
 "cells": [
  {
   "cell_type": "code",
   "execution_count": 29,
   "metadata": {
    "scrolled": true
   },
   "outputs": [
    {
     "name": "stdout",
     "output_type": "stream",
     "text": [
      "2.0.0\n"
     ]
    }
   ],
   "source": [
    "import tensorflow as tf\n",
    "print(tf.__version__)"
   ]
  },
  {
   "cell_type": "markdown",
   "metadata": {},
   "source": [
    "# Validation, regularisation and callbacks"
   ]
  },
  {
   "cell_type": "markdown",
   "metadata": {},
   "source": [
    " ## Coding tutorials\n",
    " #### [1. Validation sets](#coding_tutorial_1)\n",
    " #### [2. Model regularisation](#coding_tutorial_2)\n",
    " #### [3. Introduction to callbacks](#coding_tutorial_3)\n",
    " #### [4. Early stopping / patience](#coding_tutorial_4)"
   ]
  },
  {
   "cell_type": "markdown",
   "metadata": {},
   "source": [
    "***\n",
    "<a id=\"coding_tutorial_1\"></a>\n",
    "## Validation sets"
   ]
  },
  {
   "cell_type": "markdown",
   "metadata": {},
   "source": [
    "#### Load the data"
   ]
  },
  {
   "cell_type": "code",
   "execution_count": 2,
   "metadata": {},
   "outputs": [
    {
     "name": "stdout",
     "output_type": "stream",
     "text": [
      ".. _diabetes_dataset:\n",
      "\n",
      "Diabetes dataset\n",
      "----------------\n",
      "\n",
      "Ten baseline variables, age, sex, body mass index, average blood\n",
      "pressure, and six blood serum measurements were obtained for each of n =\n",
      "442 diabetes patients, as well as the response of interest, a\n",
      "quantitative measure of disease progression one year after baseline.\n",
      "\n",
      "**Data Set Characteristics:**\n",
      "\n",
      "  :Number of Instances: 442\n",
      "\n",
      "  :Number of Attributes: First 10 columns are numeric predictive values\n",
      "\n",
      "  :Target: Column 11 is a quantitative measure of disease progression one year after baseline\n",
      "\n",
      "  :Attribute Information:\n",
      "      - Age\n",
      "      - Sex\n",
      "      - Body mass index\n",
      "      - Average blood pressure\n",
      "      - S1\n",
      "      - S2\n",
      "      - S3\n",
      "      - S4\n",
      "      - S5\n",
      "      - S6\n",
      "\n",
      "Note: Each of these 10 feature variables have been mean centered and scaled by the standard deviation times `n_samples` (i.e. the sum of squares of each column totals 1).\n",
      "\n",
      "Source URL:\n",
      "http://www4.stat.ncsu.edu/~boos/var.select/diabetes.html\n",
      "\n",
      "For more information see:\n",
      "Bradley Efron, Trevor Hastie, Iain Johnstone and Robert Tibshirani (2004) \"Least Angle Regression,\" Annals of Statistics (with discussion), 407-499.\n",
      "(http://web.stanford.edu/~hastie/Papers/LARS/LeastAngle_2002.pdf)\n"
     ]
    }
   ],
   "source": [
    "# Load the diabetes dataset\n",
    "from sklearn.datasets import load_diabetes\n",
    "\n",
    "diabetes_dataset=load_diabetes()\n",
    "print(diabetes_dataset['DESCR'])\n"
   ]
  },
  {
   "cell_type": "code",
   "execution_count": 3,
   "metadata": {},
   "outputs": [],
   "source": [
    "# Save the input and target variables\n",
    "#print(diabetes_dataset.keys())\n",
    "\n",
    "data=diabetes_dataset['data']\n",
    "targets=diabetes_dataset['target']\n"
   ]
  },
  {
   "cell_type": "code",
   "execution_count": 7,
   "metadata": {
    "scrolled": false
   },
   "outputs": [
    {
     "data": {
      "text/plain": [
       "array([-1.47194752e-02, -1.00165882e+00, -1.44579915e-01,  6.99512942e-01,\n",
       "       -2.22496178e-01, -7.15965848e-01, -1.83538046e-01, -1.15749134e+00,\n",
       "       -5.47147277e-01,  2.05006151e+00, -6.64021672e-01, -1.07957508e+00,\n",
       "        3.48889755e-01,  4.26806019e-01, -4.43258925e-01,  2.45001404e-01,\n",
       "        1.80071184e-01, -1.05621783e-01, -7.15965848e-01,  2.06043272e-01,\n",
       "       -1.09256112e+00, -1.33929596e+00, -1.09256112e+00,  1.20596866e+00,\n",
       "        4.13819975e-01,  6.47568766e-01, -1.96524090e-01, -8.71798376e-01,\n",
       "       -2.74440354e-01,  1.69943833e+00, -3.00412442e-01, -1.20943552e+00,\n",
       "        2.45262887e+00, -8.45826288e-01, -1.13151925e+00, -6.51035629e-01,\n",
       "        1.46568953e+00,  1.60853602e+00,  1.29687096e+00, -8.06868156e-01,\n",
       "       -6.77007716e-01, -1.26137969e+00, -1.18346343e+00, -7.80896068e-01,\n",
       "        1.38777327e+00, -1.28735178e+00,  4.91736239e-01, -1.31593871e-01,\n",
       "       -1.00165882e+00, -1.31593871e-01,  3.72247006e-02,  9.46247777e-01,\n",
       "       -1.20943552e+00, -6.25063541e-01,  3.87847887e-01, -3.13398486e-01,\n",
       "       -1.30033783e+00, -1.49512849e+00,  2.32015360e-01,  2.32015360e-01,\n",
       "       -1.18346343e+00, -1.05621783e-01, -1.30033783e+00, -3.13398486e-01,\n",
       "       -1.05360299e+00,  1.41113052e-01, -2.77055191e-02, -7.15965848e-01,\n",
       "        1.02154920e-01,  3.35903711e-01, -1.35228200e+00,  1.53061975e+00,\n",
       "        6.47568766e-01, -5.34161233e-01, -8.71798376e-01, -1.43019827e+00,\n",
       "        2.32015360e-01,  6.21596678e-01,  1.29687096e+00, -5.08189145e-01,\n",
       "       -1.18607827e-01, -1.31332387e+00, -1.30033783e+00,  7.51457118e-01,\n",
       "       -1.13151925e+00, -1.44579915e-01, -1.26137969e+00, -2.35482222e-01,\n",
       "       -1.43019827e+00, -5.34161233e-01, -7.02979804e-01,  1.54099096e-01,\n",
       "       -1.35228200e+00, -7.28951892e-01, -8.06868156e-01,  1.28127008e-01,\n",
       "       -2.77055191e-02,  1.64749415e+00, -7.80896068e-01, -8.97770464e-01,\n",
       "       -3.13398486e-01, -6.51035629e-01,  1.94617316e+00,  5.95624590e-01,\n",
       "       -7.41937936e-01, -1.28735178e+00, -2.35482222e-01, -1.05621783e-01,\n",
       "        1.03715008e+00, -9.23742551e-01, -6.25063541e-01, -1.20943552e+00,\n",
       "        1.21895470e+00,  1.88124294e+00,  1.37478723e+00,  9.98191953e-01,\n",
       "        1.59554997e+00,  1.67346624e+00,  3.48889755e-01,  6.21596678e-01,\n",
       "        6.21596678e-01,  2.70973492e-01,  3.61875799e-01, -8.84784420e-01,\n",
       "       -4.04300794e-01,  1.15140964e-01, -6.89993760e-01, -5.60133321e-01,\n",
       "       -4.82217057e-01,  1.50464767e+00,  1.58256393e+00,  7.61828325e-02,\n",
       "       -5.86105409e-01, -8.97770464e-01, -6.38049585e-01,  1.55659184e+00,\n",
       "       -8.71798376e-01,  1.66048019e+00,  2.38769865e+00,  1.67346624e+00,\n",
       "       -4.43258925e-01,  2.14096382e+00,  1.07610822e+00, -1.19644947e+00,\n",
       "        2.83959536e-01,  1.38777327e+00,  3.35903711e-01, -3.13398486e-01,\n",
       "       -7.28951892e-01, -3.39370574e-01,  1.76436855e+00, -8.32840244e-01,\n",
       "        1.81631272e+00, -1.05360299e+00,  5.82638546e-01,  4.39792063e-01,\n",
       "       -1.65096101e+00, -8.84784420e-01, -7.28951892e-01,  5.56666458e-01,\n",
       "       -1.28735178e+00,  8.42359425e-01,  2.57987448e-01, -2.74440354e-01,\n",
       "        8.03401293e-01, -1.20943552e+00, -1.06658903e+00,  8.81317557e-01,\n",
       "        1.50464767e+00, -1.73343121e-03, -1.36526805e+00, -1.01464486e+00,\n",
       "        1.85527085e+00, -6.64021672e-01, -1.47194752e-02, -3.26384530e-01,\n",
       "        1.10208030e+00,  9.46247777e-01, -9.23742551e-01, -1.47194752e-02,\n",
       "       -5.86105409e-01, -1.14450530e+00, -1.83538046e-01,  4.26806019e-01,\n",
       "        1.46568953e+00, -6.64021672e-01, -1.96524090e-01, -1.18607827e-01,\n",
       "       -1.44579915e-01, -9.49714639e-01,  1.81631272e+00,  3.35903711e-01,\n",
       "       -7.93882112e-01, -4.69231013e-01, -8.58812332e-01, -3.91314750e-01,\n",
       "       -1.04061695e+00, -3.00412442e-01, -1.31593871e-01, -8.06868156e-01,\n",
       "        7.61828325e-02, -1.46915640e+00,  5.69652502e-01,  9.07289645e-01,\n",
       "        1.62152206e+00, -6.89993760e-01,  5.69652502e-01,  6.47568766e-01,\n",
       "        3.72247006e-02, -9.75686727e-01,  5.04722283e-01, -1.06658903e+00,\n",
       "       -1.02763090e+00, -1.33929596e+00, -1.13151925e+00,  1.43971745e+00,\n",
       "        1.24492679e+00,  1.86825690e+00,  8.03401293e-01,  4.26806019e-01,\n",
       "       -9.62700683e-01, -7.67910024e-01,  1.29687096e+00, -2.77055191e-02,\n",
       "       -9.75686727e-01,  7.25485030e-01, -9.75686727e-01, -5.73119365e-01,\n",
       "        1.02154920e-01, -1.28735178e+00,  8.81317557e-01,  2.42386567e-02,\n",
       "        1.38777327e+00, -8.06868156e-01,  1.21895470e+00, -3.65342662e-01,\n",
       "       -1.10554717e+00, -1.04061695e+00,  1.36180118e+00,  1.42673140e+00,\n",
       "        1.59554997e+00,  3.22917667e-01, -1.05360299e+00, -1.36526805e+00,\n",
       "        4.52778107e-01, -3.52356618e-01, -9.62700683e-01, -1.31332387e+00,\n",
       "        1.37478723e+00,  8.16387337e-01,  1.95915920e+00,  1.17999657e+00,\n",
       "       -7.93882112e-01, -2.77055191e-02,  2.05006151e+00,  1.12526127e-02,\n",
       "        2.51755909e+00, -1.15749134e+00, -8.19854200e-01, -1.32630991e+00,\n",
       "       -1.46915640e+00, -6.38049585e-01,  2.02408942e+00, -4.69231013e-01,\n",
       "       -9.26357388e-02, -1.01464486e+00, -1.39124013e+00, -4.82217057e-01,\n",
       "        1.45270349e+00, -8.45826288e-01,  6.47568766e-01, -3.26384530e-01,\n",
       "        3.87847887e-01,  1.15402448e+00, -1.11853321e+00, -7.54923980e-01,\n",
       "        1.69943833e+00, -1.14450530e+00, -6.51035629e-01,  6.21596678e-01,\n",
       "        1.46568953e+00, -7.54923980e-01,  1.01117800e+00,  3.74861843e-01,\n",
       "        5.02107446e-02,  1.05013613e+00, -1.19644947e+00,  8.68331513e-01,\n",
       "       -9.36728595e-01, -1.09256112e+00,  2.33575448e+00,  1.24492679e+00,\n",
       "       -8.84784420e-01,  6.21596678e-01, -1.26137969e+00, -8.71798376e-01,\n",
       "       -8.19854200e-01, -1.57304475e+00, -3.00412442e-01, -8.97770464e-01,\n",
       "        1.59554997e+00, -1.13151925e+00,  5.95624590e-01,  1.08909426e+00,\n",
       "        1.30985701e+00, -3.65342662e-01, -1.40422618e+00,  2.57987448e-01,\n",
       "       -4.95203101e-01, -1.31593871e-01, -5.60133321e-01,  3.61875799e-01,\n",
       "       -1.05621783e-01,  1.41113052e-01, -6.66636509e-02, -7.15965848e-01,\n",
       "        8.81317557e-01,  4.91736239e-01, -5.60133321e-01,  5.04722283e-01,\n",
       "       -3.91314750e-01,  1.01117800e+00,  1.16701052e+00,  1.24492679e+00,\n",
       "        1.25791283e+00,  5.17708327e-01, -2.74440354e-01,  1.10208030e+00,\n",
       "       -9.62700683e-01, -2.22496178e-01,  1.19298261e+00,  6.08610634e-01,\n",
       "        1.53061975e+00,  1.54099096e-01, -1.04061695e+00, -7.28951892e-01,\n",
       "        1.99811734e+00, -7.93882112e-01,  8.03401293e-01, -7.41937936e-01,\n",
       "        8.29373381e-01,  1.43971745e+00,  3.35903711e-01, -5.08189145e-01,\n",
       "        6.21596678e-01, -1.70552003e-01, -1.70552003e-01, -8.32840244e-01,\n",
       "       -5.36776070e-02, -8.32840244e-01,  1.17999657e+00, -1.05360299e+00,\n",
       "       -9.75686727e-01, -5.60133321e-01,  1.55659184e+00, -1.19644947e+00,\n",
       "       -1.27436574e+00,  8.94303601e-01, -8.06868156e-01,  2.06304756e+00,\n",
       "        1.67346624e+00,  3.87847887e-01,  2.19290800e+00, -1.22242156e+00,\n",
       "        1.42673140e+00,  6.99512942e-01,  1.05013613e+00,  1.16701052e+00,\n",
       "       -3.78328706e-01,  1.93057228e-01, -1.15749134e+00,  5.82638546e-01,\n",
       "       -1.05360299e+00,  2.06043272e-01, -1.57565959e-01,  8.42359425e-01,\n",
       "       -4.04300794e-01,  1.07610822e+00,  1.20596866e+00, -1.45617035e+00,\n",
       "       -1.30033783e+00, -6.25063541e-01, -2.61454310e-01, -8.32840244e-01,\n",
       "       -1.07957508e+00,  8.68331513e-01, -1.04061695e+00,  6.34582722e-01,\n",
       "       -5.47147277e-01, -1.31332387e+00,  1.62152206e+00, -1.15749134e+00,\n",
       "       -4.43258925e-01, -1.07957508e+00,  1.56957789e+00,  1.37478723e+00,\n",
       "       -1.41721222e+00,  5.95624590e-01,  1.16701052e+00,  1.03715008e+00,\n",
       "        2.96945580e-01, -7.67910024e-01,  2.06043272e-01,  1.59554997e+00,\n",
       "        1.82929877e+00,  1.67346624e+00, -1.04061695e+00, -1.57565959e-01,\n",
       "        4.78750195e-01,  3.74861843e-01,  7.38471074e-01, -2.09510134e-01,\n",
       "        1.41374536e+00, -5.08189145e-01, -2.74440354e-01,  2.83959536e-01,\n",
       "        1.36180118e+00, -1.26137969e+00, -8.84784420e-01, -1.43019827e+00,\n",
       "       -7.96496949e-02,  7.77429206e-01,  1.05013613e+00, -7.93882112e-01,\n",
       "       -5.34161233e-01, -1.73343121e-03, -4.17286837e-01, -1.10554717e+00,\n",
       "        2.05006151e+00, -7.54923980e-01,  4.00833931e-01, -1.11853321e+00,\n",
       "        2.70973492e-01, -1.04061695e+00, -1.33929596e+00, -1.14450530e+00,\n",
       "       -1.35228200e+00,  3.35903711e-01, -6.25063541e-01, -2.61454310e-01,\n",
       "        8.81317557e-01, -1.23540761e+00])"
      ]
     },
     "execution_count": 7,
     "metadata": {},
     "output_type": "execute_result"
    }
   ],
   "source": [
    "# Normalise the target data (this will make clearer training curves)\n",
    "targets=(targets-targets.mean(axis=0))/targets.std()\n",
    "targets\n",
    "\n"
   ]
  },
  {
   "cell_type": "code",
   "execution_count": 8,
   "metadata": {},
   "outputs": [
    {
     "name": "stdout",
     "output_type": "stream",
     "text": [
      "(397, 10)\n"
     ]
    }
   ],
   "source": [
    "# Split the data into train and test sets\n",
    "from sklearn.model_selection import train_test_split\n",
    "\n",
    "train_data, test_data, train_targets, test_targets=train_test_split(data,targets,test_size=0.1)\n",
    "print(train_data.shape)\n"
   ]
  },
  {
   "cell_type": "markdown",
   "metadata": {},
   "source": [
    "#### Train a feedforward neural network model"
   ]
  },
  {
   "cell_type": "code",
   "execution_count": 9,
   "metadata": {},
   "outputs": [],
   "source": [
    "# Build the model\n",
    "from tensorflow.keras.models import Sequential\n",
    "from tensorflow.keras.layers import Dense\n",
    "\n",
    "def get_model():\n",
    "    model=Sequential([\n",
    "        Dense(128,activation='relu',input_shape=(train_data.shape[1],)),\n",
    "        Dense(128,activation='relu'),\n",
    "        Dense(128,activation='relu'),\n",
    "        Dense(128,activation='relu'),\n",
    "        Dense(128,activation='relu'),\n",
    "        Dense(128,activation='relu'),\n",
    "        Dense(1)\n",
    "    ])\n",
    "    return model\n",
    "\n",
    "model=get_model()\n"
   ]
  },
  {
   "cell_type": "code",
   "execution_count": 10,
   "metadata": {},
   "outputs": [
    {
     "name": "stdout",
     "output_type": "stream",
     "text": [
      "Model: \"sequential\"\n",
      "_________________________________________________________________\n",
      "Layer (type)                 Output Shape              Param #   \n",
      "=================================================================\n",
      "dense (Dense)                (None, 128)               1408      \n",
      "_________________________________________________________________\n",
      "dense_1 (Dense)              (None, 128)               16512     \n",
      "_________________________________________________________________\n",
      "dense_2 (Dense)              (None, 128)               16512     \n",
      "_________________________________________________________________\n",
      "dense_3 (Dense)              (None, 128)               16512     \n",
      "_________________________________________________________________\n",
      "dense_4 (Dense)              (None, 128)               16512     \n",
      "_________________________________________________________________\n",
      "dense_5 (Dense)              (None, 128)               16512     \n",
      "_________________________________________________________________\n",
      "dense_6 (Dense)              (None, 1)                 129       \n",
      "=================================================================\n",
      "Total params: 84,097\n",
      "Trainable params: 84,097\n",
      "Non-trainable params: 0\n",
      "_________________________________________________________________\n"
     ]
    }
   ],
   "source": [
    "# Print the model summary\n",
    "model.summary()\n"
   ]
  },
  {
   "cell_type": "code",
   "execution_count": 11,
   "metadata": {},
   "outputs": [],
   "source": [
    "# Compile the model\n",
    "model.compile(optimizer='adam',loss='mse',metrics=['mae'])\n"
   ]
  },
  {
   "cell_type": "code",
   "execution_count": 12,
   "metadata": {},
   "outputs": [
    {
     "name": "stdout",
     "output_type": "stream",
     "text": [
      "Train on 337 samples, validate on 60 samples\n",
      "Epoch 1/100\n",
      "337/337 [==============================] - 1s 4ms/sample - loss: 0.9758 - mae: 0.8483 - val_loss: 0.9426 - val_mae: 0.8232\n",
      "Epoch 2/100\n",
      "337/337 [==============================] - 0s 517us/sample - loss: 0.8665 - mae: 0.8005 - val_loss: 0.7593 - val_mae: 0.7159\n",
      "Epoch 3/100\n",
      "337/337 [==============================] - 0s 325us/sample - loss: 0.6332 - mae: 0.6814 - val_loss: 0.5563 - val_mae: 0.5851\n",
      "Epoch 4/100\n",
      "337/337 [==============================] - 0s 336us/sample - loss: 0.5435 - mae: 0.5929 - val_loss: 0.7642 - val_mae: 0.6544\n",
      "Epoch 5/100\n",
      "337/337 [==============================] - 0s 578us/sample - loss: 0.5096 - mae: 0.5732 - val_loss: 0.5614 - val_mae: 0.6007\n",
      "Epoch 6/100\n",
      "337/337 [==============================] - 0s 314us/sample - loss: 0.5021 - mae: 0.5796 - val_loss: 0.6023 - val_mae: 0.6009\n",
      "Epoch 7/100\n",
      "337/337 [==============================] - 0s 580us/sample - loss: 0.4465 - mae: 0.5458 - val_loss: 0.5483 - val_mae: 0.5733\n",
      "Epoch 8/100\n",
      "337/337 [==============================] - 0s 582us/sample - loss: 0.4396 - mae: 0.5367 - val_loss: 0.6153 - val_mae: 0.5907\n",
      "Epoch 9/100\n",
      "337/337 [==============================] - 0s 312us/sample - loss: 0.4294 - mae: 0.5192 - val_loss: 0.5535 - val_mae: 0.5864\n",
      "Epoch 10/100\n",
      "337/337 [==============================] - 0s 580us/sample - loss: 0.4476 - mae: 0.5358 - val_loss: 0.5873 - val_mae: 0.5889\n",
      "Epoch 11/100\n",
      "337/337 [==============================] - 0s 569us/sample - loss: 0.4227 - mae: 0.5254 - val_loss: 0.5528 - val_mae: 0.5697\n",
      "Epoch 12/100\n",
      "337/337 [==============================] - 0s 316us/sample - loss: 0.4074 - mae: 0.5101 - val_loss: 0.5375 - val_mae: 0.5576\n",
      "Epoch 13/100\n",
      "337/337 [==============================] - 0s 583us/sample - loss: 0.4070 - mae: 0.5038 - val_loss: 0.5588 - val_mae: 0.5558\n",
      "Epoch 14/100\n",
      "337/337 [==============================] - 0s 314us/sample - loss: 0.3954 - mae: 0.4978 - val_loss: 0.5512 - val_mae: 0.5709\n",
      "Epoch 15/100\n",
      "337/337 [==============================] - 0s 576us/sample - loss: 0.3903 - mae: 0.4944 - val_loss: 0.5916 - val_mae: 0.5778\n",
      "Epoch 16/100\n",
      "337/337 [==============================] - 0s 311us/sample - loss: 0.3908 - mae: 0.4932 - val_loss: 0.5348 - val_mae: 0.5607\n",
      "Epoch 17/100\n",
      "337/337 [==============================] - 0s 573us/sample - loss: 0.3926 - mae: 0.4892 - val_loss: 0.5582 - val_mae: 0.5691\n",
      "Epoch 18/100\n",
      "337/337 [==============================] - 0s 319us/sample - loss: 0.3944 - mae: 0.4998 - val_loss: 0.5785 - val_mae: 0.5682\n",
      "Epoch 19/100\n",
      "337/337 [==============================] - 0s 580us/sample - loss: 0.3614 - mae: 0.4770 - val_loss: 0.5694 - val_mae: 0.5675\n",
      "Epoch 20/100\n",
      "337/337 [==============================] - 0s 564us/sample - loss: 0.4078 - mae: 0.4895 - val_loss: 0.5561 - val_mae: 0.5892\n",
      "Epoch 21/100\n",
      "337/337 [==============================] - 0s 322us/sample - loss: 0.3768 - mae: 0.4948 - val_loss: 0.5931 - val_mae: 0.5818\n",
      "Epoch 22/100\n",
      "337/337 [==============================] - 0s 567us/sample - loss: 0.3801 - mae: 0.4928 - val_loss: 0.5394 - val_mae: 0.5459\n",
      "Epoch 23/100\n",
      "337/337 [==============================] - 0s 322us/sample - loss: 0.3548 - mae: 0.4658 - val_loss: 0.5357 - val_mae: 0.5549\n",
      "Epoch 24/100\n",
      "337/337 [==============================] - 0s 563us/sample - loss: 0.3529 - mae: 0.4705 - val_loss: 0.6490 - val_mae: 0.5949\n",
      "Epoch 25/100\n",
      "337/337 [==============================] - 0s 323us/sample - loss: 0.3732 - mae: 0.4848 - val_loss: 0.5462 - val_mae: 0.5620\n",
      "Epoch 26/100\n",
      "337/337 [==============================] - 0s 578us/sample - loss: 0.3499 - mae: 0.4667 - val_loss: 0.5356 - val_mae: 0.5509\n",
      "Epoch 27/100\n",
      "337/337 [==============================] - 0s 306us/sample - loss: 0.3327 - mae: 0.4523 - val_loss: 0.5550 - val_mae: 0.5765\n",
      "Epoch 28/100\n",
      "337/337 [==============================] - 0s 575us/sample - loss: 0.3196 - mae: 0.4499 - val_loss: 0.6533 - val_mae: 0.5789\n",
      "Epoch 29/100\n",
      "337/337 [==============================] - 0s 310us/sample - loss: 0.3385 - mae: 0.4393 - val_loss: 0.5948 - val_mae: 0.6147\n",
      "Epoch 30/100\n",
      "337/337 [==============================] - 0s 575us/sample - loss: 0.3179 - mae: 0.4433 - val_loss: 0.6145 - val_mae: 0.5508\n",
      "Epoch 31/100\n",
      "337/337 [==============================] - 0s 313us/sample - loss: 0.3291 - mae: 0.4538 - val_loss: 0.5671 - val_mae: 0.5490\n",
      "Epoch 32/100\n",
      "337/337 [==============================] - 0s 575us/sample - loss: 0.2911 - mae: 0.4225 - val_loss: 0.5817 - val_mae: 0.5877\n",
      "Epoch 33/100\n",
      "337/337 [==============================] - 0s 318us/sample - loss: 0.2894 - mae: 0.4170 - val_loss: 0.6247 - val_mae: 0.5577\n",
      "Epoch 34/100\n",
      "337/337 [==============================] - 0s 565us/sample - loss: 0.2770 - mae: 0.4117 - val_loss: 0.6353 - val_mae: 0.5551\n",
      "Epoch 35/100\n",
      "337/337 [==============================] - 0s 318us/sample - loss: 0.2801 - mae: 0.4091 - val_loss: 0.5767 - val_mae: 0.5928\n",
      "Epoch 36/100\n",
      "337/337 [==============================] - 0s 560us/sample - loss: 0.2814 - mae: 0.4137 - val_loss: 0.6160 - val_mae: 0.6155\n",
      "Epoch 37/100\n",
      "337/337 [==============================] - 0s 329us/sample - loss: 0.2658 - mae: 0.4064 - val_loss: 0.6190 - val_mae: 0.5648\n",
      "Epoch 38/100\n",
      "337/337 [==============================] - 0s 570us/sample - loss: 0.2554 - mae: 0.3925 - val_loss: 0.6853 - val_mae: 0.5726\n",
      "Epoch 39/100\n",
      "337/337 [==============================] - 0s 317us/sample - loss: 0.2445 - mae: 0.3866 - val_loss: 0.6240 - val_mae: 0.5950\n",
      "Epoch 40/100\n",
      "337/337 [==============================] - 0s 571us/sample - loss: 0.2396 - mae: 0.3880 - val_loss: 0.6254 - val_mae: 0.5959\n",
      "Epoch 41/100\n",
      "337/337 [==============================] - 0s 311us/sample - loss: 0.2313 - mae: 0.3681 - val_loss: 0.6856 - val_mae: 0.6245\n",
      "Epoch 42/100\n",
      "337/337 [==============================] - 0s 578us/sample - loss: 0.2135 - mae: 0.3558 - val_loss: 0.6739 - val_mae: 0.5856\n",
      "Epoch 43/100\n",
      "337/337 [==============================] - 0s 310us/sample - loss: 0.2011 - mae: 0.3475 - val_loss: 0.7557 - val_mae: 0.5861\n",
      "Epoch 44/100\n",
      "337/337 [==============================] - 0s 578us/sample - loss: 0.2326 - mae: 0.3770 - val_loss: 0.7006 - val_mae: 0.6119\n",
      "Epoch 45/100\n",
      "337/337 [==============================] - 0s 311us/sample - loss: 0.2048 - mae: 0.3478 - val_loss: 0.6659 - val_mae: 0.6177\n",
      "Epoch 46/100\n",
      "337/337 [==============================] - 0s 573us/sample - loss: 0.2109 - mae: 0.3590 - val_loss: 0.6711 - val_mae: 0.5658\n",
      "Epoch 47/100\n",
      "337/337 [==============================] - 0s 315us/sample - loss: 0.2130 - mae: 0.3646 - val_loss: 0.7547 - val_mae: 0.5831\n",
      "Epoch 48/100\n",
      "337/337 [==============================] - 0s 571us/sample - loss: 0.2147 - mae: 0.3636 - val_loss: 0.8171 - val_mae: 0.6099\n",
      "Epoch 49/100\n",
      "337/337 [==============================] - 0s 314us/sample - loss: 0.2209 - mae: 0.3682 - val_loss: 0.6789 - val_mae: 0.6106\n",
      "Epoch 50/100\n",
      "337/337 [==============================] - 0s 572us/sample - loss: 0.1866 - mae: 0.3355 - val_loss: 0.7074 - val_mae: 0.6635\n",
      "Epoch 51/100\n",
      "337/337 [==============================] - 0s 314us/sample - loss: 0.1725 - mae: 0.3253 - val_loss: 0.6746 - val_mae: 0.6213\n",
      "Epoch 52/100\n",
      "337/337 [==============================] - 0s 566us/sample - loss: 0.1636 - mae: 0.3090 - val_loss: 0.6958 - val_mae: 0.6082\n",
      "Epoch 53/100\n",
      "337/337 [==============================] - 0s 314us/sample - loss: 0.1554 - mae: 0.3023 - val_loss: 0.6960 - val_mae: 0.5941\n",
      "Epoch 54/100\n",
      "337/337 [==============================] - 0s 574us/sample - loss: 0.1604 - mae: 0.3028 - val_loss: 0.7448 - val_mae: 0.5746\n",
      "Epoch 55/100\n",
      "337/337 [==============================] - 0s 311us/sample - loss: 0.1392 - mae: 0.2871 - val_loss: 0.7144 - val_mae: 0.6190\n",
      "Epoch 56/100\n",
      "337/337 [==============================] - 0s 580us/sample - loss: 0.1299 - mae: 0.2768 - val_loss: 0.6985 - val_mae: 0.5829\n",
      "Epoch 57/100\n",
      "337/337 [==============================] - 0s 313us/sample - loss: 0.1212 - mae: 0.2669 - val_loss: 0.7638 - val_mae: 0.6853\n",
      "Epoch 58/100\n",
      "337/337 [==============================] - 0s 567us/sample - loss: 0.1470 - mae: 0.2904 - val_loss: 0.6517 - val_mae: 0.6052\n",
      "Epoch 59/100\n",
      "337/337 [==============================] - 0s 322us/sample - loss: 0.1270 - mae: 0.2802 - val_loss: 0.7048 - val_mae: 0.6182\n",
      "Epoch 60/100\n",
      "337/337 [==============================] - 0s 571us/sample - loss: 0.1153 - mae: 0.2609 - val_loss: 0.6902 - val_mae: 0.5882\n",
      "Epoch 61/100\n",
      "337/337 [==============================] - 0s 310us/sample - loss: 0.1065 - mae: 0.2465 - val_loss: 0.6917 - val_mae: 0.6306\n",
      "Epoch 62/100\n",
      "337/337 [==============================] - 0s 579us/sample - loss: 0.1380 - mae: 0.2836 - val_loss: 0.6899 - val_mae: 0.5810\n",
      "Epoch 63/100\n",
      "337/337 [==============================] - 0s 313us/sample - loss: 0.1351 - mae: 0.2767 - val_loss: 0.7206 - val_mae: 0.5733\n",
      "Epoch 64/100\n",
      "337/337 [==============================] - 0s 321us/sample - loss: 0.1129 - mae: 0.2582 - val_loss: 0.6611 - val_mae: 0.5729\n",
      "Epoch 65/100\n",
      "337/337 [==============================] - 0s 308us/sample - loss: 0.0972 - mae: 0.2412 - val_loss: 0.6930 - val_mae: 0.5829\n",
      "Epoch 66/100\n",
      "337/337 [==============================] - 0s 582us/sample - loss: 0.0928 - mae: 0.2306 - val_loss: 0.6805 - val_mae: 0.5921\n",
      "Epoch 67/100\n",
      "337/337 [==============================] - 0s 310us/sample - loss: 0.0942 - mae: 0.2382 - val_loss: 0.7009 - val_mae: 0.5895\n",
      "Epoch 68/100\n",
      "337/337 [==============================] - 0s 325us/sample - loss: 0.0974 - mae: 0.2398 - val_loss: 0.6188 - val_mae: 0.5770\n",
      "Epoch 69/100\n",
      "337/337 [==============================] - 0s 567us/sample - loss: 0.1081 - mae: 0.2576 - val_loss: 0.6540 - val_mae: 0.5591\n",
      "Epoch 70/100\n",
      "337/337 [==============================] - 0s 325us/sample - loss: 0.0992 - mae: 0.2398 - val_loss: 0.7294 - val_mae: 0.5790\n",
      "Epoch 71/100\n",
      "337/337 [==============================] - 0s 571us/sample - loss: 0.0761 - mae: 0.2032 - val_loss: 0.7165 - val_mae: 0.6016\n",
      "Epoch 72/100\n",
      "337/337 [==============================] - 0s 315us/sample - loss: 0.0712 - mae: 0.1975 - val_loss: 0.6834 - val_mae: 0.5683\n",
      "Epoch 73/100\n",
      "337/337 [==============================] - 0s 578us/sample - loss: 0.0721 - mae: 0.2035 - val_loss: 0.6619 - val_mae: 0.5961\n",
      "Epoch 74/100\n",
      "337/337 [==============================] - 0s 306us/sample - loss: 0.0742 - mae: 0.2084 - val_loss: 0.7207 - val_mae: 0.6212\n",
      "Epoch 75/100\n",
      "337/337 [==============================] - 0s 576us/sample - loss: 0.0714 - mae: 0.2014 - val_loss: 0.7091 - val_mae: 0.6116\n",
      "Epoch 76/100\n",
      "337/337 [==============================] - 0s 312us/sample - loss: 0.0624 - mae: 0.1876 - val_loss: 0.6856 - val_mae: 0.5949\n",
      "Epoch 77/100\n",
      "337/337 [==============================] - 0s 580us/sample - loss: 0.0665 - mae: 0.1966 - val_loss: 0.7301 - val_mae: 0.6093\n",
      "Epoch 78/100\n",
      "337/337 [==============================] - 0s 306us/sample - loss: 0.0611 - mae: 0.1853 - val_loss: 0.7505 - val_mae: 0.5654\n",
      "Epoch 79/100\n",
      "337/337 [==============================] - 0s 573us/sample - loss: 0.0801 - mae: 0.2156 - val_loss: 0.7207 - val_mae: 0.5839\n",
      "Epoch 80/100\n",
      "337/337 [==============================] - 0s 313us/sample - loss: 0.0585 - mae: 0.1837 - val_loss: 0.7256 - val_mae: 0.5741\n",
      "Epoch 81/100\n",
      "337/337 [==============================] - 0s 574us/sample - loss: 0.0665 - mae: 0.1992 - val_loss: 0.7150 - val_mae: 0.5857\n",
      "Epoch 82/100\n",
      "337/337 [==============================] - 0s 317us/sample - loss: 0.0802 - mae: 0.2219 - val_loss: 0.6476 - val_mae: 0.6037\n",
      "Epoch 83/100\n",
      "337/337 [==============================] - 0s 583us/sample - loss: 0.0724 - mae: 0.2143 - val_loss: 0.6760 - val_mae: 0.6124\n",
      "Epoch 84/100\n",
      "337/337 [==============================] - 0s 574us/sample - loss: 0.0768 - mae: 0.2172 - val_loss: 0.6731 - val_mae: 0.5940\n",
      "Epoch 85/100\n",
      "337/337 [==============================] - 0s 324us/sample - loss: 0.0711 - mae: 0.2106 - val_loss: 0.7281 - val_mae: 0.6636\n",
      "Epoch 86/100\n",
      "337/337 [==============================] - 0s 586us/sample - loss: 0.0723 - mae: 0.2152 - val_loss: 0.7405 - val_mae: 0.6446\n",
      "Epoch 87/100\n",
      "337/337 [==============================] - 0s 560us/sample - loss: 0.0659 - mae: 0.1996 - val_loss: 0.7395 - val_mae: 0.6329\n",
      "Epoch 88/100\n",
      "337/337 [==============================] - 0s 327us/sample - loss: 0.0563 - mae: 0.1833 - val_loss: 0.7776 - val_mae: 0.6446\n",
      "Epoch 89/100\n",
      "337/337 [==============================] - 0s 559us/sample - loss: 0.0483 - mae: 0.1655 - val_loss: 0.6983 - val_mae: 0.5907\n",
      "Epoch 90/100\n",
      "337/337 [==============================] - 0s 325us/sample - loss: 0.0457 - mae: 0.1603 - val_loss: 0.7155 - val_mae: 0.5743\n",
      "Epoch 91/100\n",
      "337/337 [==============================] - 0s 565us/sample - loss: 0.0404 - mae: 0.1503 - val_loss: 0.7429 - val_mae: 0.5989\n",
      "Epoch 92/100\n",
      "337/337 [==============================] - 0s 320us/sample - loss: 0.0346 - mae: 0.1371 - val_loss: 0.7565 - val_mae: 0.5937\n",
      "Epoch 93/100\n",
      "337/337 [==============================] - 0s 577us/sample - loss: 0.0362 - mae: 0.1432 - val_loss: 0.7741 - val_mae: 0.5826\n",
      "Epoch 94/100\n",
      "337/337 [==============================] - 0s 311us/sample - loss: 0.0451 - mae: 0.1646 - val_loss: 0.7452 - val_mae: 0.5625\n",
      "Epoch 95/100\n",
      "337/337 [==============================] - 0s 577us/sample - loss: 0.0530 - mae: 0.1828 - val_loss: 0.6968 - val_mae: 0.5569\n",
      "Epoch 96/100\n",
      "337/337 [==============================] - 0s 313us/sample - loss: 0.0425 - mae: 0.1524 - val_loss: 0.7164 - val_mae: 0.5899\n",
      "Epoch 97/100\n",
      "337/337 [==============================] - 0s 583us/sample - loss: 0.0323 - mae: 0.1319 - val_loss: 0.7355 - val_mae: 0.6055\n",
      "Epoch 98/100\n",
      "337/337 [==============================] - 0s 307us/sample - loss: 0.0324 - mae: 0.1356 - val_loss: 0.7295 - val_mae: 0.5965\n",
      "Epoch 99/100\n",
      "337/337 [==============================] - 0s 582us/sample - loss: 0.0291 - mae: 0.1275 - val_loss: 0.7568 - val_mae: 0.5880\n",
      "Epoch 100/100\n",
      "337/337 [==============================] - 0s 565us/sample - loss: 0.0306 - mae: 0.1322 - val_loss: 0.7562 - val_mae: 0.5770\n"
     ]
    }
   ],
   "source": [
    "# Train the model, with some of the data reserved for validation\n",
    "history=model.fit(train_data,train_targets,epochs=100,validation_split=0.15,batch_size=64)\n"
   ]
  },
  {
   "cell_type": "code",
   "execution_count": 14,
   "metadata": {},
   "outputs": [
    {
     "name": "stdout",
     "output_type": "stream",
     "text": [
      "45/1 - 0s - loss: 0.7991 - mae: 0.6506\n"
     ]
    },
    {
     "data": {
      "text/plain": [
       "[0.7895174172189501, 0.6505798]"
      ]
     },
     "execution_count": 14,
     "metadata": {},
     "output_type": "execute_result"
    }
   ],
   "source": [
    "# Evaluate the model on the test set\n",
    "model.evaluate(test_data, test_targets,verbose=2)\n"
   ]
  },
  {
   "cell_type": "markdown",
   "metadata": {},
   "source": [
    "#### Plot the learning curves"
   ]
  },
  {
   "cell_type": "code",
   "execution_count": null,
   "metadata": {},
   "outputs": [],
   "source": [
    "import matplotlib.pyplot as plt\n",
    "%matplotlib inline"
   ]
  },
  {
   "cell_type": "code",
   "execution_count": null,
   "metadata": {},
   "outputs": [],
   "source": [
    "# Plot the training and validation loss\n",
    "\n",
    "plt.plot(history.history['loss'])\n",
    "plt.plot(history.history['val_loss'])\n",
    "plt.title('Loss vs. epochs')\n",
    "plt.ylabel('Loss')\n",
    "plt.xlabel('Epoch')\n",
    "plt.legend(['Training', 'Validation'], loc='upper right')\n",
    "plt.show()"
   ]
  },
  {
   "cell_type": "markdown",
   "metadata": {},
   "source": [
    "***\n",
    "<a id=\"coding_tutorial_2\"></a>\n",
    "## Model regularisation"
   ]
  },
  {
   "cell_type": "markdown",
   "metadata": {},
   "source": [
    "#### Adding regularisation with weight decay and dropout"
   ]
  },
  {
   "cell_type": "code",
   "execution_count": 18,
   "metadata": {},
   "outputs": [],
   "source": [
    "from tensorflow.keras.layers import Dropout\n",
    "from tensorflow.keras import regularizers"
   ]
  },
  {
   "cell_type": "code",
   "execution_count": 23,
   "metadata": {},
   "outputs": [],
   "source": [
    "def get_regularised_model(wd, rate):\n",
    "    model = Sequential([\n",
    "        Dense(128, kernel_regularizer=regularizers.l2(wd),activation=\"relu\", input_shape=(train_data.shape[1],)),\n",
    "        Dropout(rate),\n",
    "        Dense(128, kernel_regularizer=regularizers.l2(wd), activation=\"relu\"),\n",
    "        Dropout(rate),\n",
    "        Dense(128, kernel_regularizer=regularizers.l2(wd),activation=\"relu\"),\n",
    "        Dropout(rate),\n",
    "        Dense(128, kernel_regularizer=regularizers.l2(wd),activation=\"relu\"),\n",
    "        Dropout(rate),\n",
    "        Dense(128, kernel_regularizer=regularizers.l2(wd), activation=\"relu\"),\n",
    "        Dropout(rate),\n",
    "        Dense(128, kernel_regularizer=regularizers.l2(wd), activation=\"relu\"),\n",
    "        Dense(1)\n",
    "    ])\n",
    "    return model"
   ]
  },
  {
   "cell_type": "code",
   "execution_count": 24,
   "metadata": {},
   "outputs": [],
   "source": [
    "# Re-build the model with weight decay and dropout layers\n",
    "model=get_regularised_model(1e-5,0.3)\n"
   ]
  },
  {
   "cell_type": "code",
   "execution_count": 25,
   "metadata": {},
   "outputs": [],
   "source": [
    "# Compile the model\n",
    "model.compile(optimizer='adam',loss='mse',metrics=['mae'])\n"
   ]
  },
  {
   "cell_type": "code",
   "execution_count": null,
   "metadata": {},
   "outputs": [],
   "source": [
    "# Train the model, with some of the data reserved for validation\n",
    "history=model.fit(train_data, train_targets, validation_split=0.15,epochs=100,\n",
    "                 batch_size=64,verbose=False)\n"
   ]
  },
  {
   "cell_type": "code",
   "execution_count": null,
   "metadata": {},
   "outputs": [],
   "source": [
    "# Evaluate the model on the test set\n",
    "model.evaluate=\n"
   ]
  },
  {
   "cell_type": "markdown",
   "metadata": {},
   "source": [
    "#### Plot the learning curves"
   ]
  },
  {
   "cell_type": "code",
   "execution_count": null,
   "metadata": {},
   "outputs": [],
   "source": [
    "# Plot the training and validation loss\n",
    "\n",
    "import matplotlib.pyplot as plt\n",
    "\n",
    "plt.plot(history.history['loss'])\n",
    "plt.plot(history.history['val_loss'])\n",
    "plt.title('Loss vs. epochs')\n",
    "plt.ylabel('Loss')\n",
    "plt.xlabel('Epoch')\n",
    "plt.legend(['Training', 'Validation'], loc='upper right')\n",
    "plt.show()"
   ]
  },
  {
   "cell_type": "markdown",
   "metadata": {},
   "source": [
    "***\n",
    "<a id=\"coding_tutorial_3\"></a>\n",
    "## Introduction to callbacks"
   ]
  },
  {
   "cell_type": "markdown",
   "metadata": {},
   "source": [
    "#### Example training callback"
   ]
  },
  {
   "cell_type": "code",
   "execution_count": 48,
   "metadata": {},
   "outputs": [],
   "source": [
    "# Write a custom callback\n",
    "\n",
    "from tensorflow.keras.callbacks import Callback\n",
    "\n",
    "class TrainingCallback(Callback):\n",
    "    \n",
    "    def on_train_beigin(self,log=None):\n",
    "        print(\"Starting training...\")\n",
    "    \n",
    "    def on_epoch_begin(self,epoch,log=None):\n",
    "        print(f\"Starting epoch{epoch}\")\n",
    "    \n",
    "    def on_train_batch_begin(self,batch,log=None):\n",
    "        print(f\"Training: Starting epoch{batch}\")\n",
    "        \n",
    "    def on_train_batch_end(self,batch,log=None):\n",
    "        print(f\"Training: Finished epoch{batch}\")\n",
    "        \n",
    "    def on_epoch_end(self,epoch,log=None):\n",
    "        print(f\"Finished epoch{epoch}\")\n",
    "        \n",
    "    def on_train_end(self,log=None):\n",
    "        print(\"Finished training\")"
   ]
  },
  {
   "cell_type": "code",
   "execution_count": 49,
   "metadata": {},
   "outputs": [],
   "source": [
    "# Re-build the model\n",
    "model=get_regularised_model(1e-5,0.3)\n"
   ]
  },
  {
   "cell_type": "code",
   "execution_count": 50,
   "metadata": {},
   "outputs": [],
   "source": [
    "# Compile the model\n",
    "model.compile(optimizer='adam',loss='mse')\n"
   ]
  },
  {
   "cell_type": "markdown",
   "metadata": {},
   "source": [
    "#### Train the model with the callback"
   ]
  },
  {
   "cell_type": "code",
   "execution_count": 51,
   "metadata": {},
   "outputs": [
    {
     "name": "stdout",
     "output_type": "stream",
     "text": [
      "Train on 397 samples\n",
      "Starting epoch0\n",
      "Epoch 1/3\n",
      "Training: Starting epoch0\n",
      "Training: Finished epoch0\n",
      "Training: Starting epoch1\n",
      "Training: Finished epoch1\n",
      "Training: Starting epoch2\n",
      "Training: Finished epoch2\n",
      "Training: Starting epoch3\n",
      "Training: Finished epoch3\n",
      "Finished epoch0\n",
      "397/397 - 1s - loss: 1.0000\n",
      "Starting epoch1\n",
      "Epoch 2/3\n",
      "Training: Starting epoch0\n",
      "Training: Finished epoch0\n",
      "Training: Starting epoch1\n",
      "Training: Finished epoch1\n",
      "Training: Starting epoch2\n",
      "Training: Finished epoch2\n",
      "Training: Starting epoch3\n",
      "Training: Finished epoch3\n",
      "Finished epoch1\n",
      "397/397 - 0s - loss: 0.9936\n",
      "Starting epoch2\n",
      "Epoch 3/3\n",
      "Training: Starting epoch0\n",
      "Training: Finished epoch0\n",
      "Training: Starting epoch1\n",
      "Training: Finished epoch1\n",
      "Training: Starting epoch2\n",
      "Training: Finished epoch2\n",
      "Training: Starting epoch3\n",
      "Training: Finished epoch3\n",
      "Finished epoch2\n",
      "397/397 - 0s - loss: 0.9802\n",
      "Finished training\n"
     ]
    },
    {
     "data": {
      "text/plain": [
       "<tensorflow.python.keras.callbacks.History at 0x7fa7d825a518>"
      ]
     },
     "execution_count": 51,
     "metadata": {},
     "output_type": "execute_result"
    }
   ],
   "source": [
    "# Train the model, with some of the data reserved for validation\n",
    "model.fit(train_data, train_targets, epochs=3, batch_size=128,\n",
    "         verbose=2,callbacks=[TrainingCallback()])\n"
   ]
  },
  {
   "cell_type": "code",
   "execution_count": null,
   "metadata": {},
   "outputs": [],
   "source": [
    "# Evaluate the model\n",
    "model.evaluate(test_data, test_targets, verbose=2, callbacks=[TestCallback()])\n",
    "#have to change the class function\n",
    "#notice: theres no epoch def in TestCallback class function"
   ]
  },
  {
   "cell_type": "code",
   "execution_count": null,
   "metadata": {},
   "outputs": [],
   "source": [
    "# Make predictions with the model\n",
    "mode.predict(test_data,verbose=False, callbacks=[PredictionCallback()])\n",
    "#have to change the class function as well\n"
   ]
  },
  {
   "cell_type": "markdown",
   "metadata": {},
   "source": [
    "***\n",
    "<a id=\"coding_tutorial_4\"></a>\n",
    "## Early stopping / patience"
   ]
  },
  {
   "cell_type": "markdown",
   "metadata": {},
   "source": [
    "#### Re-train the models with early stopping"
   ]
  },
  {
   "cell_type": "code",
   "execution_count": 64,
   "metadata": {},
   "outputs": [],
   "source": [
    "# Re-train the unregularised model\n",
    "unregularised_model=get_model()\n",
    "unregularised_model.compile(optimizer='adam',loss='mse')\n",
    "unreg_history=unregularised_model.fit(train_data, train_targets, epochs=100,\n",
    "                                     batch_size=64, validation_split=0.15,verbose=False,\n",
    "                                      callbacks=[tf.keras.callbacks.EarlyStopping(patience=2)])\n"
   ]
  },
  {
   "cell_type": "code",
   "execution_count": 65,
   "metadata": {},
   "outputs": [
    {
     "name": "stdout",
     "output_type": "stream",
     "text": [
      "45/1 - 0s - loss: 0.5273\n"
     ]
    },
    {
     "data": {
      "text/plain": [
       "0.4971431255340576"
      ]
     },
     "execution_count": 65,
     "metadata": {},
     "output_type": "execute_result"
    }
   ],
   "source": [
    "# Evaluate the model on the test set\n",
    "unregularised_model.evaluate(test_data, test_targets,verbose=2)\n"
   ]
  },
  {
   "cell_type": "code",
   "execution_count": 66,
   "metadata": {},
   "outputs": [],
   "source": [
    "# Re-train the regularised model\n",
    "regularised_model=get_regularised_model(1e-8,0.2)\n",
    "regularised_model.compile(optimizer='adam',loss='mse')\n",
    "reg_history=regularised_model.fit(train_data, train_targets, epochs=100,\n",
    "                                     batch_size=64, validation_split=0.15,verbose=False,\n",
    "                                  callbacks=[tf.keras.callbacks.EarlyStopping(patience=2)])\n",
    "\n"
   ]
  },
  {
   "cell_type": "code",
   "execution_count": 67,
   "metadata": {},
   "outputs": [
    {
     "name": "stdout",
     "output_type": "stream",
     "text": [
      "45/1 - 0s - loss: 0.5455\n"
     ]
    },
    {
     "data": {
      "text/plain": [
       "0.5213058458434211"
      ]
     },
     "execution_count": 67,
     "metadata": {},
     "output_type": "execute_result"
    }
   ],
   "source": [
    "# Evaluate the model on the test set\n",
    "regularised_model.evaluate(test_data, test_targets,verbose=2)\n"
   ]
  },
  {
   "cell_type": "markdown",
   "metadata": {},
   "source": [
    "#### Plot the learning curves"
   ]
  },
  {
   "cell_type": "code",
   "execution_count": 68,
   "metadata": {},
   "outputs": [
    {
     "data": {
      "image/png": "[encoded data removed]",
      "text/plain": [
       "<Figure size 864x360 with 2 Axes>"
      ]
     },
     "metadata": {
      "needs_background": "light"
     },
     "output_type": "display_data"
    }
   ],
   "source": [
    "# Plot the training and validation loss\n",
    "\n",
    "import matplotlib.pyplot as plt\n",
    "\n",
    "fig = plt.figure(figsize=(12, 5))\n",
    "\n",
    "fig.add_subplot(121)\n",
    "\n",
    "plt.plot(unreg_history.history['loss'])\n",
    "plt.plot(unreg_history.history['val_loss'])\n",
    "plt.title('Unregularised model: loss vs. epochs')\n",
    "plt.ylabel('Loss')\n",
    "plt.xlabel('Epoch')\n",
    "plt.legend(['Training', 'Validation'], loc='upper right')\n",
    "\n",
    "fig.add_subplot(122)\n",
    "\n",
    "plt.plot(reg_history.history['loss'])\n",
    "plt.plot(reg_history.history['val_loss'])\n",
    "plt.title('Regularised model: loss vs. epochs')\n",
    "plt.ylabel('Loss')\n",
    "plt.xlabel('Epoch')\n",
    "plt.legend(['Training', 'Validation'], loc='upper right')\n",
    "\n",
    "plt.show()"
   ]
  }
 ],
 "metadata": {
  "kernelspec": {
   "display_name": "Python 3",
   "language": "python",
   "name": "python3"
  },
  "language_info": {
   "codemirror_mode": {
    "name": "ipython",
    "version": 3
   },
   "file_extension": ".py",
   "mimetype": "text/x-python",
   "name": "python",
   "nbconvert_exporter": "python",
   "pygments_lexer": "ipython3",
   "version": "3.7.1"
  }
 },
 "nbformat": 4,
 "nbformat_minor": 2
}
