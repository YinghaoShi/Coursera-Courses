{
  "nbformat": 4,
  "nbformat_minor": 0,
  "metadata": {
    "kernelspec": {
      "display_name": "Python 3",
      "language": "python",
      "name": "python3"
    },
    "language_info": {
      "codemirror_mode": {
        "name": "ipython",
        "version": 3
      },
      "file_extension": ".py",
      "mimetype": "text/x-python",
      "name": "python",
      "nbconvert_exporter": "python",
      "pygments_lexer": "ipython3",
      "version": "3.7.1"
    },
    "colab": {
      "name": "Coding Tutorial for course 3 week 1.ipynb",
      "provenance": [],
      "collapsed_sections": [
        "Jj29CUq6sgme",
        "o4YMGd7dsgmy",
        "Jn2Cg3YEsgm2",
        "zlvfIjF3sgm-",
        "94n2DK21sgm-",
        "Lga_t7q0sgnC",
        "_7tvenxCsgnf",
        "D3rFgnVisgn0",
        "8kTjEmFysgoJ",
        "ycDlIEiGsgoM"
      ]
    }
  },
  "cells": [
    {
      "cell_type": "code",
      "metadata": {
        "id": "e4NV6Xcdsgma",
        "colab": {
          "base_uri": "https://localhost:8080/"
        },
        "outputId": "e4d14d94-ecb1-4be5-a649-2cb90535c2a5"
      },
      "source": [
        "import tensorflow as tf\n",
        "import tensorflow_probability as tfp\n",
        "tfd = tfp.distributions\n",
        "\n",
        "print(\"TF version:\", tf.__version__)\n",
        "print(\"TFP version:\", tfp.__version__)"
      ],
      "execution_count": 1,
      "outputs": [
        {
          "output_type": "stream",
          "text": [
            "TF version: 2.3.0\n",
            "TFP version: 0.11.0\n"
          ],
          "name": "stdout"
        }
      ]
    },
    {
      "cell_type": "code",
      "metadata": {
        "id": "Luc9w4p_sgmc"
      },
      "source": [
        "# Additional imports and setting fixed random seed to have reproducibility\n",
        "\n",
        "import matplotlib.pyplot as plt\n",
        "import numpy as np\n",
        "tf.random.set_seed(123)"
      ],
      "execution_count": 2,
      "outputs": []
    },
    {
      "cell_type": "markdown",
      "metadata": {
        "id": "00uSMbgVsgme"
      },
      "source": [
        "# Tensorflow Distributions"
      ]
    },
    {
      "cell_type": "markdown",
      "metadata": {
        "id": "E7htVM9psgme"
      },
      "source": [
        "## Coding Tutorials\n",
        "#### 1. [Univariate Distributions](#univariate_distributions)\n",
        "#### 2. [Multivariate Distributions](#multivariate_distributions)\n",
        "#### 3. [The Independent Distribution](#the_independent_distribution)\n",
        "#### 4. [Sampling and log probs](#sampling_and_log_probs)\n",
        "#### 5. [Trainable Distributions](#trainable_distributions)"
      ]
    },
    {
      "cell_type": "markdown",
      "metadata": {
        "id": "Jj29CUq6sgme"
      },
      "source": [
        "***\n",
        "## Univariate distributions\n",
        "<a id='univariate_distributions'></a>"
      ]
    },
    {
      "cell_type": "code",
      "metadata": {
        "id": "JoHMzrrDsgmf",
        "colab": {
          "base_uri": "https://localhost:8080/"
        },
        "outputId": "88754cbe-2b9e-4c5c-b028-14ac5c67132f"
      },
      "source": [
        "# Create a normal distribution from Tensorflow Distributions\n",
        "\n",
        "normal=tfd.Normal(loc=0,scale=1)\n",
        "normal"
      ],
      "execution_count": null,
      "outputs": [
        {
          "output_type": "execute_result",
          "data": {
            "text/plain": [
              "<tfp.distributions.Normal 'Normal' batch_shape=[] event_shape=[] dtype=float32>"
            ]
          },
          "metadata": {
            "tags": []
          },
          "execution_count": 3
        }
      ]
    },
    {
      "cell_type": "code",
      "metadata": {
        "id": "XPCtjb2bsgmi",
        "colab": {
          "base_uri": "https://localhost:8080/"
        },
        "outputId": "88b6341c-52f3-40e5-9290-40b22cc7b0ce"
      },
      "source": [
        "# Sample from the chosen distribution...\n",
        "normal.sample()\n"
      ],
      "execution_count": null,
      "outputs": [
        {
          "output_type": "execute_result",
          "data": {
            "text/plain": [
              "<tf.Tensor: shape=(), dtype=float32, numpy=-0.8980837>"
            ]
          },
          "metadata": {
            "tags": []
          },
          "execution_count": 4
        }
      ]
    },
    {
      "cell_type": "code",
      "metadata": {
        "id": "LE4LZS7rsgmk",
        "colab": {
          "base_uri": "https://localhost:8080/"
        },
        "outputId": "d88feb11-9de9-4472-ba4b-3c164b4a86f1"
      },
      "source": [
        "# ... or sample multiple times\n",
        "\n",
        "normal.sample(10)"
      ],
      "execution_count": null,
      "outputs": [
        {
          "output_type": "execute_result",
          "data": {
            "text/plain": [
              "<tf.Tensor: shape=(10,), dtype=float32, numpy=\n",
              "array([ 0.33875433,  0.3449861 , -0.6605785 , -0.2854994 ,  0.43852386,\n",
              "        0.8288566 , -0.53591555, -0.5353483 , -1.0324248 , -2.942705  ],\n",
              "      dtype=float32)>"
            ]
          },
          "metadata": {
            "tags": []
          },
          "execution_count": 5
        }
      ]
    },
    {
      "cell_type": "code",
      "metadata": {
        "id": "Gc_PQ10Tsgmm",
        "colab": {
          "base_uri": "https://localhost:8080/"
        },
        "outputId": "6047c0b9-0099-4319-979d-9fc6c1a58311"
      },
      "source": [
        "# Obtain value of probability's density\n",
        "normal.prob(0)\n"
      ],
      "execution_count": null,
      "outputs": [
        {
          "output_type": "execute_result",
          "data": {
            "text/plain": [
              "<tf.Tensor: shape=(), dtype=float32, numpy=0.3989423>"
            ]
          },
          "metadata": {
            "tags": []
          },
          "execution_count": 6
        }
      ]
    },
    {
      "cell_type": "code",
      "metadata": {
        "id": "vMbFWoMwsgmn",
        "colab": {
          "base_uri": "https://localhost:8080/"
        },
        "outputId": "c2718512-8ca0-4b87-b7b2-ab4732304c4d"
      },
      "source": [
        "# Obtain value of logprobability\n",
        "\n",
        "normal.log_prob(0)"
      ],
      "execution_count": null,
      "outputs": [
        {
          "output_type": "execute_result",
          "data": {
            "text/plain": [
              "<tf.Tensor: shape=(), dtype=float32, numpy=-0.9189385>"
            ]
          },
          "metadata": {
            "tags": []
          },
          "execution_count": 7
        }
      ]
    },
    {
      "cell_type": "code",
      "metadata": {
        "id": "e6TkQQqvsgmp",
        "colab": {
          "base_uri": "https://localhost:8080/"
        },
        "outputId": "09b9b9e7-87b8-4e82-dfdf-8ffdbe55bbb4"
      },
      "source": [
        "# Verify that this really is the log of the probability\n",
        "\n",
        "np.log(normal.prob(0))"
      ],
      "execution_count": null,
      "outputs": [
        {
          "output_type": "execute_result",
          "data": {
            "text/plain": [
              "-0.9189385"
            ]
          },
          "metadata": {
            "tags": []
          },
          "execution_count": 8
        }
      ]
    },
    {
      "cell_type": "code",
      "metadata": {
        "id": "rk3lYT3jsgmr",
        "colab": {
          "base_uri": "https://localhost:8080/",
          "height": 265
        },
        "outputId": "cf16c642-2b3f-4adb-8e99-a3d1e5e62f05"
      },
      "source": [
        "# Plot a histogram, approximating the density\n",
        "\n",
        "plt.hist(normal.sample(10000), bins=50, density=True)\n",
        "plt.show()"
      ],
      "execution_count": null,
      "outputs": [
        {
          "output_type": "display_data",
          "data": {
            "image/png": "[encoded data removed]",
            "text/plain": [
              "<Figure size 432x288 with 1 Axes>"
            ]
          },
          "metadata": {
            "tags": [],
            "needs_background": "light"
          }
        }
      ]
    },
    {
      "cell_type": "code",
      "metadata": {
        "id": "IUyiPOwVsgms",
        "colab": {
          "base_uri": "https://localhost:8080/",
          "height": 265
        },
        "outputId": "451779d8-c1e7-44e6-f05c-3114bb51a2b4"
      },
      "source": [
        "# Do the same for the exponential distribution\n",
        "exponential=tfd.Exponential(rate=1)\n",
        "plt.hist(exponential.sample(10000), bins=50, density=True)\n",
        "plt.show()\n"
      ],
      "execution_count": null,
      "outputs": [
        {
          "output_type": "display_data",
          "data": {
            "image/png": "[encoded data removed]",
            "text/plain": [
              "<Figure size 432x288 with 1 Axes>"
            ]
          },
          "metadata": {
            "tags": [],
            "needs_background": "light"
          }
        }
      ]
    },
    {
      "cell_type": "code",
      "metadata": {
        "id": "zAxCh7ynsgmu",
        "colab": {
          "base_uri": "https://localhost:8080/"
        },
        "outputId": "d4344a44-eb41-4dcf-966a-0b596070d87c"
      },
      "source": [
        "# Sample as before\n",
        "\n",
        "exponential.sample(10)"
      ],
      "execution_count": null,
      "outputs": [
        {
          "output_type": "execute_result",
          "data": {
            "text/plain": [
              "<tf.Tensor: shape=(10,), dtype=float32, numpy=\n",
              "array([0.3179616 , 0.9595855 , 0.6190708 , 1.3738598 , 1.6796893 ,\n",
              "       0.40142855, 1.6830153 , 1.78942   , 0.38126466, 0.55283946],\n",
              "      dtype=float32)>"
            ]
          },
          "metadata": {
            "tags": []
          },
          "execution_count": 11
        }
      ]
    },
    {
      "cell_type": "code",
      "metadata": {
        "id": "D-yhrZAqsgmw",
        "colab": {
          "base_uri": "https://localhost:8080/"
        },
        "outputId": "b0829812-fcc8-4e46-9bb1-9372194af424"
      },
      "source": [
        "# Create a Bernoulli distribution (discrete)\n",
        "bernoulli=tfd.Bernoulli(probs=0.8)\n",
        "bernoulli.sample(20)\n"
      ],
      "execution_count": null,
      "outputs": [
        {
          "output_type": "execute_result",
          "data": {
            "text/plain": [
              "<tf.Tensor: shape=(20,), dtype=int32, numpy=\n",
              "array([0, 1, 1, 0, 0, 1, 1, 0, 1, 1, 1, 0, 1, 1, 1, 0, 1, 0, 1, 1],\n",
              "      dtype=int32)>"
            ]
          },
          "metadata": {
            "tags": []
          },
          "execution_count": 12
        }
      ]
    },
    {
      "cell_type": "markdown",
      "metadata": {
        "id": "o4YMGd7dsgmy"
      },
      "source": [
        "#### A word of caution on discrete distributions"
      ]
    },
    {
      "cell_type": "code",
      "metadata": {
        "id": "_qhEUig2sgmy",
        "colab": {
          "base_uri": "https://localhost:8080/"
        },
        "outputId": "4028307b-d6f0-4c48-ef58-97565c981667"
      },
      "source": [
        "# Calculate Bernoulli prob and see that 0.5 and -1 do not give the correct probability!\n",
        "\n",
        "for k in [0,0.5,1,-1]:\n",
        "    print('prob result {} for k = {} '.format(bernoulli.prob(k),k))"
      ],
      "execution_count": null,
      "outputs": [
        {
          "output_type": "stream",
          "text": [
            "prob result 0.19999998807907104 for k = 0 \n",
            "prob result 0.3999999761581421 for k = 0.5 \n",
            "prob result 0.800000011920929 for k = 1 \n",
            "prob result 0.04999999701976776 for k = -1 \n"
          ],
          "name": "stdout"
        }
      ]
    },
    {
      "cell_type": "code",
      "metadata": {
        "id": "3i_ifyZLsgmz"
      },
      "source": [
        "# Replicate the scores to see what is occurring under the hood\n",
        "\n",
        "def my_bernoulli(p_success, k):\n",
        "    return np.power(p_success,k)*np.power((1-p_success),(1-k))"
      ],
      "execution_count": null,
      "outputs": []
    },
    {
      "cell_type": "code",
      "metadata": {
        "id": "YjDZmhp1sgm0",
        "colab": {
          "base_uri": "https://localhost:8080/"
        },
        "outputId": "743772ba-de32-4557-dcbe-3876b7b4f35d"
      },
      "source": [
        "# Evaluate it as before\n",
        "\n",
        "for k in [0,0.5,1,-1]:\n",
        "    print('prob result {} for k = {} '.format(my_bernoulli(p_success=0.8,k=k),k))"
      ],
      "execution_count": null,
      "outputs": [
        {
          "output_type": "stream",
          "text": [
            "prob result 0.19999999999999996 for k = 0 \n",
            "prob result 0.3999999999999999 for k = 0.5 \n",
            "prob result 0.8 for k = 1 \n",
            "prob result 0.049999999999999975 for k = -1 \n"
          ],
          "name": "stdout"
        }
      ]
    },
    {
      "cell_type": "markdown",
      "metadata": {
        "id": "Jn2Cg3YEsgm2"
      },
      "source": [
        "#### Work with batch distributions"
      ]
    },
    {
      "cell_type": "code",
      "metadata": {
        "id": "FhtSN4-Esgm2",
        "colab": {
          "base_uri": "https://localhost:8080/"
        },
        "outputId": "46b221dc-0b6b-4a13-9b3a-89764d417ddb"
      },
      "source": [
        "# Create a batched Bernoulli distribution\n",
        "\n",
        "bernoulli_batch = tfd.Bernoulli(probs=[0.1, 0.25, 0.5, 0.75, 0.9])\n",
        "bernoulli_batch"
      ],
      "execution_count": null,
      "outputs": [
        {
          "output_type": "execute_result",
          "data": {
            "text/plain": [
              "<tfp.distributions.Bernoulli 'Bernoulli' batch_shape=[5] event_shape=[] dtype=int32>"
            ]
          },
          "metadata": {
            "tags": []
          },
          "execution_count": 20
        }
      ]
    },
    {
      "cell_type": "code",
      "metadata": {
        "id": "i1amOMwzsgm4",
        "colab": {
          "base_uri": "https://localhost:8080/"
        },
        "outputId": "99f3673e-d531-46b1-ee98-d1fcac4ddcf6"
      },
      "source": [
        "# Sample from it, noting the shape\n",
        "bernoulli_batch.sample(10)\n"
      ],
      "execution_count": null,
      "outputs": [
        {
          "output_type": "execute_result",
          "data": {
            "text/plain": [
              "<tf.Tensor: shape=(10, 5), dtype=int32, numpy=\n",
              "array([[0, 0, 0, 1, 1],\n",
              "       [0, 1, 0, 1, 1],\n",
              "       [0, 0, 1, 1, 1],\n",
              "       [0, 0, 0, 1, 1],\n",
              "       [0, 0, 0, 1, 1],\n",
              "       [0, 1, 0, 1, 1],\n",
              "       [0, 0, 1, 1, 1],\n",
              "       [0, 0, 1, 0, 1],\n",
              "       [0, 1, 0, 1, 1],\n",
              "       [0, 0, 0, 0, 1]], dtype=int32)>"
            ]
          },
          "metadata": {
            "tags": []
          },
          "execution_count": 21
        }
      ]
    },
    {
      "cell_type": "code",
      "metadata": {
        "id": "BrcfsPL0sgm6",
        "colab": {
          "base_uri": "https://localhost:8080/"
        },
        "outputId": "481fa405-3b3c-43ff-fcea-d35818b277c5"
      },
      "source": [
        "# Use a batch shape with higher rank\n",
        "\n",
        "probs = [[[0.5, 0.5], \n",
        "          [0.8, 0.3], \n",
        "          [0.25, 0.75]]]\n",
        "bernoulli_batch_2D = tfd.Bernoulli(probs=probs)\n",
        "bernoulli_batch_2D"
      ],
      "execution_count": null,
      "outputs": [
        {
          "output_type": "execute_result",
          "data": {
            "text/plain": [
              "<tfp.distributions.Bernoulli 'Bernoulli' batch_shape=[1, 3, 2] event_shape=[] dtype=int32>"
            ]
          },
          "metadata": {
            "tags": []
          },
          "execution_count": 22
        }
      ]
    },
    {
      "cell_type": "code",
      "metadata": {
        "id": "IseSexERsgm8",
        "colab": {
          "base_uri": "https://localhost:8080/"
        },
        "outputId": "cb00bc3d-fcdf-4d30-9133-f561ba1050f9"
      },
      "source": [
        "# Sample from this batch of distributions\n",
        "bernoulli_batch_2D.sample(10)\n"
      ],
      "execution_count": null,
      "outputs": [
        {
          "output_type": "execute_result",
          "data": {
            "text/plain": [
              "<tf.Tensor: shape=(10, 1, 3, 2), dtype=int32, numpy=\n",
              "array([[[[0, 0],\n",
              "         [1, 1],\n",
              "         [0, 1]]],\n",
              "\n",
              "\n",
              "       [[[0, 0],\n",
              "         [1, 0],\n",
              "         [0, 1]]],\n",
              "\n",
              "\n",
              "       [[[1, 0],\n",
              "         [1, 1],\n",
              "         [0, 1]]],\n",
              "\n",
              "\n",
              "       [[[1, 0],\n",
              "         [0, 0],\n",
              "         [0, 1]]],\n",
              "\n",
              "\n",
              "       [[[0, 1],\n",
              "         [1, 1],\n",
              "         [1, 0]]],\n",
              "\n",
              "\n",
              "       [[[1, 0],\n",
              "         [1, 1],\n",
              "         [0, 0]]],\n",
              "\n",
              "\n",
              "       [[[0, 0],\n",
              "         [1, 1],\n",
              "         [0, 1]]],\n",
              "\n",
              "\n",
              "       [[[1, 1],\n",
              "         [1, 0],\n",
              "         [0, 1]]],\n",
              "\n",
              "\n",
              "       [[[1, 1],\n",
              "         [1, 0],\n",
              "         [1, 1]]],\n",
              "\n",
              "\n",
              "       [[[1, 0],\n",
              "         [1, 0],\n",
              "         [1, 0]]]], dtype=int32)>"
            ]
          },
          "metadata": {
            "tags": []
          },
          "execution_count": 23
        }
      ]
    },
    {
      "cell_type": "code",
      "metadata": {
        "id": "MWZmvprYsgm9",
        "colab": {
          "base_uri": "https://localhost:8080/"
        },
        "outputId": "8ffca3ca-a30e-4cd0-c230-7c49169fee47"
      },
      "source": [
        "# Determine probabilities from this batch distribution\n",
        "\n",
        "bernoulli_batch_2D.prob([[[1, 0], \n",
        "                         [0, 0], \n",
        "                         [1, 1]]])"
      ],
      "execution_count": null,
      "outputs": [
        {
          "output_type": "execute_result",
          "data": {
            "text/plain": [
              "<tf.Tensor: shape=(1, 3, 2), dtype=float32, numpy=\n",
              "array([[[0.5       , 0.5       ],\n",
              "        [0.19999999, 0.7       ],\n",
              "        [0.25      , 0.75      ]]], dtype=float32)>"
            ]
          },
          "metadata": {
            "tags": []
          },
          "execution_count": 24
        }
      ]
    },
    {
      "cell_type": "markdown",
      "metadata": {
        "id": "zlvfIjF3sgm-"
      },
      "source": [
        "***\n",
        "<a id='multivariate_distributions'></a>\n",
        "## Multivariate Distributions\n"
      ]
    },
    {
      "cell_type": "markdown",
      "metadata": {
        "id": "94n2DK21sgm-"
      },
      "source": [
        "#### Basic multivariate distributions"
      ]
    },
    {
      "cell_type": "code",
      "metadata": {
        "id": "35RX_A3wsgm-",
        "colab": {
          "base_uri": "https://localhost:8080/"
        },
        "outputId": "f5a64480-f5ce-413a-9579-236b06d8ec06"
      },
      "source": [
        "# Define 2D multivariate Gaussian with diagonal covariance matrix\n",
        "normal_diag=tfd.MultivariateNormalDiag(loc=[0,1],scale_diag=[1,2])\n",
        "normal_diag\n"
      ],
      "execution_count": null,
      "outputs": [
        {
          "output_type": "execute_result",
          "data": {
            "text/plain": [
              "<tfp.distributions.MultivariateNormalDiag 'MultivariateNormalDiag' batch_shape=[] event_shape=[2] dtype=float32>"
            ]
          },
          "metadata": {
            "tags": []
          },
          "execution_count": 25
        }
      ]
    },
    {
      "cell_type": "code",
      "metadata": {
        "id": "zblklZq6sgnA",
        "colab": {
          "base_uri": "https://localhost:8080/"
        },
        "outputId": "233e6f2c-2733-4f42-eee4-927ed2e31890"
      },
      "source": [
        "# Sample from it\n",
        "normal_diag.sample(10)\n"
      ],
      "execution_count": null,
      "outputs": [
        {
          "output_type": "execute_result",
          "data": {
            "text/plain": [
              "<tf.Tensor: shape=(10, 2), dtype=float32, numpy=\n",
              "array([[-0.37992278,  2.3674164 ],\n",
              "       [-2.224005  , -0.28514445],\n",
              "       [ 0.923083  , -1.4528892 ],\n",
              "       [-0.62774605, -0.33852375],\n",
              "       [-0.6252951 , -1.3324146 ],\n",
              "       [-0.42454168,  1.3192186 ],\n",
              "       [-1.702882  ,  1.8533869 ],\n",
              "       [-0.4608376 , -0.7023523 ],\n",
              "       [-1.1919353 , -0.12865627],\n",
              "       [ 0.48053816, -0.2693485 ]], dtype=float32)>"
            ]
          },
          "metadata": {
            "tags": []
          },
          "execution_count": 26
        }
      ]
    },
    {
      "cell_type": "code",
      "metadata": {
        "id": "CJIxbKJDsgnB",
        "colab": {
          "base_uri": "https://localhost:8080/",
          "height": 265
        },
        "outputId": "e09b7d2d-db12-407e-f15b-5ccbc9bec784"
      },
      "source": [
        "# Make a plot\n",
        "\n",
        "plt_sample = normal_diag.sample(10000)\n",
        "plt.scatter(plt_sample[:, 0], plt_sample[:, 1], marker='.', alpha=0.05)\n",
        "plt.axis('equal')\n",
        "plt.show()"
      ],
      "execution_count": null,
      "outputs": [
        {
          "output_type": "display_data",
          "data": {
            "image/png": "[encoded data removed]",
            "text/plain": [
              "<Figure size 432x288 with 1 Axes>"
            ]
          },
          "metadata": {
            "tags": [],
            "needs_background": "light"
          }
        }
      ]
    },
    {
      "cell_type": "markdown",
      "metadata": {
        "id": "Lga_t7q0sgnC"
      },
      "source": [
        "#### Batches of multivariate distributions"
      ]
    },
    {
      "cell_type": "code",
      "metadata": {
        "id": "jrz-S40GsgnC",
        "colab": {
          "base_uri": "https://localhost:8080/"
        },
        "outputId": "82806190-6d03-4a41-f55d-b3fbdd04bbbf"
      },
      "source": [
        "# Create three \"batches\" of multivariate normals\n",
        "\n",
        "normal_diag_batch=tfd.MultivariateNormalDiag(loc=[[0,0],[0,0],[0,0]],\n",
        "                                             scale_diag=[[1,2],[2,1],[2,2]])\n",
        "normal_diag_batch"
      ],
      "execution_count": null,
      "outputs": [
        {
          "output_type": "execute_result",
          "data": {
            "text/plain": [
              "<tfp.distributions.MultivariateNormalDiag 'MultivariateNormalDiag' batch_shape=[3] event_shape=[2] dtype=float32>"
            ]
          },
          "metadata": {
            "tags": []
          },
          "execution_count": 28
        }
      ]
    },
    {
      "cell_type": "code",
      "metadata": {
        "id": "3cuB8hfCsgnE",
        "colab": {
          "base_uri": "https://localhost:8080/"
        },
        "outputId": "407701bd-0a60-4cd8-f0fa-fefebe385633"
      },
      "source": [
        "# Sample from it\n",
        "\n",
        "samples=normal_diag_batch.sample(5)\n",
        "samples"
      ],
      "execution_count": null,
      "outputs": [
        {
          "output_type": "execute_result",
          "data": {
            "text/plain": [
              "<tf.Tensor: shape=(5, 3, 2), dtype=float32, numpy=\n",
              "array([[[-0.8012545 , -2.128108  ],\n",
              "        [ 2.0774972 , -2.7921855 ],\n",
              "        [ 0.52665955,  0.6095758 ]],\n",
              "\n",
              "       [[ 0.9923561 , -0.9778331 ],\n",
              "        [-0.8376892 ,  0.70630246],\n",
              "        [-1.0894657 , -0.65969497]],\n",
              "\n",
              "       [[-1.6264789 ,  2.2429495 ],\n",
              "        [-4.301875  , -0.7626804 ],\n",
              "        [-0.43451956, -0.57022095]],\n",
              "\n",
              "       [[ 0.73075646,  2.8356621 ],\n",
              "        [ 1.8173586 ,  1.2079152 ],\n",
              "        [-3.2939956 ,  2.33647   ]],\n",
              "\n",
              "       [[-0.24759005,  0.5630618 ],\n",
              "        [-0.6053428 ,  0.06578209],\n",
              "        [ 1.4922864 , -0.55439734]]], dtype=float32)>"
            ]
          },
          "metadata": {
            "tags": []
          },
          "execution_count": 29
        }
      ]
    },
    {
      "cell_type": "code",
      "metadata": {
        "id": "_83n1afGsgnG",
        "colab": {
          "base_uri": "https://localhost:8080/"
        },
        "outputId": "4343c8df-cbfd-45f9-89cb-b69930e2b83a"
      },
      "source": [
        "# Compute log probs\n",
        "normal_diag_batch.log_prob(samples)\n"
      ],
      "execution_count": null,
      "outputs": [
        {
          "output_type": "execute_result",
          "data": {
            "text/plain": [
              "<tf.Tensor: shape=(5, 3), dtype=float32, numpy=\n",
              "array([[-3.4181342, -6.9686737, -3.3052905],\n",
              "       [-3.142929 , -2.8681712, -3.426938 ],\n",
              "       [-4.4825935, -5.1351314, -3.2884164],\n",
              "       [-3.8031492, -3.6734028, -5.262859 ],\n",
              "       [-2.6013045, -2.5789928, -3.5409558]], dtype=float32)>"
            ]
          },
          "metadata": {
            "tags": []
          },
          "execution_count": 30
        }
      ]
    },
    {
      "cell_type": "code",
      "metadata": {
        "id": "cXTIHrK3sgnH",
        "colab": {
          "base_uri": "https://localhost:8080/"
        },
        "outputId": "28b077f2-ba40-41de-bd80-fa4da790aae7"
      },
      "source": [
        "# Create a sample for a plot -- notice the shape\n",
        "\n",
        "plt_sample_batch=normal_diag_batch.sample(10000)\n",
        "plt_sample_batch.shape"
      ],
      "execution_count": null,
      "outputs": [
        {
          "output_type": "execute_result",
          "data": {
            "text/plain": [
              "TensorShape([10000, 3, 2])"
            ]
          },
          "metadata": {
            "tags": []
          },
          "execution_count": 31
        }
      ]
    },
    {
      "cell_type": "code",
      "metadata": {
        "id": "29ZCx-AEsgnJ",
        "colab": {
          "base_uri": "https://localhost:8080/",
          "height": 227
        },
        "outputId": "40c89f92-5636-4d44-f185-9e74fcab831e"
      },
      "source": [
        "# Plot samples from the batched multivariate Gaussian\n",
        "\n",
        "fig, axs = (plt.subplots(1, 3, sharex=True, sharey=True, figsize=(10, 3)))\n",
        "titles = ['cov_diag=[1, 2]','cov_diag=[2, 1]', 'cov_diag=[2, 2]']\n",
        "\n",
        "for i, (ax, title) in enumerate(zip(axs,titles)):\n",
        "    samples = plt_sample_batch[:,i,:] #take the ith batch [samples x event_shape]\n",
        "    ax.scatter(samples[:, 0], samples[:, 1], marker='.', alpha=0.05)\n",
        "    ax.set_title(title)\n",
        "plt.show()"
      ],
      "execution_count": null,
      "outputs": [
        {
          "output_type": "display_data",
          "data": {
            "image/png": "[encoded data removed]",
            "text/plain": [
              "<Figure size 720x216 with 3 Axes>"
            ]
          },
          "metadata": {
            "tags": [],
            "needs_background": "light"
          }
        }
      ]
    },
    {
      "cell_type": "markdown",
      "metadata": {
        "id": "v15LR-_WsgnL"
      },
      "source": [
        "\n",
        "\n",
        "***\n",
        "<a id='the_independent_distribution'></a>\n",
        "## The Independent Distribution"
      ]
    },
    {
      "cell_type": "code",
      "metadata": {
        "id": "qqIvyoQisgnL"
      },
      "source": [
        "# Start by defining a batch of two univariate Gaussians, then\n",
        "# combine them into a bivariate Gaussian with independent components\n",
        "locs=[-1.,1.]\n",
        "scales=[0.5,1.]\n",
        "batch_of_normals=tfd.Normal(loc=locs,scale=scales)\n"
      ],
      "execution_count": null,
      "outputs": []
    },
    {
      "cell_type": "code",
      "metadata": {
        "id": "jaT90a68sgnM",
        "colab": {
          "base_uri": "https://localhost:8080/",
          "height": 367
        },
        "outputId": "97e2c1e6-caf5-4217-fc0f-6c7b388eda98"
      },
      "source": [
        "# Univariate density functions\n",
        "\n",
        "import seaborn as sns\n",
        "\n",
        "t = np.linspace(-4, 4, 10000)\n",
        "densities = batch_of_normals.prob(np.repeat(t[:, np.newaxis], 2, axis=1)) # each column is a vector of densities for one distn\n",
        "\n",
        "sns.lineplot(t, densities[:, 0], label='loc={}, scale={}'.format(locs[0], scales[0]))\n",
        "sns.lineplot(t, densities[:, 1], label='loc={}, scale={}'.format(locs[0], scales[0]))\n",
        "plt.ylabel('Probability density')\n",
        "plt.xlabel('Value')\n",
        "plt.legend()\n",
        "plt.show()"
      ],
      "execution_count": null,
      "outputs": [
        {
          "output_type": "stream",
          "text": [
            "/usr/local/lib/python3.6/dist-packages/seaborn/_decorators.py:43: FutureWarning: Pass the following variables as keyword args: x, y. From version 0.12, the only valid positional argument will be `data`, and passing other arguments without an explicit keyword will result in an error or misinterpretation.\n",
            "  FutureWarning\n",
            "/usr/local/lib/python3.6/dist-packages/seaborn/_decorators.py:43: FutureWarning: Pass the following variables as keyword args: x, y. From version 0.12, the only valid positional argument will be `data`, and passing other arguments without an explicit keyword will result in an error or misinterpretation.\n",
            "  FutureWarning\n"
          ],
          "name": "stderr"
        },
        {
          "output_type": "display_data",
          "data": {
            "image/png": "[encoded data removed]",
            "text/plain": [
              "<Figure size 432x288 with 1 Axes>"
            ]
          },
          "metadata": {
            "tags": [],
            "needs_background": "light"
          }
        }
      ]
    },
    {
      "cell_type": "code",
      "metadata": {
        "id": "sb8KnB3TsgnP",
        "colab": {
          "base_uri": "https://localhost:8080/"
        },
        "outputId": "81bd0f31-25a7-45d5-8f01-7056f73a332d"
      },
      "source": [
        "# Check their batch_shape and event_shape\n",
        "batch_of_normals\n"
      ],
      "execution_count": null,
      "outputs": [
        {
          "output_type": "execute_result",
          "data": {
            "text/plain": [
              "<tfp.distributions.Normal 'Normal' batch_shape=[2] event_shape=[] dtype=float32>"
            ]
          },
          "metadata": {
            "tags": []
          },
          "execution_count": 6
        }
      ]
    },
    {
      "cell_type": "code",
      "metadata": {
        "id": "7CyvW3SqsgnQ"
      },
      "source": [
        "# Use Independent to convert the batch shape to the event shape\n",
        "\n",
        "bivariate_normal_from_Independent=tfd.Independent(batch_of_normals,reinterpreted_batch_ndims=1)"
      ],
      "execution_count": null,
      "outputs": []
    },
    {
      "cell_type": "code",
      "metadata": {
        "id": "im8kLlywsgnS",
        "colab": {
          "base_uri": "https://localhost:8080/"
        },
        "outputId": "19f03a6f-3f0b-4598-a397-1647aacd1f53"
      },
      "source": [
        "# Note that dimension from batch_shape has shifted to event_shape\n",
        "\n",
        "bivariate_normal_from_Independent"
      ],
      "execution_count": null,
      "outputs": [
        {
          "output_type": "execute_result",
          "data": {
            "text/plain": [
              "<tfp.distributions.Independent 'IndependentNormal' batch_shape=[] event_shape=[2] dtype=float32>"
            ]
          },
          "metadata": {
            "tags": []
          },
          "execution_count": 8
        }
      ]
    },
    {
      "cell_type": "code",
      "metadata": {
        "id": "qtfBXAUYsgnT",
        "colab": {
          "base_uri": "https://localhost:8080/",
          "height": 512
        },
        "outputId": "bcb1980f-ce23-4f2f-89c6-d5603c2d02d7"
      },
      "source": [
        "# Create a plot showing joint density contours and marginal density functions\n",
        "\n",
        "samples = bivariate_normal_from_Independent.sample(10000)\n",
        "x1 = samples[:, 0]\n",
        "x2 = samples[:, 1]\n",
        "sns.jointplot(x1, x2, kind=\"kde\", space=0, color='b', xlim=[-4, 4], ylim=[-4, 4])"
      ],
      "execution_count": null,
      "outputs": [
        {
          "output_type": "stream",
          "text": [
            "/usr/local/lib/python3.6/dist-packages/seaborn/_decorators.py:43: FutureWarning: Pass the following variables as keyword args: x, y. From version 0.12, the only valid positional argument will be `data`, and passing other arguments without an explicit keyword will result in an error or misinterpretation.\n",
            "  FutureWarning\n"
          ],
          "name": "stderr"
        },
        {
          "output_type": "execute_result",
          "data": {
            "text/plain": [
              "<seaborn.axisgrid.JointGrid at 0x7f3d551ba390>"
            ]
          },
          "metadata": {
            "tags": []
          },
          "execution_count": 9
        },
        {
          "output_type": "display_data",
          "data": {
            "image/png": "[encoded data removed]",
            "text/plain": [
              "<Figure size 432x432 with 3 Axes>"
            ]
          },
          "metadata": {
            "tags": [],
            "needs_background": "light"
          }
        }
      ]
    },
    {
      "cell_type": "code",
      "metadata": {
        "id": "sDDoW3nksgnU",
        "colab": {
          "base_uri": "https://localhost:8080/"
        },
        "outputId": "e1d3b0d0-e242-4a07-9f7e-9c2b2cdf540c"
      },
      "source": [
        "# Use MultivariateNormalDiag to create the equivalent distribution\n",
        "# Note that diagonal covariance matrix => no correlation => independence (for the multivariate normal distribution)\n",
        "bivariate_normal_from_Multivariate=tfd.MultivariateNormalDiag(loc=locs,scale_diag=scales)\n",
        "bivariate_normal_from_Multivariate\n"
      ],
      "execution_count": null,
      "outputs": [
        {
          "output_type": "execute_result",
          "data": {
            "text/plain": [
              "<tfp.distributions.MultivariateNormalDiag 'MultivariateNormalDiag' batch_shape=[] event_shape=[2] dtype=float32>"
            ]
          },
          "metadata": {
            "tags": []
          },
          "execution_count": 12
        }
      ]
    },
    {
      "cell_type": "code",
      "metadata": {
        "id": "qZUJ1ftjsgnV",
        "colab": {
          "base_uri": "https://localhost:8080/",
          "height": 512
        },
        "outputId": "2ebd654c-6eae-4c33-c732-8a50d6712ad2"
      },
      "source": [
        "# Plot the joint density function of bivariate_normal_from_Independent\n",
        "# Refer back to bivariate_normal_from_Independent to show that the plot is the same\n",
        "# Summarise how Independent has been used\n",
        "\n",
        "samples = bivariate_normal_from_Multivariate.sample(10000)\n",
        "x1 = samples[:, 0]\n",
        "x2 = samples[:, 1]\n",
        "sns.jointplot(x1, x2, kind=\"kde\", space=0, color='b', xlim=[-4, 4], ylim=[-4, 4])"
      ],
      "execution_count": null,
      "outputs": [
        {
          "output_type": "stream",
          "text": [
            "/usr/local/lib/python3.6/dist-packages/seaborn/_decorators.py:43: FutureWarning: Pass the following variables as keyword args: x, y. From version 0.12, the only valid positional argument will be `data`, and passing other arguments without an explicit keyword will result in an error or misinterpretation.\n",
            "  FutureWarning\n"
          ],
          "name": "stderr"
        },
        {
          "output_type": "execute_result",
          "data": {
            "text/plain": [
              "<seaborn.axisgrid.JointGrid at 0x7f3d5ca91048>"
            ]
          },
          "metadata": {
            "tags": []
          },
          "execution_count": 13
        },
        {
          "output_type": "display_data",
          "data": {
            "image/png": "[encoded data removed]",
            "text/plain": [
              "<Figure size 432x432 with 3 Axes>"
            ]
          },
          "metadata": {
            "tags": [],
            "needs_background": "light"
          }
        }
      ]
    },
    {
      "cell_type": "markdown",
      "metadata": {
        "id": "c1V8udtysgnW"
      },
      "source": [
        "#### Shifting batch dimensions to event dimensions using \n",
        "`reinterpreted_batch_ndims`"
      ]
    },
    {
      "cell_type": "code",
      "metadata": {
        "id": "f-OWFMj4sgnW"
      },
      "source": [
        "# Demonstrate use of reinterpreted_batch_ndims\n",
        "# By default all batch dims except the first are transferred to event dims\n",
        "\n",
        "loc_grid = [[-100., -100.],\n",
        "            [100., 100.],\n",
        "            [0., 0.]]\n",
        "scale_grid = [[1., 10.],\n",
        "              [1., 10.],\n",
        "              [1., 1.]]\n",
        "\n",
        "normals_batch_3by2_event_1 = tfd.Normal(loc=loc_grid, scale=scale_grid)"
      ],
      "execution_count": null,
      "outputs": []
    },
    {
      "cell_type": "code",
      "metadata": {
        "id": "UXlQmUKFsgnX",
        "colab": {
          "base_uri": "https://localhost:8080/"
        },
        "outputId": "d633c63d-6480-447e-8dce-bb16b9ea8b82"
      },
      "source": [
        "# Highlight batch_shape\n",
        "normals_batch_3by2_event_1\n"
      ],
      "execution_count": null,
      "outputs": [
        {
          "output_type": "execute_result",
          "data": {
            "text/plain": [
              "<tfp.distributions.Normal 'Normal' batch_shape=[3, 2] event_shape=[] dtype=float32>"
            ]
          },
          "metadata": {
            "tags": []
          },
          "execution_count": 15
        }
      ]
    },
    {
      "cell_type": "code",
      "metadata": {
        "id": "oUEDQM7WsgnY",
        "colab": {
          "base_uri": "https://localhost:8080/"
        },
        "outputId": "c25b7d65-1f83-4d8c-8b58-1f26e731109a"
      },
      "source": [
        "# We now have a batch of 3 bivariate normal distributions,\n",
        "# each parametrised by a column of our original parameter grid\n",
        "normals_batch_3_event_2=tfd.Independent(normals_batch_3by2_event_1)\n",
        "normals_batch_3_event_2\n",
        "#如果用的是默认值，即None，则只会保留第一维在batch_shape里"
      ],
      "execution_count": null,
      "outputs": [
        {
          "output_type": "execute_result",
          "data": {
            "text/plain": [
              "<tfp.distributions.Independent 'IndependentNormal' batch_shape=[3] event_shape=[2] dtype=float32>"
            ]
          },
          "metadata": {
            "tags": []
          },
          "execution_count": 16
        }
      ]
    },
    {
      "cell_type": "code",
      "metadata": {
        "id": "lFITioyHsgnb",
        "colab": {
          "base_uri": "https://localhost:8080/"
        },
        "outputId": "8a794180-2296-4b96-b965-82f2d7469753"
      },
      "source": [
        "# Evaluate log_prob\n",
        "\n",
        "normals_batch_3_event_2.log_prob([[-10.,10.],\n",
        "                                  [100.,100.],\n",
        "                                 [1.,1.]])"
      ],
      "execution_count": null,
      "outputs": [
        {
          "output_type": "execute_result",
          "data": {
            "text/plain": [
              "<tf.Tensor: shape=(3,), dtype=float32, numpy=array([-4.1146406e+03, -4.1404624e+00, -2.8378770e+00], dtype=float32)>"
            ]
          },
          "metadata": {
            "tags": []
          },
          "execution_count": 18
        }
      ]
    },
    {
      "cell_type": "code",
      "metadata": {
        "id": "C_xWA4Bfsgnd",
        "colab": {
          "base_uri": "https://localhost:8080/"
        },
        "outputId": "00acbed7-3387-48a7-b35e-99976e08e79f"
      },
      "source": [
        "# Can reinterpret _all_ batch dimensions as event dimensions\n",
        "\n",
        "normals_batch_1_event_3by2=tfd.Independent(normals_batch_3by2_event_1,reinterpreted_batch_ndims=2)\n",
        "normals_batch_1_event_3by2"
      ],
      "execution_count": null,
      "outputs": [
        {
          "output_type": "execute_result",
          "data": {
            "text/plain": [
              "<tfp.distributions.Independent 'IndependentNormal' batch_shape=[] event_shape=[3, 2] dtype=float32>"
            ]
          },
          "metadata": {
            "tags": []
          },
          "execution_count": 20
        }
      ]
    },
    {
      "cell_type": "code",
      "metadata": {
        "id": "s6K5yss3sgne",
        "colab": {
          "base_uri": "https://localhost:8080/"
        },
        "outputId": "07be9353-7ed6-4b3c-e400-ab514b88b93d"
      },
      "source": [
        "# Take log_probs \n",
        "normals_batch_1_event_3by2.log_prob([[-10.,10.],\n",
        "                                  [100.,100.],\n",
        "                                 [1.,1.]])\n"
      ],
      "execution_count": null,
      "outputs": [
        {
          "output_type": "execute_result",
          "data": {
            "text/plain": [
              "<tf.Tensor: shape=(), dtype=float32, numpy=-4121.619>"
            ]
          },
          "metadata": {
            "tags": []
          },
          "execution_count": 21
        }
      ]
    },
    {
      "cell_type": "markdown",
      "metadata": {
        "id": "_7tvenxCsgnf"
      },
      "source": [
        "#### Using `Independent` to build a Naive Bayes classifier"
      ]
    },
    {
      "cell_type": "markdown",
      "metadata": {
        "id": "4jzAd6-Psgnf"
      },
      "source": [
        "#### Introduction to `newsgroups` data set"
      ]
    },
    {
      "cell_type": "markdown",
      "metadata": {
        "id": "Qk_-dUZdsgnf"
      },
      "source": [
        "In this tutorial, just load the dataset, fetch train/test splits, probably choose a subset of the data.\n",
        "\n",
        "Construct the class conditional feature distribution (with Independent, using the Naive Bayes assumption) and sample from it.\n",
        "\n",
        "We can just use the ML estimates for parameters, in later tutorials we will learn them."
      ]
    },
    {
      "cell_type": "markdown",
      "metadata": {
        "id": "MwrKvmvyttQ7"
      },
      "source": [
        "#### Import the data\n",
        "\n",
        "The dataset required for this coding tutorial can be downloaded from the following link:\n",
        "\n",
        "https://drive.google.com/file/d/1ZdVZFZv3eEw3Duwjg4fvtYAsgySoCRIm/view?usp=sharing\n",
        "\n",
        "You should store this file in Drive for use in this Colab notebook."
      ]
    },
    {
      "cell_type": "code",
      "metadata": {
        "id": "L4LRNRbrttqt",
        "colab": {
          "base_uri": "https://localhost:8080/"
        },
        "outputId": "c68acaf8-02ae-43d4-af28-42b60f77ab56"
      },
      "source": [
        "# Run this cell to connect to your Drive folder\n",
        "\n",
        "from google.colab import drive\n",
        "drive.mount('/content/gdrive')"
      ],
      "execution_count": null,
      "outputs": [
        {
          "output_type": "stream",
          "text": [
            "Mounted at /content/gdrive\n"
          ],
          "name": "stdout"
        }
      ]
    },
    {
      "cell_type": "code",
      "metadata": {
        "id": "_-dUDWtnsgng"
      },
      "source": [
        "# Convenience function for retrieving the 20 newsgroups data set\n",
        "\n",
        "# Usenet was a forerunner to modern internet forums\n",
        "# Users could post and read articles\n",
        "# Newsgroup corresponded to a topic\n",
        "# Example topics in this data set: IBM computer hardware, baseball\n",
        "# Our objective is to use an article's contents to predict its newsgroup,\n",
        "# a 20-class classification problem.\n",
        "\n",
        "# 18000 newsgroups, posts on 20 topics\n",
        "from sklearn.datasets import fetch_20newsgroups\n",
        "from sklearn.feature_extraction.text import CountVectorizer\n"
      ],
      "execution_count": null,
      "outputs": []
    },
    {
      "cell_type": "code",
      "metadata": {
        "id": "D0d-Wj2hsgnh"
      },
      "source": [
        "# Get the train data\n",
        "\n",
        "newsgroups_data=fetch_20newsgroups(data_home='/content/gdrive/MyDrive/Colab Notebooks/',\n",
        "                                  subset='train')"
      ],
      "execution_count": null,
      "outputs": []
    },
    {
      "cell_type": "code",
      "metadata": {
        "id": "IR7YHcJ1sgni",
        "colab": {
          "base_uri": "https://localhost:8080/"
        },
        "outputId": "4bcb8b47-082e-45d6-f7e4-e823b75dbe7b"
      },
      "source": [
        "# More information about the data set\n",
        "print(newsgroups_data['DESCR'])\n"
      ],
      "execution_count": null,
      "outputs": [
        {
          "output_type": "stream",
          "text": [
            ".. _20newsgroups_dataset:\n",
            "\n",
            "The 20 newsgroups text dataset\n",
            "------------------------------\n",
            "\n",
            "The 20 newsgroups dataset comprises around 18000 newsgroups posts on\n",
            "20 topics split in two subsets: one for training (or development)\n",
            "and the other one for testing (or for performance evaluation). The split\n",
            "between the train and test set is based upon a messages posted before\n",
            "and after a specific date.\n",
            "\n",
            "This module contains two loaders. The first one,\n",
            ":func:`sklearn.datasets.fetch_20newsgroups`,\n",
            "returns a list of the raw texts that can be fed to text feature\n",
            "extractors such as :class:`sklearn.feature_extraction.text.CountVectorizer`\n",
            "with custom parameters so as to extract feature vectors.\n",
            "The second one, :func:`sklearn.datasets.fetch_20newsgroups_vectorized`,\n",
            "returns ready-to-use features, i.e., it is not necessary to use a feature\n",
            "extractor.\n",
            "\n",
            "**Data Set Characteristics:**\n",
            "\n",
            "    =================   ==========\n",
            "    Classes                     20\n",
            "    Samples total            18846\n",
            "    Dimensionality               1\n",
            "    Features                  text\n",
            "    =================   ==========\n",
            "\n",
            "Usage\n",
            "~~~~~\n",
            "\n",
            "The :func:`sklearn.datasets.fetch_20newsgroups` function is a data\n",
            "fetching / caching functions that downloads the data archive from\n",
            "the original `20 newsgroups website`_, extracts the archive contents\n",
            "in the ``~/scikit_learn_data/20news_home`` folder and calls the\n",
            ":func:`sklearn.datasets.load_files` on either the training or\n",
            "testing set folder, or both of them::\n",
            "\n",
            "  >>> from sklearn.datasets import fetch_20newsgroups\n",
            "  >>> newsgroups_train = fetch_20newsgroups(subset='train')\n",
            "\n",
            "  >>> from pprint import pprint\n",
            "  >>> pprint(list(newsgroups_train.target_names))\n",
            "  ['alt.atheism',\n",
            "   'comp.graphics',\n",
            "   'comp.os.ms-windows.misc',\n",
            "   'comp.sys.ibm.pc.hardware',\n",
            "   'comp.sys.mac.hardware',\n",
            "   'comp.windows.x',\n",
            "   'misc.forsale',\n",
            "   'rec.autos',\n",
            "   'rec.motorcycles',\n",
            "   'rec.sport.baseball',\n",
            "   'rec.sport.hockey',\n",
            "   'sci.crypt',\n",
            "   'sci.electronics',\n",
            "   'sci.med',\n",
            "   'sci.space',\n",
            "   'soc.religion.christian',\n",
            "   'talk.politics.guns',\n",
            "   'talk.politics.mideast',\n",
            "   'talk.politics.misc',\n",
            "   'talk.religion.misc']\n",
            "\n",
            "The real data lies in the ``filenames`` and ``target`` attributes. The target\n",
            "attribute is the integer index of the category::\n",
            "\n",
            "  >>> newsgroups_train.filenames.shape\n",
            "  (11314,)\n",
            "  >>> newsgroups_train.target.shape\n",
            "  (11314,)\n",
            "  >>> newsgroups_train.target[:10]\n",
            "  array([ 7,  4,  4,  1, 14, 16, 13,  3,  2,  4])\n",
            "\n",
            "It is possible to load only a sub-selection of the categories by passing the\n",
            "list of the categories to load to the\n",
            ":func:`sklearn.datasets.fetch_20newsgroups` function::\n",
            "\n",
            "  >>> cats = ['alt.atheism', 'sci.space']\n",
            "  >>> newsgroups_train = fetch_20newsgroups(subset='train', categories=cats)\n",
            "\n",
            "  >>> list(newsgroups_train.target_names)\n",
            "  ['alt.atheism', 'sci.space']\n",
            "  >>> newsgroups_train.filenames.shape\n",
            "  (1073,)\n",
            "  >>> newsgroups_train.target.shape\n",
            "  (1073,)\n",
            "  >>> newsgroups_train.target[:10]\n",
            "  array([0, 1, 1, 1, 0, 1, 1, 0, 0, 0])\n",
            "\n",
            "Converting text to vectors\n",
            "~~~~~~~~~~~~~~~~~~~~~~~~~~\n",
            "\n",
            "In order to feed predictive or clustering models with the text data,\n",
            "one first need to turn the text into vectors of numerical values suitable\n",
            "for statistical analysis. This can be achieved with the utilities of the\n",
            "``sklearn.feature_extraction.text`` as demonstrated in the following\n",
            "example that extract `TF-IDF`_ vectors of unigram tokens\n",
            "from a subset of 20news::\n",
            "\n",
            "  >>> from sklearn.feature_extraction.text import TfidfVectorizer\n",
            "  >>> categories = ['alt.atheism', 'talk.religion.misc',\n",
            "  ...               'comp.graphics', 'sci.space']\n",
            "  >>> newsgroups_train = fetch_20newsgroups(subset='train',\n",
            "  ...                                       categories=categories)\n",
            "  >>> vectorizer = TfidfVectorizer()\n",
            "  >>> vectors = vectorizer.fit_transform(newsgroups_train.data)\n",
            "  >>> vectors.shape\n",
            "  (2034, 34118)\n",
            "\n",
            "The extracted TF-IDF vectors are very sparse, with an average of 159 non-zero\n",
            "components by sample in a more than 30000-dimensional space\n",
            "(less than .5% non-zero features)::\n",
            "\n",
            "  >>> vectors.nnz / float(vectors.shape[0])\n",
            "  159.01327...\n",
            "\n",
            ":func:`sklearn.datasets.fetch_20newsgroups_vectorized` is a function which \n",
            "returns ready-to-use token counts features instead of file names.\n",
            "\n",
            ".. _`20 newsgroups website`: http://people.csail.mit.edu/jrennie/20Newsgroups/\n",
            ".. _`TF-IDF`: https://en.wikipedia.org/wiki/Tf-idf\n",
            "\n",
            "\n",
            "Filtering text for more realistic training\n",
            "~~~~~~~~~~~~~~~~~~~~~~~~~~~~~~~~~~~~~~~~~~\n",
            "\n",
            "It is easy for a classifier to overfit on particular things that appear in the\n",
            "20 Newsgroups data, such as newsgroup headers. Many classifiers achieve very\n",
            "high F-scores, but their results would not generalize to other documents that\n",
            "aren't from this window of time.\n",
            "\n",
            "For example, let's look at the results of a multinomial Naive Bayes classifier,\n",
            "which is fast to train and achieves a decent F-score::\n",
            "\n",
            "  >>> from sklearn.naive_bayes import MultinomialNB\n",
            "  >>> from sklearn import metrics\n",
            "  >>> newsgroups_test = fetch_20newsgroups(subset='test',\n",
            "  ...                                      categories=categories)\n",
            "  >>> vectors_test = vectorizer.transform(newsgroups_test.data)\n",
            "  >>> clf = MultinomialNB(alpha=.01)\n",
            "  >>> clf.fit(vectors, newsgroups_train.target)\n",
            "  MultinomialNB(alpha=0.01, class_prior=None, fit_prior=True)\n",
            "\n",
            "  >>> pred = clf.predict(vectors_test)\n",
            "  >>> metrics.f1_score(newsgroups_test.target, pred, average='macro')\n",
            "  0.88213...\n",
            "\n",
            "(The example :ref:`sphx_glr_auto_examples_text_plot_document_classification_20newsgroups.py` shuffles\n",
            "the training and test data, instead of segmenting by time, and in that case\n",
            "multinomial Naive Bayes gets a much higher F-score of 0.88. Are you suspicious\n",
            "yet of what's going on inside this classifier?)\n",
            "\n",
            "Let's take a look at what the most informative features are:\n",
            "\n",
            "  >>> import numpy as np\n",
            "  >>> def show_top10(classifier, vectorizer, categories):\n",
            "  ...     feature_names = np.asarray(vectorizer.get_feature_names())\n",
            "  ...     for i, category in enumerate(categories):\n",
            "  ...         top10 = np.argsort(classifier.coef_[i])[-10:]\n",
            "  ...         print(\"%s: %s\" % (category, \" \".join(feature_names[top10])))\n",
            "  ...\n",
            "  >>> show_top10(clf, vectorizer, newsgroups_train.target_names)\n",
            "  alt.atheism: edu it and in you that is of to the\n",
            "  comp.graphics: edu in graphics it is for and of to the\n",
            "  sci.space: edu it that is in and space to of the\n",
            "  talk.religion.misc: not it you in is that and to of the\n",
            "\n",
            "\n",
            "You can now see many things that these features have overfit to:\n",
            "\n",
            "- Almost every group is distinguished by whether headers such as\n",
            "  ``NNTP-Posting-Host:`` and ``Distribution:`` appear more or less often.\n",
            "- Another significant feature involves whether the sender is affiliated with\n",
            "  a university, as indicated either by their headers or their signature.\n",
            "- The word \"article\" is a significant feature, based on how often people quote\n",
            "  previous posts like this: \"In article [article ID], [name] <[e-mail address]>\n",
            "  wrote:\"\n",
            "- Other features match the names and e-mail addresses of particular people who\n",
            "  were posting at the time.\n",
            "\n",
            "With such an abundance of clues that distinguish newsgroups, the classifiers\n",
            "barely have to identify topics from text at all, and they all perform at the\n",
            "same high level.\n",
            "\n",
            "For this reason, the functions that load 20 Newsgroups data provide a\n",
            "parameter called **remove**, telling it what kinds of information to strip out\n",
            "of each file. **remove** should be a tuple containing any subset of\n",
            "``('headers', 'footers', 'quotes')``, telling it to remove headers, signature\n",
            "blocks, and quotation blocks respectively.\n",
            "\n",
            "  >>> newsgroups_test = fetch_20newsgroups(subset='test',\n",
            "  ...                                      remove=('headers', 'footers', 'quotes'),\n",
            "  ...                                      categories=categories)\n",
            "  >>> vectors_test = vectorizer.transform(newsgroups_test.data)\n",
            "  >>> pred = clf.predict(vectors_test)\n",
            "  >>> metrics.f1_score(pred, newsgroups_test.target, average='macro')\n",
            "  0.77310...\n",
            "\n",
            "This classifier lost over a lot of its F-score, just because we removed\n",
            "metadata that has little to do with topic classification.\n",
            "It loses even more if we also strip this metadata from the training data:\n",
            "\n",
            "  >>> newsgroups_train = fetch_20newsgroups(subset='train',\n",
            "  ...                                       remove=('headers', 'footers', 'quotes'),\n",
            "  ...                                       categories=categories)\n",
            "  >>> vectors = vectorizer.fit_transform(newsgroups_train.data)\n",
            "  >>> clf = MultinomialNB(alpha=.01)\n",
            "  >>> clf.fit(vectors, newsgroups_train.target)\n",
            "  MultinomialNB(alpha=0.01, class_prior=None, fit_prior=True)\n",
            "\n",
            "  >>> vectors_test = vectorizer.transform(newsgroups_test.data)\n",
            "  >>> pred = clf.predict(vectors_test)\n",
            "  >>> metrics.f1_score(newsgroups_test.target, pred, average='macro')\n",
            "  0.76995...\n",
            "\n",
            "Some other classifiers cope better with this harder version of the task. Try\n",
            "running :ref:`sphx_glr_auto_examples_model_selection_grid_search_text_feature_extraction.py` with and without\n",
            "the ``--filter`` option to compare the results.\n",
            "\n",
            ".. topic:: Recommendation\n",
            "\n",
            "  When evaluating text classifiers on the 20 Newsgroups data, you\n",
            "  should strip newsgroup-related metadata. In scikit-learn, you can do this by\n",
            "  setting ``remove=('headers', 'footers', 'quotes')``. The F-score will be\n",
            "  lower because it is more realistic.\n",
            "\n",
            ".. topic:: Examples\n",
            "\n",
            "   * :ref:`sphx_glr_auto_examples_model_selection_grid_search_text_feature_extraction.py`\n",
            "\n",
            "   * :ref:`sphx_glr_auto_examples_text_plot_document_classification_20newsgroups.py`\n",
            "\n"
          ],
          "name": "stdout"
        }
      ]
    },
    {
      "cell_type": "code",
      "metadata": {
        "id": "WKp4Q_bCsgnk",
        "colab": {
          "base_uri": "https://localhost:8080/"
        },
        "outputId": "69f5687e-f7cf-4c3c-9807-555cd9cfae9f"
      },
      "source": [
        "# Example article\n",
        "\n",
        "print(newsgroups_data['data'][0])"
      ],
      "execution_count": null,
      "outputs": [
        {
          "output_type": "stream",
          "text": [
            "From: lerxst@wam.umd.edu (where's my thing)\n",
            "Subject: WHAT car is this!?\n",
            "Nntp-Posting-Host: rac3.wam.umd.edu\n",
            "Organization: University of Maryland, College Park\n",
            "Lines: 15\n",
            "\n",
            " I was wondering if anyone out there could enlighten me on this car I saw\n",
            "the other day. It was a 2-door sports car, looked to be from the late 60s/\n",
            "early 70s. It was called a Bricklin. The doors were really small. In addition,\n",
            "the front bumper was separate from the rest of the body. This is \n",
            "all I know. If anyone can tellme a model name, engine specs, years\n",
            "of production, where this car is made, history, or whatever info you\n",
            "have on this funky looking car, please e-mail.\n",
            "\n",
            "Thanks,\n",
            "- IL\n",
            "   ---- brought to you by your neighborhood Lerxst ----\n",
            "\n",
            "\n",
            "\n",
            "\n",
            "\n"
          ],
          "name": "stdout"
        }
      ]
    },
    {
      "cell_type": "code",
      "metadata": {
        "id": "iPCUCncZsgnm",
        "colab": {
          "base_uri": "https://localhost:8080/"
        },
        "outputId": "a6fcab8b-d29a-43b8-a2f2-8c6d6c7f1aaf"
      },
      "source": [
        "# Associated label\n",
        "newsgroups_data['target'][0]\n"
      ],
      "execution_count": null,
      "outputs": [
        {
          "output_type": "execute_result",
          "data": {
            "text/plain": [
              "7"
            ]
          },
          "metadata": {
            "tags": []
          },
          "execution_count": 33
        }
      ]
    },
    {
      "cell_type": "code",
      "metadata": {
        "id": "CZ9aB7VIsgnn",
        "colab": {
          "base_uri": "https://localhost:8080/",
          "height": 35
        },
        "outputId": "26925412-2b6f-41d3-b8b4-2854f58cdba7"
      },
      "source": [
        "# Name of label\n",
        "newsgroups_data['target_names'][0]"
      ],
      "execution_count": null,
      "outputs": [
        {
          "output_type": "execute_result",
          "data": {
            "application/vnd.google.colaboratory.intrinsic+json": {
              "type": "string"
            },
            "text/plain": [
              "'alt.atheism'"
            ]
          },
          "metadata": {
            "tags": []
          },
          "execution_count": 34
        }
      ]
    },
    {
      "cell_type": "code",
      "metadata": {
        "id": "oWJh8srlsgnp"
      },
      "source": [
        "# Preprocessing boilerplate\n",
        "\n",
        "n_documents = len(newsgroups_data['data'])\n",
        "\n",
        "count_vectorizer = CountVectorizer(input='content', binary=True,\n",
        "                                   max_df=0.25, min_df=1.01/n_documents) # ignore common words, words that appear once\n",
        "binary_bag_of_words = count_vectorizer.fit_transform(newsgroups_data['data']) # input is a list of strings\n"
      ],
      "execution_count": null,
      "outputs": []
    },
    {
      "cell_type": "code",
      "metadata": {
        "id": "9r2-u5rhsgnq",
        "colab": {
          "base_uri": "https://localhost:8080/"
        },
        "outputId": "847a8580-7fa6-4a09-f947-318357336c9f"
      },
      "source": [
        "# Check shape\n",
        "binary_bag_of_words.shape\n"
      ],
      "execution_count": null,
      "outputs": [
        {
          "output_type": "execute_result",
          "data": {
            "text/plain": [
              "(11314, 56365)"
            ]
          },
          "metadata": {
            "tags": []
          },
          "execution_count": 36
        }
      ]
    },
    {
      "cell_type": "code",
      "metadata": {
        "id": "eM0RVq-Isgnr",
        "colab": {
          "base_uri": "https://localhost:8080/"
        },
        "outputId": "574a9d7b-c5e2-4c40-f169-ea58b8a0ff37"
      },
      "source": [
        "# Check that the fit has been successful\n",
        "count_vectorizer.inverse_transform(binary_bag_of_words[0,:])\n"
      ],
      "execution_count": null,
      "outputs": [
        {
          "output_type": "execute_result",
          "data": {
            "text/plain": [
              "[array(['lerxst', 'wam', 'umd', 'where', 'thing', 'car', 'rac3',\n",
              "        'maryland', 'college', 'park', '15', 'wondering', 'anyone',\n",
              "        'could', 'enlighten', 'saw', 'day', 'door', 'sports', 'looked',\n",
              "        'late', '60s', 'early', '70s', 'called', 'bricklin', 'doors',\n",
              "        'were', 'really', 'small', 'addition', 'front', 'bumper',\n",
              "        'separate', 'rest', 'body', 'tellme', 'model', 'name', 'engine',\n",
              "        'specs', 'years', 'production', 'made', 'history', 'whatever',\n",
              "        'info', 'funky', 'looking', 'please', 'mail', 'thanks', 'il',\n",
              "        'brought', 'neighborhood'], dtype='<U80')]"
            ]
          },
          "metadata": {
            "tags": []
          },
          "execution_count": 37
        }
      ]
    },
    {
      "cell_type": "code",
      "metadata": {
        "id": "eUY3VFePsgns"
      },
      "source": [
        "# Dict that will be useful later \n",
        "\n",
        "inv_vocabulary = {value:key for key, value in count_vectorizer.vocabulary_.items()}"
      ],
      "execution_count": null,
      "outputs": []
    },
    {
      "cell_type": "markdown",
      "metadata": {
        "id": "sVO1Mphnsgns"
      },
      "source": [
        "#### A Naive Bayes classifier for `newsgroup`"
      ]
    },
    {
      "cell_type": "markdown",
      "metadata": {
        "id": "TJt1qOpdsgnt"
      },
      "source": [
        "Each feature vector $x$ is a list of indicators for whether a word appears in the article. $x_i$ is 1 if the $i$th word appears, and 0 otherwise. `inv_vocabulary` matches word indices $i$ to words.\n",
        "\n",
        "Each label $y$ is a value in $0, 1, \\ldots, 19$.\n",
        "\n",
        "The parts of a naive Bayes classifier for this problem can be summarised as:  \n",
        "\n",
        "\n",
        "- A probability distribution for the feature vector by class, $p(x|y = j)$ for each $j = 0, 1, \\ldots, 19$. These probability distributions are assumed to have independent components: we can factorize the joint probability as a product of marginal probabilities\n",
        "\\begin{equation}\n",
        "    p(x|y = j) = \\prod_{i=1}^d p(x_i|y = j)\n",
        "\\end{equation}\n",
        "These marginal probability distributions are Bernoulli distributions, each of which has a single parameter $\\theta_{ji} := p(x_i = 1|y = j)$. This parameter is the probability of observing word $i$ in an article of class $j$. \n",
        "\n",
        "- We will use the Laplace smoothed maximum likelihood estimate to compute these parameters. Laplace smoothing involves adding small counts to every feature for each class. Else, if a feature did not appear in the training set of a class, but then we observed it in our test data the log probability would be undefined.\n",
        "\n",
        "- A collection of class prior probabilities $p(y = j)$. These will be set by computing the class base rates in the training set.  \n",
        "\n",
        "\n",
        "- A function for computing the probability of class membership via Bayes' theorem:  \n",
        "\n",
        "\\begin{equation}\n",
        "    p(y = j|x) = \\frac{p(x|y = j)p(y = j)}{p(x)}\n",
        "\\end{equation}"
      ]
    },
    {
      "cell_type": "code",
      "metadata": {
        "id": "a-3QNrIusgnt"
      },
      "source": [
        "# Compute the parameter estimates (adjusted fraction of documents in class that contain word)\n",
        "\n",
        "n_classes = newsgroups_data['target'].max() + 1\n",
        "y = newsgroups_data['target']\n",
        "n_words = binary_bag_of_words.shape[1]\n",
        "\n",
        "alpha = 1e-6 # parameters for Laplace smoothing\n",
        "\n",
        "theta = np.zeros([n_classes, n_words]) # stores parameter values - prob. word given class\n",
        "for c_k in range(n_classes): # 0, 1, ..., 19\n",
        "    class_mask = (y == c_k)\n",
        "    N = class_mask.sum() # number of articles in class\n",
        "    theta[c_k, :] = (binary_bag_of_words[class_mask, :].sum(axis=0) + alpha)/(N + alpha*2)"
      ],
      "execution_count": null,
      "outputs": []
    },
    {
      "cell_type": "code",
      "metadata": {
        "id": "qrtP9pbCsgnv",
        "colab": {
          "base_uri": "https://localhost:8080/"
        },
        "outputId": "a8d7a728-a32f-4cd4-b82f-88c33ecdebe8"
      },
      "source": [
        "# Check whether the most probable word in each class is reasonable\n",
        "\n",
        "most_probable_word_ix = theta.argmax(axis=1) # most probable word for each class\n",
        "\n",
        "for j, ix in enumerate(most_probable_word_ix):\n",
        "    print('Most probable word in class {} is \"{}\".'.format(newsgroups_data['target_names'][j],\n",
        "                                                           inv_vocabulary[ix]))"
      ],
      "execution_count": null,
      "outputs": [
        {
          "output_type": "stream",
          "text": [
            "Most probable word in class alt.atheism is \"people\".\n",
            "Most probable word in class comp.graphics is \"graphics\".\n",
            "Most probable word in class comp.os.ms-windows.misc is \"windows\".\n",
            "Most probable word in class comp.sys.ibm.pc.hardware is \"thanks\".\n",
            "Most probable word in class comp.sys.mac.hardware is \"mac\".\n",
            "Most probable word in class comp.windows.x is \"window\".\n",
            "Most probable word in class misc.forsale is \"sale\".\n",
            "Most probable word in class rec.autos is \"car\".\n",
            "Most probable word in class rec.motorcycles is \"dod\".\n",
            "Most probable word in class rec.sport.baseball is \"he\".\n",
            "Most probable word in class rec.sport.hockey is \"ca\".\n",
            "Most probable word in class sci.crypt is \"clipper\".\n",
            "Most probable word in class sci.electronics is \"use\".\n",
            "Most probable word in class sci.med is \"reply\".\n",
            "Most probable word in class sci.space is \"space\".\n",
            "Most probable word in class soc.religion.christian is \"god\".\n",
            "Most probable word in class talk.politics.guns is \"people\".\n",
            "Most probable word in class talk.politics.mideast is \"people\".\n",
            "Most probable word in class talk.politics.misc is \"people\".\n",
            "Most probable word in class talk.religion.misc is \"he\".\n"
          ],
          "name": "stdout"
        }
      ]
    },
    {
      "cell_type": "code",
      "metadata": {
        "id": "non1pt62sgnw",
        "colab": {
          "base_uri": "https://localhost:8080/"
        },
        "outputId": "de51f29e-5968-4c24-8c13-4427b0f44f9e"
      },
      "source": [
        "# Define a distribution for each class\n",
        "batch_of_bernoullis=tfd.Bernoulli(probs=theta)\n",
        "p_x_given_y=tfd.Independent(batch_of_bernoullis,\n",
        "                            reinterpreted_batch_ndims=1)\n",
        "p_x_given_y\n"
      ],
      "execution_count": null,
      "outputs": [
        {
          "output_type": "execute_result",
          "data": {
            "text/plain": [
              "<tfp.distributions.Independent 'IndependentBernoulli' batch_shape=[20] event_shape=[56365] dtype=int32>"
            ]
          },
          "metadata": {
            "tags": []
          },
          "execution_count": 41
        }
      ]
    },
    {
      "cell_type": "code",
      "metadata": {
        "id": "k7HYAIHPsgnx",
        "colab": {
          "base_uri": "https://localhost:8080/"
        },
        "outputId": "30be0788-d788-47b7-9100-030f755d80c6"
      },
      "source": [
        "# Take a sample of words from each class\n",
        "\n",
        "n_samples = 10\n",
        "sample=p_x_given_y.sample(n_samples)\n",
        "sample.shape"
      ],
      "execution_count": null,
      "outputs": [
        {
          "output_type": "execute_result",
          "data": {
            "text/plain": [
              "TensorShape([10, 20, 56365])"
            ]
          },
          "metadata": {
            "tags": []
          },
          "execution_count": 42
        }
      ]
    },
    {
      "cell_type": "code",
      "metadata": {
        "id": "l3mmyka3sgny",
        "colab": {
          "base_uri": "https://localhost:8080/",
          "height": 35
        },
        "outputId": "742018b5-37f5-4fb0-cee4-a2325bfa0241"
      },
      "source": [
        "# Choose a class\n",
        "\n",
        "chosen_class = 15\n",
        "newsgroups_data['target_names'][chosen_class]"
      ],
      "execution_count": null,
      "outputs": [
        {
          "output_type": "execute_result",
          "data": {
            "application/vnd.google.colaboratory.intrinsic+json": {
              "type": "string"
            },
            "text/plain": [
              "'soc.religion.christian'"
            ]
          },
          "metadata": {
            "tags": []
          },
          "execution_count": 43
        }
      ]
    },
    {
      "cell_type": "code",
      "metadata": {
        "id": "-hjf397Psgnz",
        "colab": {
          "base_uri": "https://localhost:8080/"
        },
        "outputId": "bb24bef2-89a8-44fb-ab2e-4319fe839626"
      },
      "source": [
        "# Indicators for words that appear in the sample\n",
        "\n",
        "class_sample = sample[:, chosen_class, :]\n",
        "class_sample"
      ],
      "execution_count": null,
      "outputs": [
        {
          "output_type": "execute_result",
          "data": {
            "text/plain": [
              "<tf.Tensor: shape=(10, 56365), dtype=int32, numpy=\n",
              "array([[0, 0, 0, ..., 0, 0, 0],\n",
              "       [0, 0, 0, ..., 0, 0, 0],\n",
              "       [0, 0, 0, ..., 0, 0, 0],\n",
              "       ...,\n",
              "       [1, 0, 0, ..., 0, 0, 0],\n",
              "       [0, 0, 0, ..., 0, 0, 0],\n",
              "       [0, 0, 0, ..., 0, 0, 0]], dtype=int32)>"
            ]
          },
          "metadata": {
            "tags": []
          },
          "execution_count": 44
        }
      ]
    },
    {
      "cell_type": "code",
      "metadata": {
        "id": "KdKW2gWnsgnz",
        "colab": {
          "base_uri": "https://localhost:8080/"
        },
        "outputId": "e673732e-0f96-4b68-a709-d729bd451105"
      },
      "source": [
        "# Perform inverse transform to test quality of fit\n",
        "count_vectorizer.inverse_transform(class_sample)\n"
      ],
      "execution_count": null,
      "outputs": [
        {
          "output_type": "execute_result",
          "data": {
            "text/plain": [
              "[array(['03', '13', '22', '27', '30', '36', '44', '93', '_any_', 'above',\n",
              "        'accomplished', 'advance', 'after', 'age', 'ancestors',\n",
              "        'asserting', 'athena', 'athos', 'audience', 'avoid', 'back',\n",
              "        'being', 'big', 'bnr', 'byler', 'call', 'certain', 'chord',\n",
              "        'christ', 'christians', 'come', 'command', 'commanded',\n",
              "        'concerned', 'conclusion', 'considered', 'convert', 'correlation',\n",
              "        'covington', 'current', 'davidians', 'day', 'decipher', 'did',\n",
              "        'difficult', 'driving', 'ecclesiastical', 'ecn', 'effectively',\n",
              "        'encyclopedia', 'end', 'endowment', 'error', 'etc', 'existence',\n",
              "        'explain', 'fallen', 'famine', 'far', 'feel', 'fortunately',\n",
              "        'friendly', 'further', 'generally', 'gives', 'god', 'gods', 'good',\n",
              "        'grasp', 'group', 'happened', 'help', 'him', 'hold', 'holy',\n",
              "        'intended', 'interpreted', 'james', 'jew', 'john', 'joseph',\n",
              "        'least', 'less', 'locals', 'lot', 'love', 'man', 'many', 'mean',\n",
              "        'met', 'mind', 'musicians', 'nicholson', 'nobody', 'none', 'open',\n",
              "        'opinions', 'pardon', 'perceived', 'pesach', 'point', 'pore',\n",
              "        'practice', 'presence', 'protestant', 'psychology', 'quite',\n",
              "        'really', 'rebel', 'reconsider', 'record', 'relations',\n",
              "        'requirements', 'requires', 'research', 'response', 'rexlex',\n",
              "        'right', 'rise', 'said', 'say', 'scripture', 'second', 'seem',\n",
              "        'seemed', 'sense', 'she', 'since', 'something', 'spell',\n",
              "        'statement', 'stealing', 'system', 'systems', 'tainted', 'takes',\n",
              "        'their', 'then', 'think', 'too', 'took', 'use', 'want', 'well',\n",
              "        'where', 'while', 'written'], dtype='<U80'),\n",
              " array(['11', '12', '1950', 'among', 'animals', 'annoyed', 'anything',\n",
              "        'art', 'athos', 'babylonian', 'been', 'beginning', 'beings',\n",
              "        'benefits', 'best', 'both', 'brains', 'called', 'cards', 'causes',\n",
              "        'come', 'commit', 'consider', 'considerable', 'contemporary',\n",
              "        'couple', 'creative', 'dates', 'de', 'deal', 'dimensions',\n",
              "        'dismiss', 'doesn', 'driving', 'earlier', 'entire', 'evil',\n",
              "        'except', 'fact', 'faith', 'faithfully', 'faiths', 'father',\n",
              "        'five', 'fling', 'foundation', 'foundations', 'freedoms',\n",
              "        'georgia', 'god', 'good', 'graverobbers', 'group', 'having', 'he',\n",
              "        'herself', 'hilbert', 'hollowed', 'humble', 'include', 'info',\n",
              "        'interesting', 'intermediate', 'its', 'john', 'latest', 'lord',\n",
              "        'lost', 'may', 'mother', 'ms', 'must', 'next', 'now', 'occurred',\n",
              "        'offer', 'order', 'originally', 'our', 'pa', 'pantheism', 'part',\n",
              "        'passion', 'past', 'people', 'performance', 'personalities',\n",
              "        'personally', 'pictel', 'planet', 'price', 'probability',\n",
              "        'probably', 'put', 'right', 'risk', 'said', 'same', 'saved',\n",
              "        'saw8712', 'scenario', 'scott', 'see', 'sending', 'sermon',\n",
              "        'shows', 'silence', 'simpler', 'sinners', 'speaking', 'strong',\n",
              "        'tell', 'testify', 'text', 'than', 'these', 'thing', 'though',\n",
              "        'times', 'trees', 'trinity', 'truly', 'trunking_fixed', 'two',\n",
              "        'understands', 'way', 'widely', 'winter', 'without', 'word',\n",
              "        'world', 'worship', 'ximenez', 'younger'], dtype='<U80'),\n",
              " array(['01', '03', '0358', '12', '19', '1993', 'accept', 'accepting',\n",
              "        'accident', 'account', 'acts', 'advice', 'affirm', 'amateur',\n",
              "        'another', 'applied', 'arguing', 'athos', 'bad', 'basic',\n",
              "        'because', 'before', 'begin', 'beliefs', 'biblical', 'both',\n",
              "        'breakable', 'called', 'christ', 'christian', 'clear', 'clearly',\n",
              "        'condemned', 'conditt', 'consistent', 'constant', 'cover', 'dan',\n",
              "        'date', 'death', 'decided', 'deny', 'did', 'diminished', 'emotive',\n",
              "        'environmentalist', 'exactly', 'existence', 'explain', 'expresses',\n",
              "        'feelings', 'fellow', 'force', 'free', 'fsu', 'further', 'geneva',\n",
              "        'glasses', 'god', 'group', 'he', 'here', 'hid', 'home', 'honest',\n",
              "        'hope', 'idiocy', 'jw', 'knows', 'kulikauskas', 'land', 'laws',\n",
              "        'little', 'long', 'major', 'message', 'mind', 'mmalt', 'much',\n",
              "        'never', 'objectively', 'occurance', 'others', 'post', 'pro',\n",
              "        'provine', 'ps', 'purchased', 'pythagorean', 'question', 'rather',\n",
              "        'rationally', 'requires', 'resurrection', 'right', 'satanic',\n",
              "        'say', 'service', 'serving', 'she', 'short', 'sight', 'silent',\n",
              "        'situation', 'slavery', 'step', 'taken', 'texts', 'their', 'times',\n",
              "        'traditions', 'ucns', 'uk', 'various', 'virtually', 'were',\n",
              "        'western', 'whole', 'why', 'worship', 'written', 'year', 'yes',\n",
              "        'yuan'], dtype='<U80'),\n",
              " array(['02173', '11', '14', '24', 'accountability', 'across', 'act',\n",
              "        'additions', 'adulterous', 'afterlife', 'am', 'another', 'answer',\n",
              "        'apr', 'asked', 'aspect', 'bear', 'because', 'believe', 'biggest',\n",
              "        'called', 'carried', 'case', 'charge', 'choose', 'christianity',\n",
              "        'christians', 'church', 'committed', 'contrary', 'control',\n",
              "        'david', 'davidians', 'descending', 'destroyed', 'developed',\n",
              "        'difference', 'does', 'doesn', 'down', 'duty', 'email', 'entirely',\n",
              "        'eugene', 'even', 'fact', 'faq', 'few', 'fire', 'flame',\n",
              "        'fortress', 'game', 'generally', 'given', 'goal', 'god', 'great',\n",
              "        'hell_2', 'hfsi', 'high', 'him', 'his', 'historicity', 'hoc',\n",
              "        'holy', 'hudson', 'important', 'jayne', 'jonestown', 'large',\n",
              "        'latin', 'led', 'likely', 'listen', 'live', 'looking', 'lord',\n",
              "        'mac', 'made', 'management', 'mandate', 'mary', 'matthew', 'meant',\n",
              "        'mind', 'mozart', 'much', 'old', 'order', 'our', 'over', 'papal',\n",
              "        'physics', 'point', 'position', 'possibility', 'progroms', 'proud',\n",
              "        'quite', 'rage', 'real', 'reid', 'said', 'same', 'says', 'schools',\n",
              "        'see', 'sex', 'should', 'show', 'socio', 'stands', 'started',\n",
              "        'straws', 'swri', 'than', 'their', 'think', 'top', 'torn',\n",
              "        'tradition', 'triumphed', 'underlies', 'understanding', 'upon',\n",
              "        'us', 'verses', 'views', 'walking', 'wanted', 'were', 'without',\n",
              "        'yes', 'yet'], dtype='<U80'),\n",
              " array(['10', '1992', '31', '3729', '_anything_', 'account', 'ad', 'agony',\n",
              "        'answer', 'appear', 'appointed', 'approached', 'approval', 'ata',\n",
              "        'atheism', 'before', 'bingo', 'book', 'burton', 'came', 'care',\n",
              "        'christianity', 'crucify', 'cwis', 'declares', 'deleted',\n",
              "        'destroy', 'dismissal', 'done', 'dsuvax', 'dust', 'engineering',\n",
              "        'enough', 'exist', 'feel', 'fellowship', 'gcx1', 'geneva', 'give',\n",
              "        'got', 'greatly', 'had', 'harm', 'help', 'his', 'hudson', 'hulman',\n",
              "        'husband', 'immersion', 'issues', 'james', 'jenk', 'key', 'kind',\n",
              "        'last', 'less', 'letter', 'life', 'list', 'lived', 'long', 'luke',\n",
              "        'man', 'mark', 'meet', 'met', 'mhsu', 'mid', 'moderator', 'most',\n",
              "        'mussack', 'nature', 'new', 'nicene', 'night', 'nutshell', 'ocean',\n",
              "        'once', 'order', 'others', 'own', 'palm', 'paul', 'pay', 'perry',\n",
              "        'person', 'planet', 'post', 'problem', 'protestants', 'quotes',\n",
              "        'rebuked', 'recognize', 'refutations', 'reliance', 'remember',\n",
              "        'revealed', 'roommate', 'said', 'sanhedrin', 'see', 'seen',\n",
              "        'share', 'simply', 'sinless', 'solve', 'son', 'soul',\n",
              "        'specification', 'starts', 'still', 'such', 'suggestion',\n",
              "        'suggestions', 'surely', 'teaching', 'tell', 'their', 'then',\n",
              "        'things', 'thought', 'thrust', 'time', 'torn', 'use', 'uunet',\n",
              "        'voodoo', 'week', 'weight', 'well', 'were', 'whose', 'without',\n",
              "        'witnesses', 'words', 'yourself'], dtype='<U80'),\n",
              " array(['01', '13', '19', '1993', '7415', 'accept', 'actually',\n",
              "        'advantage', 'afterwards', 'ahh', 'also', 'americans', 'among',\n",
              "        'andy', 'assume', 'atheist', 'atheistic', 'attributed', 'aurora',\n",
              "        'awful', 'back', 'basketball', 'became', 'because', 'believe',\n",
              "        'bolts', 'causal', 'cgsvax', 'church', 'condemn', 'court', 'day',\n",
              "        'denies', 'derived', 'did', 'difficult', 'doctors', 'does',\n",
              "        'drilled', 'easier', 'edited', 'english', 'erroneous', 'essay',\n",
              "        'etymology', 'everyone', 'exist', 'fact', 'first', 'foreseeable',\n",
              "        'generic', 'god', 'gotten', 'groups', 'gvg47', 'he', 'her', 'here',\n",
              "        'hour', 'however', 'illegal', 'info', 'information', 'instruction',\n",
              "        'involved', 'its', 'iup', 'jews', 'john', 'jointly', 'last',\n",
              "        'legacy', 'live', 'major', 'man', 'may', 'mcovingt', 'men',\n",
              "        'moderator', 'modify', 'morals', 'most', 'much', 'next', 'normal',\n",
              "        'obeyed', 'off', 'oneness', 'oneself', 'original', 'parts',\n",
              "        'patrick', 'people', 'perfectly', 'perish', 'phrase', 'portrays',\n",
              "        'power', 'promise', 'quest', 'quota', 'quote', 'recommended',\n",
              "        'recorded', 'rejecting', 'relates', 'rest', 'rochester', 'roles',\n",
              "        'rooms', 'salvation', 'same', 'says', 'shaken', 'similarly',\n",
              "        'since', 'sins', 'something', 'spark', 'suggested', 'switzerland',\n",
              "        'than', 'these', 'thing', 'think', 'true', 'unlike', 'unqualified',\n",
              "        'vela', 'views', 'violence', 'washington', 'way', 'word', 'work',\n",
              "        'world'], dtype='<U80'),\n",
              " array(['03', '08', '29112', '41', '72', 'actual', 'among', 'another',\n",
              "        'answer', 'anything', 'anyway', 'apathy', 'apr', 'athos',\n",
              "        'authorship', 'awaiting', 'aware', 'based', 'been', 'begins',\n",
              "        'believe', 'blessed', 'body', 'both', 'broadcast', 'certainly',\n",
              "        'champaign', 'characterize', 'christ', 'christians', 'circular',\n",
              "        'cited', 'claims', 'clay', 'clearly', 'comes', 'contribution',\n",
              "        'could', 'dept', 'disciples', 'earth', 'educated', 'empty',\n",
              "        'entire', 'epistemological', 'essence', 'eve', 'even', 'fantastic',\n",
              "        'find', 'fl', 'flame', 'following', 'forever', 'forgiven', 'forth',\n",
              "        'four', 'fully', 'galore', 'god', 'got', 'governments', 'greeks',\n",
              "        'guest', 'hard', 'he', 'high', 'himself', 'his', 'hope',\n",
              "        'importance', 'interesting', 'into', 'involving', 'issue', 'italy',\n",
              "        'justice', 'll', 'lpa', 'mark', 'memory', 'mi', 'missouri',\n",
              "        'mistake', 'much', 'name', 'natural', 'nc', 'nonsense', 'offer',\n",
              "        'opposed', 'our', 'own', 'perry', 'power', 'preached', 'pregnant',\n",
              "        'present', 'pressured', 'psi', 'questioning', 'quote', 'really',\n",
              "        'receive', 'recorded', 'redemption', 'reedr', 'refuse', 'rob',\n",
              "        'rutgers', 'saved', 'saves', 'scholar', 'seldom', 'separate', 'sf',\n",
              "        'sister', 'soon', 'spot', 'substance', 'summary', 'sure',\n",
              "        'technical', 'technology', 'than', 'then', 'time', 'tragedy',\n",
              "        'type', 'uga', 'us', 'usa', 'uth', 'very', 'view', 'want', 'well',\n",
              "        'why', 'women', 'wood', 'world', 'yet'], dtype='<U80'),\n",
              " array(['00', '1993', '20', '26', '35', '827', 'acad3', 'ago', 'always',\n",
              "        'area', 'ask', 'associations', 'authorities', 'bear', 'become',\n",
              "        'been', 'behaviour', 'biblical', 'blessed', 'both', 'britain',\n",
              "        'bryan', 'catholic', 'caution', 'celebrate', 'certain', 'clearly',\n",
              "        'cleveland', 'come', 'communist', 'concern', 'convinced',\n",
              "        'criteria', 'ctron', 'daniel', 'death', 'derive', 'desires',\n",
              "        'discerning', 'divided', 'does', 'ever', 'explain', 'faith',\n",
              "        'feel', 'filled', 'forth', 'found', 'furthermore', 'gal', 'god',\n",
              "        'good', 'great', 'happen', 'hart', 'he', 'health', 'help', 'her',\n",
              "        'him', 'history', 'ignorant', 'implications', 'info', 'itself',\n",
              "        'judge', 'kiefer', 'late', 'lead', 'left', 'licensing', 'load',\n",
              "        'ma', 'magnus', 'makes', 'maxwell', 'member', 'michael', 'must',\n",
              "        'notion', 'odd', 'overcomes', 'own', 'pardon', 'particular',\n",
              "        'pastoral', 'people', 'physics', 'postulate', 'probably',\n",
              "        'problem', 'questioning', 'quite', 'record', 'repeating',\n",
              "        'requires', 'seen', 'separated', 'set', 'silver', 'situations',\n",
              "        'soldiers', 'subjective', 'substantial', 'supernatural', 'support',\n",
              "        'talking', 'taught', 'texas', 'than', 'thanks', 'their',\n",
              "        'themselves', 'thousands', 'tragic', 'trajan', 'two', 'udel',\n",
              "        'unable', 'under', 'upon', 'verbal', 'very', 'virgin', 'washing',\n",
              "        'way', 'whether', 'work', 'written', 'wustl', 'yes', 'yet'],\n",
              "       dtype='<U80'),\n",
              " array(['06', '15', '18', '224', '3782', '3rd', '_he', 'able', 'acad1',\n",
              "        'actually', 'am', 'anything', 'appear', 'awe', 'because',\n",
              "        'believe', 'biblical', 'bit', 'celebrated', 'chicago', 'christ',\n",
              "        'christianity', 'christians', 'chuck', 'claim', 'clh', 'clique',\n",
              "        'completely', 'concepts', 'condition', 'consider', 'conviction',\n",
              "        'correctly', 'could', 'cross', 'dating', 'dept', 'doubt', 'early',\n",
              "        'enlightenment', 'ephesians', 'eternal', 'even', 'exist', 'fermi',\n",
              "        'fictional', 'foundation', 'frequently', 'generation', 'happen',\n",
              "        'hebrew', 'here', 'him', 'historical', 'home', 'information',\n",
              "        'internet', 'jew', 'julian', 'kulikauskas', 'la', 'laws', 'lead',\n",
              "        'left', 'line', 'louisville', 'lust', 'maccabees', 'made', 'make',\n",
              "        'many', 'mass', 'may', 'means', 'mercy', 'michael', 'mind',\n",
              "        'moral', 'movement', 'name', 'namely', 'next', 'page', 'part',\n",
              "        'paul', 'personal', 'personally', 'phobias', 'place', 'praying',\n",
              "        'precious', 'present', 'provide', 'question', 'religion', 'roman',\n",
              "        'ruling', 'run', 'save', 'say', 'saying', 'seems', 'seen',\n",
              "        'seminary', 'should', 'sign', 'simple', 'sinner', 'sort', 'space',\n",
              "        'state', 'stoney', 'such', 'supporting', 'sure', 'sword', 'teach',\n",
              "        'testing', 'thought', 'time', 'true', 'tv', 'under', 'us', 'were',\n",
              "        'why', 'yet'], dtype='<U80'),\n",
              " array(['1993', '21', '823', 'account', 'ad', 'after', 'agree', 'aisun3',\n",
              "        'alleg', 'also', 'alternatives', 'ambiguity', 'apostolic',\n",
              "        'apparent', 'apr', 'aspect', 'band', 'basic', 'battling', 'been',\n",
              "        'believe', 'bible', 'biblical', 'bissell', 'bring', 'brother',\n",
              "        'bu', 'buddhism', 'called', 'case', 'christ', 'christian',\n",
              "        'claims', 'clh', 'come', 'commitment', 'committed', 'compels',\n",
              "        'computing', 'consensus', 'consequences', 'continues', 'could',\n",
              "        'craze', 'darius', 'dean', 'deeds', 'demean', 'development',\n",
              "        'disappoint', 'disciples', 'does', 'eternal', 'ever', 'everyday',\n",
              "        'evidence', 'excuse', 'existence', 'fatima', 'feel', 'find',\n",
              "        'first', 'flesh', 'followed', 'former', 'gain', 'go', 'god',\n",
              "        'good', 'grace', 'greene', 'had', 'he', 'heaven', 'holiness',\n",
              "        'immoral', 'incarnate', 'indeed', 'infinite', 'insist',\n",
              "        'institute', 'into', 'jehovah', 'jesus', 'knew', 'known', 'knows',\n",
              "        'la', 'least', 'level', 'line', 'listed', 'long', 'marriage',\n",
              "        'material', 'mean', 'mentioned', 'mind', 'ministry', 'model',\n",
              "        'movement', 'moves', 'needless', 'numbers', 'obvious', 'perhaps',\n",
              "        'phraseology', 'phs431d', 'possible', 'preference', 'read',\n",
              "        'recall', 'reconstructed', 'redemptive', 'refuse', 'regulation',\n",
              "        'rein', 'result', 'resurection', 'rightness', 'run', 'same', 'say',\n",
              "        'scholarship', 'sending', 'seperated', 'shall', 'smack',\n",
              "        'speaking', 'spirit', 'subscribe', 'such', 'sure', 'talking',\n",
              "        'tell', 'their', 'these', 'think', 'though', 'thought', 'traitor',\n",
              "        'true', 'turns', 'ultimately', 'ultra', 'use', 'views', 'waco',\n",
              "        'wbt', 'were', 'why', 'words', 'worth', 'wquinnan', 'written'],\n",
              "       dtype='<U80')]"
            ]
          },
          "metadata": {
            "tags": []
          },
          "execution_count": 45
        }
      ]
    },
    {
      "cell_type": "markdown",
      "metadata": {
        "id": "D3rFgnVisgn0"
      },
      "source": [
        "***\n",
        "<a id='sampling_and_log_probs'></a>\n",
        "## Sampling and log probs"
      ]
    },
    {
      "cell_type": "code",
      "metadata": {
        "id": "KlOt3_6wsgn0",
        "colab": {
          "base_uri": "https://localhost:8080/"
        },
        "outputId": "b55e890a-938b-42f1-8b82-60e5e47c4cc4"
      },
      "source": [
        "# Make Multivariate Distribution\n",
        "\n",
        "normal_distributions = tfd.MultivariateNormalDiag(loc=[[0.5, 1], [0.1, 0], [0, 0.2]],\n",
        "                                 scale_diag=[[2, 3], [1, 3], [4, 4]])\n",
        "normal_distributions"
      ],
      "execution_count": 4,
      "outputs": [
        {
          "output_type": "execute_result",
          "data": {
            "text/plain": [
              "<tfp.distributions.MultivariateNormalDiag 'MultivariateNormalDiag' batch_shape=[3] event_shape=[2] dtype=float32>"
            ]
          },
          "metadata": {
            "tags": []
          },
          "execution_count": 4
        }
      ]
    },
    {
      "cell_type": "code",
      "metadata": {
        "id": "ehfUugwBsgn2",
        "colab": {
          "base_uri": "https://localhost:8080/"
        },
        "outputId": "b5c89e89-e200-4313-e721-8515305cd43f"
      },
      "source": [
        "# Sample\n",
        "normal_distributions.sample(5)\n"
      ],
      "execution_count": 5,
      "outputs": [
        {
          "output_type": "execute_result",
          "data": {
            "text/plain": [
              "<tf.Tensor: shape=(5, 3, 2), dtype=float32, numpy=\n",
              "array([[[-1.2961674 , -3.4648843 ],\n",
              "        [-1.7259144 , -2.356639  ],\n",
              "        [-1.7776723 ,  0.9847862 ]],\n",
              "\n",
              "       [[ 0.8520931 ,  3.0043614 ],\n",
              "        [-1.4252505 ,  4.269158  ],\n",
              "        [ 2.541176  ,  0.38246575]],\n",
              "\n",
              "       [[ 0.0661459 ,  0.64083046],\n",
              "        [-1.6084905 , -3.1842263 ],\n",
              "        [ 2.0696645 , -1.9636502 ]],\n",
              "\n",
              "       [[ 0.6721385 ,  2.5767398 ],\n",
              "        [-1.1781933 , -0.02150659],\n",
              "        [-1.5799453 , -3.6013174 ]],\n",
              "\n",
              "       [[-1.9095645 , -0.96390367],\n",
              "        [ 0.1170806 , -1.9153602 ],\n",
              "        [ 0.15956835,  4.828182  ]]], dtype=float32)>"
            ]
          },
          "metadata": {
            "tags": []
          },
          "execution_count": 5
        }
      ]
    },
    {
      "cell_type": "code",
      "metadata": {
        "id": "w80M9ksdsgn3",
        "colab": {
          "base_uri": "https://localhost:8080/"
        },
        "outputId": "0386c59a-632e-4e24-b973-b73ea705f30d"
      },
      "source": [
        "# Multivariate Normal batched Distribution\n",
        "# We are broadcasting batch shapes of `loc` and `scal_diag` \n",
        "# against each other\n",
        "\n",
        "loc = [[[0.3, 1.5, 1.], [0.2, 0.4, 2.8]],\n",
        "        [[2., 2.3, 8], [1.4, 1, 1.3]]]\n",
        "scale_diag = [0.4, 1., 0.7]\n",
        "normal_distributions = tfd.MultivariateNormalDiag(loc=loc, scale_diag=scale_diag)\n",
        "normal_distributions"
      ],
      "execution_count": 6,
      "outputs": [
        {
          "output_type": "execute_result",
          "data": {
            "text/plain": [
              "<tfp.distributions.MultivariateNormalDiag 'MultivariateNormalDiag' batch_shape=[2, 2] event_shape=[3] dtype=float32>"
            ]
          },
          "metadata": {
            "tags": []
          },
          "execution_count": 6
        }
      ]
    },
    {
      "cell_type": "code",
      "metadata": {
        "id": "Y9uZwTbjsgn4",
        "colab": {
          "base_uri": "https://localhost:8080/"
        },
        "outputId": "aed6388a-103a-487f-a4bc-2d149b4d9f32"
      },
      "source": [
        "# Use independent to move part of the batch shape\n",
        "\n",
        "ind_normal_distributions=tfd.Independent(normal_distributions,\n",
        "                                         reinterpreted_batch_ndims=1)\n",
        "ind_normal_distributions"
      ],
      "execution_count": 7,
      "outputs": [
        {
          "output_type": "execute_result",
          "data": {
            "text/plain": [
              "<tfp.distributions.Independent 'IndependentMultivariateNormalDiag' batch_shape=[2] event_shape=[2, 3] dtype=float32>"
            ]
          },
          "metadata": {
            "tags": []
          },
          "execution_count": 7
        }
      ]
    },
    {
      "cell_type": "code",
      "metadata": {
        "id": "HVM4lq7Tsgn4",
        "colab": {
          "base_uri": "https://localhost:8080/"
        },
        "outputId": "f92061d3-6749-48c6-9177-b326f13c176e"
      },
      "source": [
        "# Draw some samples\n",
        "\n",
        "samples=ind_normal_distributions.sample(5)\n",
        "samples.shape"
      ],
      "execution_count": 8,
      "outputs": [
        {
          "output_type": "execute_result",
          "data": {
            "text/plain": [
              "TensorShape([5, 2, 2, 3])"
            ]
          },
          "metadata": {
            "tags": []
          },
          "execution_count": 8
        }
      ]
    },
    {
      "cell_type": "code",
      "metadata": {
        "id": "XMv3kGNksgn5",
        "colab": {
          "base_uri": "https://localhost:8080/"
        },
        "outputId": "eeddba0a-bd03-4ed2-d7f6-2decb9e24276"
      },
      "source": [
        "# `[B, E]` shaped input\n",
        "\n",
        "inp=tf.random.uniform((2,2,3))\n",
        "ind_normal_distributions.log_prob(inp)\n",
        "#the result is the batch size"
      ],
      "execution_count": 9,
      "outputs": [
        {
          "output_type": "execute_result",
          "data": {
            "text/plain": [
              "<tf.Tensor: shape=(2,), dtype=float32, numpy=array([-10.683702, -70.85609 ], dtype=float32)>"
            ]
          },
          "metadata": {
            "tags": []
          },
          "execution_count": 9
        }
      ]
    },
    {
      "cell_type": "code",
      "metadata": {
        "id": "2t0x9cLSsgn6",
        "colab": {
          "base_uri": "https://localhost:8080/"
        },
        "outputId": "a909e4d0-dcf2-4e21-f0fc-e4b94f9b20bd"
      },
      "source": [
        "# `[E]` shaped input (broadcasting over batch size)\n",
        "inp=tf.random.uniform((2,3))\n",
        "ind_normal_distributions.log_prob(inp)\n",
        "#the result is the batch size\n"
      ],
      "execution_count": 10,
      "outputs": [
        {
          "output_type": "execute_result",
          "data": {
            "text/plain": [
              "<tf.Tensor: shape=(2,), dtype=float32, numpy=array([ -9.249443, -75.61279 ], dtype=float32)>"
            ]
          },
          "metadata": {
            "tags": []
          },
          "execution_count": 10
        }
      ]
    },
    {
      "cell_type": "code",
      "metadata": {
        "id": "-cxhum6xsgn7",
        "colab": {
          "base_uri": "https://localhost:8080/"
        },
        "outputId": "f0fa9449-4f50-4ce3-bfaf-64090787cd60"
      },
      "source": [
        "#`[S, B, E]` shaped input (broadcasting over samples)\n",
        "inp=tf.random.uniform((9,2,2,3))\n",
        "ind_normal_distributions.log_prob(inp)\n",
        "#the result is (sample_size,batch_size)\n"
      ],
      "execution_count": 11,
      "outputs": [
        {
          "output_type": "execute_result",
          "data": {
            "text/plain": [
              "<tf.Tensor: shape=(9, 2), dtype=float32, numpy=\n",
              "array([[-12.21836 , -70.394684],\n",
              "       [ -7.264469, -85.92087 ],\n",
              "       [ -7.722307, -77.85683 ],\n",
              "       [-10.986505, -77.435074],\n",
              "       [-11.681156, -67.48659 ],\n",
              "       [ -9.741246, -68.502914],\n",
              "       [ -9.467726, -76.27688 ],\n",
              "       [-11.667308, -75.85168 ],\n",
              "       [-10.043331, -82.41718 ]], dtype=float32)>"
            ]
          },
          "metadata": {
            "tags": []
          },
          "execution_count": 11
        }
      ]
    },
    {
      "cell_type": "code",
      "metadata": {
        "id": "6uIkjUpMsgn8",
        "colab": {
          "base_uri": "https://localhost:8080/"
        },
        "outputId": "ea6bcc3c-be59-4142-e92d-e7ed54714c49"
      },
      "source": [
        "# `[S, b, e]` shaped input, where [b, e] is broadcastable over [B, E]\n",
        "inp=tf.random.uniform((5,1,2,1))\n",
        "ind_normal_distributions.log_prob(inp)\n",
        "#the result is (sample_size,batch_size)\n"
      ],
      "execution_count": 12,
      "outputs": [
        {
          "output_type": "execute_result",
          "data": {
            "text/plain": [
              "<tf.Tensor: shape=(5, 2), dtype=float32, numpy=\n",
              "array([[ -9.131046, -70.296005],\n",
              "       [-10.460278, -83.73175 ],\n",
              "       [-11.657809, -80.00502 ],\n",
              "       [-11.055916, -67.27801 ],\n",
              "       [-10.54241 , -82.90212 ]], dtype=float32)>"
            ]
          },
          "metadata": {
            "tags": []
          },
          "execution_count": 12
        }
      ]
    },
    {
      "cell_type": "markdown",
      "metadata": {
        "id": "WN0c2mTosgn-"
      },
      "source": [
        "#### Naive Bayes example\n",
        "\n",
        "Lets now use what we have learned and continue the Naive Bayes classifier we were building last tutorial."
      ]
    },
    {
      "cell_type": "markdown",
      "metadata": {
        "id": "agSEQnKW6NSq"
      },
      "source": [
        "#### Import the data\n",
        "\n",
        "The dataset required for this coding tutorial can be downloaded from the following link:\n",
        "\n",
        "https://drive.google.com/file/d/1ZdVZFZv3eEw3Duwjg4fvtYAsgySoCRIm/view?usp=sharing\n",
        "\n",
        "You should store this file in Drive for use in this Colab notebook."
      ]
    },
    {
      "cell_type": "code",
      "metadata": {
        "id": "FfMucVWr6NSr",
        "colab": {
          "base_uri": "https://localhost:8080/"
        },
        "outputId": "cd7e9f5c-42a2-4a68-b68d-34ba108098df"
      },
      "source": [
        "# Run this cell to connect to your Drive folder\n",
        "\n",
        "from google.colab import drive\n",
        "drive.mount('/content/gdrive')"
      ],
      "execution_count": 13,
      "outputs": [
        {
          "output_type": "stream",
          "text": [
            "Mounted at /content/gdrive\n"
          ],
          "name": "stdout"
        }
      ]
    },
    {
      "cell_type": "code",
      "metadata": {
        "id": "mdR-4dPcsgn_"
      },
      "source": [
        "from sklearn.datasets import fetch_20newsgroups\n",
        "from sklearn.feature_extraction.text import CountVectorizer\n",
        "from sklearn.naive_bayes import BernoulliNB\n",
        "from sklearn.metrics import f1_score"
      ],
      "execution_count": 14,
      "outputs": []
    },
    {
      "cell_type": "code",
      "metadata": {
        "id": "6Oqs907ysgoB"
      },
      "source": [
        "# Making a function get_data which:\n",
        "#   1) Fetches the 20 newsgroup dataset\n",
        "#   2) Performs a word count on the articles and binarizes the result\n",
        "#   3) Returns the data as a numpy matrix with the labels\n",
        "\n",
        "def get_data(categories):\n",
        "    \n",
        "    newsgroups_train_data = fetch_20newsgroups(data_home='/content/gdrive/MyDrive/Colab Notebooks/',\n",
        "                                               subset='train', categories=categories)\n",
        "    newsgroups_test_data = fetch_20newsgroups(data_home='/content/gdrive/MyDrive/Colab Notebooks/',\n",
        "                                              subset='test', categories=categories)\n",
        "\n",
        "    n_documents = len(newsgroups_test_data['data'])\n",
        "    count_vectorizer = CountVectorizer(input='content', binary=True,max_df=0.25, min_df=1.01/n_documents)\n",
        "    \n",
        "    train_binary_bag_of_words = count_vectorizer.fit_transform(newsgroups_train_data['data'])\n",
        "    test_binary_bag_of_words = count_vectorizer.transform(newsgroups_test_data['data']) \n",
        "\n",
        "    return (train_binary_bag_of_words.todense(), newsgroups_train_data['target']),  (test_binary_bag_of_words.todense(), newsgroups_test_data['target'])"
      ],
      "execution_count": 15,
      "outputs": []
    },
    {
      "cell_type": "code",
      "metadata": {
        "id": "oasCKIY4sgoC"
      },
      "source": [
        "# Defining a function to conduct Laplace smoothing. This adds a base level of probability for a given feature\n",
        "# to occur in every class.\n",
        "\n",
        "def laplace_smoothing(labels, binary_data, n_classes):\n",
        "    # Compute the parameter estimates (adjusted fraction of documents in class that contain word)\n",
        "    n_words = binary_data.shape[1]\n",
        "    alpha = 1 # parameters for Laplace smoothing\n",
        "    theta = np.zeros([n_classes, n_words]) # stores parameter values - prob. word given class\n",
        "    for c_k in range(n_classes): # 0, 1, ..., 19\n",
        "        class_mask = (labels == c_k)\n",
        "        N = class_mask.sum() # number of articles in class\n",
        "        theta[c_k, :] = (binary_data[class_mask, :].sum(axis=0) + alpha)/(N + alpha*2)\n",
        "\n",
        "    return theta"
      ],
      "execution_count": 16,
      "outputs": []
    },
    {
      "cell_type": "code",
      "metadata": {
        "id": "-_9fxEIdsgoD"
      },
      "source": [
        "# Getting a subset of the 20 newsgroup dataset\n",
        "\n",
        "categories = ['alt.atheism', 'talk.religion.misc', 'comp.graphics', 'sci.space']\n",
        "\n",
        "(train_data, train_labels), (test_data, test_labels) = get_data(categories=categories)\n",
        "smoothed_counts = laplace_smoothing(labels=train_labels, binary_data=train_data, n_classes=len(categories))"
      ],
      "execution_count": 17,
      "outputs": []
    },
    {
      "cell_type": "markdown",
      "metadata": {
        "id": "00DbbifVsgoD"
      },
      "source": [
        "To now make our NB classifier we need to build three functions:\n",
        "* Compute the class priors\n",
        "* Build our class conditional distributions\n",
        "* Put it all together and classify our data"
      ]
    },
    {
      "cell_type": "code",
      "metadata": {
        "id": "jiU1sFnHsgoE"
      },
      "source": [
        "# Function which computes the prior probability of every class based on frequency of occurence in \n",
        "# the dataset\n",
        "\n",
        "def class_priors(n_classes, labels):\n",
        "    counts = np.zeros(n_classes)\n",
        "    for c_k in range(n_classes):\n",
        "        counts[c_k] = np.sum(np.where(labels==c_k, 1, 0))\n",
        "    priors = counts / np.sum(counts)\n",
        "    print('The class priors are {}'.format(priors))\n",
        "    return priors"
      ],
      "execution_count": 18,
      "outputs": []
    },
    {
      "cell_type": "code",
      "metadata": {
        "id": "0SHV-BzgsgoF",
        "colab": {
          "base_uri": "https://localhost:8080/"
        },
        "outputId": "2d834f21-6133-4a9c-c9a6-2f895e2683b7"
      },
      "source": [
        "# Run the function \n",
        "\n",
        "priors=class_priors(len(categories),train_labels)"
      ],
      "execution_count": 19,
      "outputs": [
        {
          "output_type": "stream",
          "text": [
            "The class priors are [0.2359882  0.28711898 0.29154376 0.18534907]\n"
          ],
          "name": "stdout"
        }
      ]
    },
    {
      "cell_type": "code",
      "metadata": {
        "id": "yWZaIj2YsgoF",
        "colab": {
          "base_uri": "https://localhost:8080/"
        },
        "outputId": "51fbfe67-2752-45a9-e1af-e3249c3e07ac"
      },
      "source": [
        "# Now we will do a function that given the feature occurence counts returns a Bernoulli distribution of \n",
        "# batch_shape=number of classes and event_shape=number of features.\n",
        "\n",
        "def make_distribution(probs):\n",
        "    batch_of_bernoullis=tfd.Bernoulli(probs=probs)\n",
        "    dist=tfd.Independent(batch_of_bernoullis, reinterpreted_batch_ndims=1)\n",
        "    return dist\n",
        "\n",
        "tf_dist=make_distribution(smoothed_counts)\n",
        "tf_dist"
      ],
      "execution_count": 20,
      "outputs": [
        {
          "output_type": "execute_result",
          "data": {
            "text/plain": [
              "<tfp.distributions.Independent 'IndependentBernoulli' batch_shape=[4] event_shape=[17495] dtype=int32>"
            ]
          },
          "metadata": {
            "tags": []
          },
          "execution_count": 20
        }
      ]
    },
    {
      "cell_type": "code",
      "metadata": {
        "id": "KzqiG4LYsgoI"
      },
      "source": [
        "# The final function predict_sample which given the distribution, a test sample, and the class priors:\n",
        "#   1) Computes the class conditional probabilities given the sample\n",
        "#   2) Forms the joint likelihood\n",
        "#   3) Normalises the joint likelihood and returns the log prob\n",
        "def predict_sample(dist,sample,priors):\n",
        "    con_probs=dist.log_prob(sample)\n",
        "    joint_likelihood=tf.add(np.log(priors),con_probs)\n",
        "    norm_factor=tf.math.reduce_logsumexp(joint_likelihood,axis=-1,keepdims=True)\n",
        "    log_prob=joint_likelihood-norm_factor\n",
        "    return log_prob\n"
      ],
      "execution_count": 21,
      "outputs": []
    },
    {
      "cell_type": "markdown",
      "metadata": {
        "id": "8kTjEmFysgoJ"
      },
      "source": [
        "#### Computing log_probs"
      ]
    },
    {
      "cell_type": "code",
      "metadata": {
        "id": "rXimNT4csgoJ",
        "colab": {
          "base_uri": "https://localhost:8080/"
        },
        "outputId": "389161d8-12f5-47e4-a446-3e441c24bcb5"
      },
      "source": [
        "# Predicting one example from our test data\n",
        "log_probs=predict_sample(tf_dist,test_data[0],priors)\n",
        "log_probs\n"
      ],
      "execution_count": 22,
      "outputs": [
        {
          "output_type": "execute_result",
          "data": {
            "text/plain": [
              "<tf.Tensor: shape=(4,), dtype=float32, numpy=\n",
              "array([-6.1736359e+01, -1.5258789e-05, -1.1619873e+01, -6.3327652e+01],\n",
              "      dtype=float32)>"
            ]
          },
          "metadata": {
            "tags": []
          },
          "execution_count": 22
        }
      ]
    },
    {
      "cell_type": "code",
      "metadata": {
        "id": "kU5TbCt4sgoK",
        "colab": {
          "base_uri": "https://localhost:8080/"
        },
        "outputId": "370d6036-a9cd-4eb4-e8e0-15b8cf926ed6"
      },
      "source": [
        "# Loop over our test data and classify.\n",
        "\n",
        "probabilities = []\n",
        "for sample, label in zip(test_data, test_labels):\n",
        "    probabilities.append(tf.exp(predict_sample(tf_dist, sample, priors)))\n",
        "\n",
        "probabilities = np.asarray(probabilities)\n",
        "predicted_classes = np.argmax(probabilities, axis =-1)\n",
        "print('f1 ', f1_score(test_labels, predicted_classes, average='macro'))"
      ],
      "execution_count": 23,
      "outputs": [
        {
          "output_type": "stream",
          "text": [
            "f1  0.7848499112849504\n"
          ],
          "name": "stdout"
        }
      ]
    },
    {
      "cell_type": "code",
      "metadata": {
        "id": "mivNa-lwsgoK",
        "colab": {
          "base_uri": "https://localhost:8080/"
        },
        "outputId": "ed2a70c1-b884-48c5-f126-8b28d8214855"
      },
      "source": [
        "# Make a Bernoulli Naive Bayes classifier using sklearn with the same level of alpha smoothing. \n",
        "\n",
        "clf = BernoulliNB(alpha=1)\n",
        "clf.fit(train_data, train_labels)\n",
        "pred = clf.predict(test_data)\n",
        "print('f1 from sklean ', f1_score(test_labels, pred, average='macro'))"
      ],
      "execution_count": 24,
      "outputs": [
        {
          "output_type": "stream",
          "text": [
            "f1 from sklean  0.7848499112849504\n"
          ],
          "name": "stdout"
        }
      ]
    },
    {
      "cell_type": "markdown",
      "metadata": {
        "id": "ycDlIEiGsgoM"
      },
      "source": [
        "***\n",
        "<a id='trainable_distributions'></a>\n",
        "## Trainable Distributions"
      ]
    },
    {
      "cell_type": "markdown",
      "metadata": {
        "id": "3mg2sCfP6baJ"
      },
      "source": [
        "#### Import the data\n",
        "\n",
        "The dataset required for this coding tutorial can be downloaded from the following link:\n",
        "\n",
        "https://drive.google.com/file/d/1ZdVZFZv3eEw3Duwjg4fvtYAsgySoCRIm/view?usp=sharing\n",
        "\n",
        "You should store this file in Drive for use in this Colab notebook."
      ]
    },
    {
      "cell_type": "code",
      "metadata": {
        "id": "P7mRZlWE6baL"
      },
      "source": [
        "# Run this cell to connect to your Drive folder\n",
        "\n",
        "from google.colab import drive\n",
        "drive.mount('/content/gdrive')"
      ],
      "execution_count": null,
      "outputs": []
    },
    {
      "cell_type": "code",
      "metadata": {
        "id": "LD0A3yan6e3L"
      },
      "source": [
        "from sklearn.datasets import fetch_20newsgroups\n",
        "from sklearn.feature_extraction.text import CountVectorizer\n",
        "from sklearn.naive_bayes import BernoulliNB\n",
        "from sklearn.metrics import f1_score"
      ],
      "execution_count": 25,
      "outputs": []
    },
    {
      "cell_type": "code",
      "metadata": {
        "id": "Vqb5nOE8sgoN"
      },
      "source": [
        "# Define an exponential distribution\n",
        "exponential=tfd.Exponential(rate=0.3,name='exp')\n"
      ],
      "execution_count": 26,
      "outputs": []
    },
    {
      "cell_type": "code",
      "metadata": {
        "id": "J117CKjnsgoO",
        "colab": {
          "base_uri": "https://localhost:8080/",
          "height": 267
        },
        "outputId": "d7d8f7a6-ba2d-4331-9d7e-6d76cf46d125"
      },
      "source": [
        "# Plot\n",
        "\n",
        "plt.hist(exponential.sample(5000), bins=100, density=True)\n",
        "plt.show()"
      ],
      "execution_count": 27,
      "outputs": [
        {
          "output_type": "display_data",
          "data": {
            "image/png": "[encoded data removed]",
            "text/plain": [
              "<Figure size 432x288 with 1 Axes>"
            ]
          },
          "metadata": {
            "tags": [],
            "needs_background": "light"
          }
        }
      ]
    },
    {
      "cell_type": "code",
      "metadata": {
        "id": "v0OfEcDisgoP",
        "colab": {
          "base_uri": "https://localhost:8080/"
        },
        "outputId": "4c31b18f-d025-4960-b866-fcc9fd4a2675"
      },
      "source": [
        "# Define an exponential distribution with a trainable rate parameter\n",
        "exp_train=tfd.Exponential(rate=tf.Variable(1.,name='rate'),name='exp_train')\n",
        "exp_train.trainable_variables\n"
      ],
      "execution_count": 28,
      "outputs": [
        {
          "output_type": "execute_result",
          "data": {
            "text/plain": [
              "(<tf.Variable 'rate:0' shape=() dtype=float32, numpy=1.0>,)"
            ]
          },
          "metadata": {
            "tags": []
          },
          "execution_count": 28
        }
      ]
    },
    {
      "cell_type": "code",
      "metadata": {
        "id": "uKCuuoT8sgoQ"
      },
      "source": [
        "# Define the negative log likelihood\n",
        "def nll(x_train,distribution):\n",
        "    return -tf.reduce_mean(distribution.log_prob(x_train))\n"
      ],
      "execution_count": 29,
      "outputs": []
    },
    {
      "cell_type": "code",
      "metadata": {
        "id": "_IVhv4HjsgoR"
      },
      "source": [
        "# Define a function to compute the loss and gradients\n",
        "\n",
        "@tf.function\n",
        "def get_loss_and_grads(x_train,distribution):\n",
        "    with tf.GradientTape() as tape:\n",
        "        tape.watch(distribution.trainable_variables)\n",
        "        loss=nll(x_train,distribution)\n",
        "        grads=tape.gradient(loss,distribution.trainable_variables)\n",
        "    return loss,grads"
      ],
      "execution_count": 30,
      "outputs": []
    },
    {
      "cell_type": "code",
      "metadata": {
        "id": "z4n7PHwTsgoS"
      },
      "source": [
        "# Optimize\n",
        "\n",
        "def exponential_dist_optimisation(data, distribution):\n",
        "\n",
        "    # Keep results for plotting\n",
        "    train_loss_results = []\n",
        "    train_rate_results = []\n",
        "    \n",
        "    optimizer = tf.keras.optimizers.SGD(learning_rate=0.05)\n",
        "\n",
        "    num_steps = 10\n",
        "\n",
        "    for i in range(num_steps):\n",
        "        loss,grads=get_loss_and_grads(data,distribution)\n",
        "        optimizer.apply_gradients(zip(grads,distribution.trainable_variables))\n",
        "\n",
        "        rate_value=distribution.rate.value()\n",
        "        train_loss_results.append(loss)\n",
        "        train_rate_results.append(rate_value)\n",
        "\n",
        "        print(\"Step {:03d}: Loss: {:.3f}: Rate: {:.3f}\".format(i,loss,rate_value))\n",
        "        \n",
        "    return train_loss_results, train_rate_results"
      ],
      "execution_count": 33,
      "outputs": []
    },
    {
      "cell_type": "code",
      "metadata": {
        "id": "cotOTqvysgoT",
        "colab": {
          "base_uri": "https://localhost:8080/"
        },
        "outputId": "a52a9898-6058-4b14-df9d-fa2ec3d15932"
      },
      "source": [
        "# Get some data and train\n",
        "\n",
        "sampled_data=exponential.sample(5000)\n",
        "train_loss_results, train_rate_results=exponential_dist_optimisation(sampled_data, exp_train)"
      ],
      "execution_count": 34,
      "outputs": [
        {
          "output_type": "stream",
          "text": [
            "Step 000: Loss: 3.387: Rate: 0.881\n",
            "Step 001: Loss: 3.110: Rate: 0.768\n",
            "Step 002: Loss: 2.865: Rate: 0.664\n",
            "Step 003: Loss: 2.658: Rate: 0.570\n",
            "Step 004: Loss: 2.492: Rate: 0.488\n",
            "Step 005: Loss: 2.371: Rate: 0.421\n",
            "Step 006: Loss: 2.291: Rate: 0.371\n",
            "Step 007: Loss: 2.248: Rate: 0.336\n",
            "Step 008: Loss: 2.229: Rate: 0.316\n",
            "Step 009: Loss: 2.222: Rate: 0.305\n"
          ],
          "name": "stdout"
        }
      ]
    },
    {
      "cell_type": "code",
      "metadata": {
        "id": "ZqWmf0xAsgoU",
        "colab": {
          "base_uri": "https://localhost:8080/"
        },
        "outputId": "a6ef96a0-fc2b-41bb-8219-cd9c744ad1b2"
      },
      "source": [
        "# Predicted value for the rate parameter\n",
        "\n",
        "pred_value = exp_train.rate.numpy()\n",
        "exact_value = exponential.rate.numpy()\n",
        "\n",
        "print(\"Exact rate: \", exact_value)\n",
        "print(\"Pred rate:  \", pred_value)"
      ],
      "execution_count": 35,
      "outputs": [
        {
          "output_type": "stream",
          "text": [
            "Exact rate:  0.3\n",
            "Pred rate:   0.3046331\n"
          ],
          "name": "stdout"
        }
      ]
    },
    {
      "cell_type": "code",
      "metadata": {
        "id": "9GTcRseZsgoV",
        "colab": {
          "base_uri": "https://localhost:8080/",
          "height": 558
        },
        "outputId": "94987e38-5866-4667-d3b1-d185e967bdd2"
      },
      "source": [
        "# Plot to see the convergence of the estimated and true parameters\n",
        "\n",
        "tensor_exact_value = tf.constant(exact_value, shape=[len(train_rate_results)])\n",
        "\n",
        "fig, axes = plt.subplots(2, sharex=True, figsize=(12, 8))\n",
        "fig.suptitle('Convergence')\n",
        "\n",
        "axes[0].set_ylabel(\"Loss\", fontsize=14)\n",
        "axes[0].plot(train_loss_results)\n",
        "\n",
        "axes[1].set_ylabel(\"Rate\", fontsize=14)\n",
        "axes[1].set_xlabel(\"Epoch\", fontsize=14)\n",
        "axes[1].plot(train_rate_results, label='trainable rate variable')\n",
        "axes[1].plot(tensor_exact_value, label='exact rate')\n",
        "axes[1].legend()\n",
        "plt.show()"
      ],
      "execution_count": 36,
      "outputs": [
        {
          "output_type": "display_data",
          "data": {
            "image/png": "[encoded data removed]",
            "text/plain": [
              "<Figure size 864x576 with 2 Axes>"
            ]
          },
          "metadata": {
            "tags": [],
            "needs_background": "light"
          }
        }
      ]
    },
    {
      "cell_type": "code",
      "metadata": {
        "id": "a6BPCYP0sgoW"
      },
      "source": [
        "# Making a function get_data which:\n",
        "#   1) Fetches the 20 newsgroup dataset\n",
        "#   2) Performs a word count on the articles and binarizes the result\n",
        "#   3) Returns the data as a numpy matrix with the labels\n",
        "\n",
        "def get_data(categories):\n",
        "\n",
        "    newsgroups_train_data = fetch_20newsgroups(data_home='/content/gdrive/MyDrive/Colab Notebooks/',\n",
        "                                               subset='train', categories=categories)\n",
        "    newsgroups_test_data = fetch_20newsgroups(data_home='/content/gdrive/MyDrive/Colab Notebooks/',\n",
        "                                              subset='test', categories=categories)\n",
        "\n",
        "    n_documents = len(newsgroups_test_data['data'])\n",
        "    count_vectorizer = CountVectorizer(input='content', binary=True,max_df=0.25, min_df=1.01/n_documents) \n",
        "    train_binary_bag_of_words = count_vectorizer.fit_transform(newsgroups_train_data['data']) \n",
        "    test_binary_bag_of_words = count_vectorizer.transform(newsgroups_test_data['data']) \n",
        "\n",
        "    return (train_binary_bag_of_words.todense(), newsgroups_train_data['target']),  (test_binary_bag_of_words.todense(), newsgroups_test_data['target'])\n"
      ],
      "execution_count": 37,
      "outputs": []
    },
    {
      "cell_type": "code",
      "metadata": {
        "id": "vuPOJhMSsgoX"
      },
      "source": [
        "# Defining a function to conduct laplace smoothing. This adds a base level of probability for a given feature\n",
        "# to occur in every class.\n",
        "\n",
        "def laplace_smoothing(labels, binary_data, n_classes):\n",
        "    # Compute the parameter estimates (adjusted fraction of documents in class that contain word)\n",
        "    n_words = binary_data.shape[1]\n",
        "    alpha = 1 # parameters for Laplace smoothing\n",
        "    theta = np.zeros([n_classes, n_words]) # stores parameter values - prob. word given class\n",
        "    for c_k in range(n_classes): # 0, 1, ..., 19\n",
        "        class_mask = (labels == c_k)\n",
        "        N = class_mask.sum() # number of articles in class\n",
        "        theta[c_k, :] = (binary_data[class_mask, :].sum(axis=0) + alpha)/(N + alpha*2)\n",
        "\n",
        "    return theta"
      ],
      "execution_count": 38,
      "outputs": []
    },
    {
      "cell_type": "code",
      "metadata": {
        "id": "JgS2YLkRsgoY"
      },
      "source": [
        "# Now we will do a function that given the feature occurence counts returns a Bernoulli distribution of \n",
        "# batch_shape=number of classes and event_shape=number of features.\n",
        "\n",
        "def make_distributions(probs):\n",
        "    batch_of_bernoullis = tfd.Bernoulli(probs=probs) # shape (n_classes, n_words)\n",
        "    dist = tfd.Independent(batch_of_bernoullis, reinterpreted_batch_ndims=1)\n",
        "    return dist"
      ],
      "execution_count": 43,
      "outputs": []
    },
    {
      "cell_type": "code",
      "metadata": {
        "id": "RFjiXwYLsgoZ"
      },
      "source": [
        "# Function which computes the prior probability of every class based on frequency of occurence in \n",
        "# the dataset\n",
        "\n",
        "def class_priors(n_classes, labels):\n",
        "    counts = np.zeros(n_classes)\n",
        "    for c_k in range(n_classes):\n",
        "        counts[c_k] = np.sum(np.where(labels==c_k, 1, 0))\n",
        "    priors = counts / np.sum(counts)\n",
        "    print('The class priors are {}'.format(priors))\n",
        "    return priors"
      ],
      "execution_count": 39,
      "outputs": []
    },
    {
      "cell_type": "code",
      "metadata": {
        "id": "lAFUAq9fsgoa"
      },
      "source": [
        "# The final function predict_sample which given the distribution, a test sample, and the class priors:\n",
        "#   1) Computes the class conditional probabilities given the sample\n",
        "#   2) Forms the joint likelihood\n",
        "#   3) Normalises the joint likelihood and returns the log prob\n",
        "\n",
        "def predict_sample(dist, sample, priors):\n",
        "    cond_probs = dist.log_prob(sample)\n",
        "    joint_likelihood = tf.add(np.log(priors), cond_probs)\n",
        "    norm_factor = tf.math.reduce_logsumexp(joint_likelihood, axis=-1, keepdims=True)\n",
        "    log_prob = joint_likelihood - norm_factor\n",
        "\n",
        "    return log_prob"
      ],
      "execution_count": 40,
      "outputs": []
    },
    {
      "cell_type": "code",
      "metadata": {
        "id": "wHn68l5isgob"
      },
      "source": [
        "# Now we learn the distribution using gradient tape\n",
        "\n",
        "def make_distribution_withGT(data, labels, nb_classes):\n",
        "\n",
        "    class_data = []\n",
        "    train_vars = []\n",
        "    distributions = []\n",
        "    for c in range(nb_classes):\n",
        "        train_vars.append(tf.Variable(initial_value=np.random.uniform(low=0.01, high =0.1, size=data.shape[-1])))\n",
        "        distributions.append(tfd.Bernoulli(probs=train_vars[c]))\n",
        "        class_mask = (labels == c)\n",
        "        class_data.append(data[class_mask, :])\n",
        "\n",
        "    for c_num in range(0,nb_classes):\n",
        "        optimizer = tf.keras.optimizers.Adam()\n",
        "        print('\\n%-------------------%')\n",
        "        print('Class ', c_num)\n",
        "        print('%-------------------%')\n",
        "\n",
        "        for i in range(0,100):\n",
        "            loss,grads=get_loss_and_grads(class_data[c_num],distributions[c_num])\n",
        "            if i%10==0:\n",
        "                print('iter: {} loss: {}'.format(i,loss))\n",
        "            optimizer.apply_gradients(zip(grads,distributions[c_num].trainable_variables))\n",
        "            eta=1e-3\n",
        "            clipped_probs=tf.clip_by_value(distributions[c_num].trainable_variables, clip_value_min=eta, clip_value_max=1)\n",
        "            train_vars[c_num]=tf.squeeze(clipped_probs)\n",
        "\n",
        "    dist = tfd.Bernoulli(probs=train_vars)\n",
        "    dist = tfd.Independent(dist,reinterpreted_batch_ndims=1)\n",
        "\n",
        "    print(dist)\n",
        "\n",
        "    return dist\n"
      ],
      "execution_count": 41,
      "outputs": []
    },
    {
      "cell_type": "code",
      "metadata": {
        "id": "KMjiHt37sgoc",
        "colab": {
          "base_uri": "https://localhost:8080/"
        },
        "outputId": "1c12bc10-f0c9-4011-85f0-4af60584acc3"
      },
      "source": [
        "# Make the same Naive Bayes classifier we did last tutorial\n",
        "\n",
        "categories = ['alt.atheism', 'talk.religion.misc', 'comp.graphics', 'sci.space']\n",
        "\n",
        "(train_data, train_labels), (test_data, test_labels) = get_data(categories)\n",
        "\n",
        "smoothed_counts = laplace_smoothing(labels=train_labels, binary_data=train_data, n_classes=len(categories))\n",
        "\n",
        "priors = class_priors(n_classes=len(categories), labels=train_labels)\n",
        "tf_dist = make_distributions(smoothed_counts)"
      ],
      "execution_count": 44,
      "outputs": [
        {
          "output_type": "stream",
          "text": [
            "The class priors are [0.2359882  0.28711898 0.29154376 0.18534907]\n"
          ],
          "name": "stdout"
        }
      ]
    },
    {
      "cell_type": "code",
      "metadata": {
        "id": "y3VKgbtusgoc",
        "colab": {
          "base_uri": "https://localhost:8080/"
        },
        "outputId": "161a2ae8-3930-4576-bf3f-bc81a2a95188"
      },
      "source": [
        "# Now train the distributions with gradient tape\n",
        "\n",
        "GT_dist = make_distribution_withGT(data=train_data, labels=train_labels, nb_classes=4)"
      ],
      "execution_count": 45,
      "outputs": [
        {
          "output_type": "stream",
          "text": [
            "\n",
            "%-------------------%\n",
            "Class  0\n",
            "%-------------------%\n",
            "iter: 0 loss: 0.07845792136768799\n",
            "iter: 10 loss: 0.06904288424216058\n",
            "iter: 20 loss: 0.060271635238582755\n",
            "iter: 30 loss: 0.05216156585499296\n",
            "iter: 40 loss: 0.0446750189721305\n",
            "iter: 50 loss: 0.03776291030912132\n",
            "iter: 60 loss: 0.031372688456264855\n",
            "iter: 70 loss: 0.02546493089913112\n",
            "iter: 80 loss: 0.01998869704263363\n",
            "iter: 90 loss: 0.014904298123728139\n",
            "\n",
            "%-------------------%\n",
            "Class  1\n",
            "%-------------------%\n",
            "iter: 0 loss: 0.0716571518485701\n",
            "iter: 10 loss: 0.06231133035654229\n",
            "iter: 20 loss: 0.053500014209828736\n",
            "iter: 30 loss: 0.045298762909670894\n",
            "iter: 40 loss: 0.03769668804016487\n",
            "iter: 50 loss: 0.030671298947288136\n",
            "iter: 60 loss: 0.024179690289066854\n",
            "iter: 70 loss: 0.018196702576741927\n",
            "iter: 80 loss: 0.012673967370542615\n",
            "iter: 90 loss: 0.007569567872936136\n",
            "\n",
            "%-------------------%\n",
            "Class  2\n",
            "%-------------------%\n",
            "iter: 0 loss: 0.07819556633536805\n",
            "iter: 10 loss: 0.06910135427186982\n",
            "iter: 20 loss: 0.06074419463297606\n",
            "iter: 30 loss: 0.053148607308466995\n",
            "iter: 40 loss: 0.046257107257167134\n",
            "iter: 50 loss: 0.04002490514610469\n",
            "iter: 60 loss: 0.034391649038488216\n",
            "iter: 70 loss: 0.029316235930844644\n",
            "iter: 80 loss: 0.024752809313596157\n",
            "iter: 90 loss: 0.020631015091958263\n",
            "\n",
            "%-------------------%\n",
            "Class  3\n",
            "%-------------------%\n",
            "iter: 0 loss: 0.07996119893070584\n",
            "iter: 10 loss: 0.07067692883474468\n",
            "iter: 20 loss: 0.062039256693269686\n",
            "iter: 30 loss: 0.05404658344998486\n",
            "iter: 40 loss: 0.0466356343401518\n",
            "iter: 50 loss: 0.03977402804365512\n",
            "iter: 60 loss: 0.0334114235531457\n",
            "iter: 70 loss: 0.027506382541602675\n",
            "iter: 80 loss: 0.02201809557606763\n",
            "iter: 90 loss: 0.016898603783100548\n",
            "tfp.distributions.Independent(\"IndependentBernoulli\", batch_shape=[4], event_shape=[17495], dtype=int32)\n"
          ],
          "name": "stdout"
        }
      ]
    },
    {
      "cell_type": "code",
      "metadata": {
        "id": "EDliliYSsgod",
        "colab": {
          "base_uri": "https://localhost:8080/"
        },
        "outputId": "851a5125-d8fd-418a-8f58-1d1b2501be27"
      },
      "source": [
        "# Compare the two results\n",
        "\n",
        "for dist in [GT_dist,tf_dist]:\n",
        "    probabilities = []\n",
        "    for sample, label in zip(test_data, test_labels):\n",
        "        probabilities.append(predict_sample(dist, sample, priors))\n",
        "\n",
        "    probabilities = np.asarray(probabilities)\n",
        "    predicted_classes = np.argmax(probabilities, axis =-1)\n",
        "    print('f1 ', f1_score(test_labels, predicted_classes, average='macro'))"
      ],
      "execution_count": 46,
      "outputs": [
        {
          "output_type": "stream",
          "text": [
            "f1  0.8296967751046416\n",
            "f1  0.7848499112849504\n"
          ],
          "name": "stdout"
        }
      ]
    }
  ]
}